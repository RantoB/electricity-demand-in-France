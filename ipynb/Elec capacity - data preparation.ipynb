{
 "cells": [
  {
   "cell_type": "markdown",
   "metadata": {},
   "source": [
    "# Parc region annuel de production filiere\n",
    "## Electrical power capacity per region from 2008 to 2019\n",
    "## Data preparation "
   ]
  },
  {
   "cell_type": "markdown",
   "metadata": {},
   "source": [
    "### Librairies"
   ]
  },
  {
   "cell_type": "code",
   "execution_count": 2,
   "metadata": {},
   "outputs": [],
   "source": [
    "import os\n",
    "import requests\n",
    "import json\n",
    "import pandas as pd\n",
    "import geopandas as gpd\n",
    "import pickle"
   ]
  },
  {
   "cell_type": "markdown",
   "metadata": {},
   "source": [
    "### Upload and save datasets"
   ]
  },
  {
   "cell_type": "code",
   "execution_count": 3,
   "metadata": {},
   "outputs": [
    {
     "data": {
      "text/plain": [
       "'Save DataFrame'"
      ]
     },
     "execution_count": 3,
     "metadata": {},
     "output_type": "execute_result"
    }
   ],
   "source": [
    "'''Load the json file from the API '''\n",
    "# response = requests.get('https://opendata.reseaux-energies.fr/api/v2/catalog/datasets/parc-region-annuel-production-filiere/exports/json?rows=-1&pretty=false&timezone=UTC')\n",
    "\n",
    "'''Save Json file'''\n",
    "# json_file = os.path.join('..', 'data', 'parc-region-annuel-production-filiere.json')\n",
    "# with open(json_file, 'w') as f:\n",
    "#     json.dump(response.json(), f)\n",
    "\n",
    "'''Convert json to DataFRame'''\n",
    "# df = pd.DataFrame(response.json())\n",
    "\n",
    "'''Save DataFrame'''\n",
    "# filename = os.path.join('..', 'data', 'parc-region-annuel-production-filiere.df')\n",
    "# df.to_pickle(filename)"
   ]
  },
  {
   "cell_type": "markdown",
   "metadata": {},
   "source": [
    "### Load dataset from local directory"
   ]
  },
  {
   "cell_type": "code",
   "execution_count": 4,
   "metadata": {},
   "outputs": [],
   "source": [
    "df_name = os.path.join('..', 'raw-data', 'parc-region-annuel-production-filiere.geojson')\n",
    "df = gpd.read_file(df_name)"
   ]
  },
  {
   "cell_type": "code",
   "execution_count": 5,
   "metadata": {},
   "outputs": [],
   "source": [
    "geojsonfile = os.path.join('..', 'raw-data', 'regions-version-simplifiee.geojson')\n",
    "gdf = gpd.read_file(geojsonfile)"
   ]
  },
  {
   "cell_type": "code",
   "execution_count": 6,
   "metadata": {},
   "outputs": [
    {
     "data": {
      "text/html": [
       "<div>\n",
       "<style scoped>\n",
       "    .dataframe tbody tr th:only-of-type {\n",
       "        vertical-align: middle;\n",
       "    }\n",
       "\n",
       "    .dataframe tbody tr th {\n",
       "        vertical-align: top;\n",
       "    }\n",
       "\n",
       "    .dataframe thead th {\n",
       "        text-align: right;\n",
       "    }\n",
       "</style>\n",
       "<table border=\"1\" class=\"dataframe\">\n",
       "  <thead>\n",
       "    <tr style=\"text-align: right;\">\n",
       "      <th></th>\n",
       "      <th>parc_eolien_mw</th>\n",
       "      <th>code_insee_region</th>\n",
       "      <th>parc_solaire_mw</th>\n",
       "      <th>parc_thermique_fossile_mw</th>\n",
       "      <th>region</th>\n",
       "      <th>parc_nucleaire_mw</th>\n",
       "      <th>parc_hydraulique_mw</th>\n",
       "      <th>annee</th>\n",
       "      <th>parc_bioenergies_mw</th>\n",
       "      <th>geometry</th>\n",
       "    </tr>\n",
       "  </thead>\n",
       "  <tbody>\n",
       "    <tr>\n",
       "      <th>0</th>\n",
       "      <td>611.0</td>\n",
       "      <td>44</td>\n",
       "      <td>3.0</td>\n",
       "      <td>3585.0</td>\n",
       "      <td>Grand-Est</td>\n",
       "      <td>12580.0</td>\n",
       "      <td>2350.0</td>\n",
       "      <td>2008</td>\n",
       "      <td>71.0</td>\n",
       "      <td>POLYGON ((7.57822 48.12144, 7.57795 48.12067, ...</td>\n",
       "    </tr>\n",
       "    <tr>\n",
       "      <th>1</th>\n",
       "      <td>572.0</td>\n",
       "      <td>76</td>\n",
       "      <td>19.0</td>\n",
       "      <td>1651.0</td>\n",
       "      <td>Occitanie</td>\n",
       "      <td>2750.0</td>\n",
       "      <td>5378.0</td>\n",
       "      <td>2008</td>\n",
       "      <td>99.0</td>\n",
       "      <td>MULTIPOLYGON (((4.10162 43.55436, 4.10101 43.5...</td>\n",
       "    </tr>\n",
       "    <tr>\n",
       "      <th>2</th>\n",
       "      <td>462.0</td>\n",
       "      <td>53</td>\n",
       "      <td>11.0</td>\n",
       "      <td>644.0</td>\n",
       "      <td>Bretagne</td>\n",
       "      <td>NaN</td>\n",
       "      <td>276.0</td>\n",
       "      <td>2009</td>\n",
       "      <td>31.0</td>\n",
       "      <td>MULTIPOLYGON (((-1.94715 48.53889, -1.94730 48...</td>\n",
       "    </tr>\n",
       "    <tr>\n",
       "      <th>3</th>\n",
       "      <td>92.0</td>\n",
       "      <td>27</td>\n",
       "      <td>30.0</td>\n",
       "      <td>664.0</td>\n",
       "      <td>Bourgogne-Franche-Comté</td>\n",
       "      <td>NaN</td>\n",
       "      <td>513.0</td>\n",
       "      <td>2010</td>\n",
       "      <td>29.0</td>\n",
       "      <td>POLYGON ((6.94079 47.43332, 6.94066 47.43102, ...</td>\n",
       "    </tr>\n",
       "    <tr>\n",
       "      <th>4</th>\n",
       "      <td>19.0</td>\n",
       "      <td>11</td>\n",
       "      <td>49.0</td>\n",
       "      <td>5310.0</td>\n",
       "      <td>Ile-de-France</td>\n",
       "      <td>NaN</td>\n",
       "      <td>17.0</td>\n",
       "      <td>2011</td>\n",
       "      <td>284.0</td>\n",
       "      <td>POLYGON ((1.60962 49.07770, 1.61075 49.07799, ...</td>\n",
       "    </tr>\n",
       "  </tbody>\n",
       "</table>\n",
       "</div>"
      ],
      "text/plain": [
       "   parc_eolien_mw code_insee_region  parc_solaire_mw  \\\n",
       "0           611.0                44              3.0   \n",
       "1           572.0                76             19.0   \n",
       "2           462.0                53             11.0   \n",
       "3            92.0                27             30.0   \n",
       "4            19.0                11             49.0   \n",
       "\n",
       "   parc_thermique_fossile_mw                   region  parc_nucleaire_mw  \\\n",
       "0                     3585.0                Grand-Est            12580.0   \n",
       "1                     1651.0                Occitanie             2750.0   \n",
       "2                      644.0                 Bretagne                NaN   \n",
       "3                      664.0  Bourgogne-Franche-Comté                NaN   \n",
       "4                     5310.0            Ile-de-France                NaN   \n",
       "\n",
       "   parc_hydraulique_mw annee  parc_bioenergies_mw  \\\n",
       "0               2350.0  2008                 71.0   \n",
       "1               5378.0  2008                 99.0   \n",
       "2                276.0  2009                 31.0   \n",
       "3                513.0  2010                 29.0   \n",
       "4                 17.0  2011                284.0   \n",
       "\n",
       "                                            geometry  \n",
       "0  POLYGON ((7.57822 48.12144, 7.57795 48.12067, ...  \n",
       "1  MULTIPOLYGON (((4.10162 43.55436, 4.10101 43.5...  \n",
       "2  MULTIPOLYGON (((-1.94715 48.53889, -1.94730 48...  \n",
       "3  POLYGON ((6.94079 47.43332, 6.94066 47.43102, ...  \n",
       "4  POLYGON ((1.60962 49.07770, 1.61075 49.07799, ...  "
      ]
     },
     "execution_count": 6,
     "metadata": {},
     "output_type": "execute_result"
    }
   ],
   "source": [
    "df.head()"
   ]
  },
  {
   "cell_type": "code",
   "execution_count": 7,
   "metadata": {},
   "outputs": [
    {
     "data": {
      "text/html": [
       "<div>\n",
       "<style scoped>\n",
       "    .dataframe tbody tr th:only-of-type {\n",
       "        vertical-align: middle;\n",
       "    }\n",
       "\n",
       "    .dataframe tbody tr th {\n",
       "        vertical-align: top;\n",
       "    }\n",
       "\n",
       "    .dataframe thead th {\n",
       "        text-align: right;\n",
       "    }\n",
       "</style>\n",
       "<table border=\"1\" class=\"dataframe\">\n",
       "  <thead>\n",
       "    <tr style=\"text-align: right;\">\n",
       "      <th></th>\n",
       "      <th>code</th>\n",
       "      <th>nom</th>\n",
       "      <th>geometry</th>\n",
       "    </tr>\n",
       "  </thead>\n",
       "  <tbody>\n",
       "    <tr>\n",
       "      <th>0</th>\n",
       "      <td>11</td>\n",
       "      <td>Île-de-France</td>\n",
       "      <td>POLYGON ((2.59052 49.07965, 2.63327 49.10838, ...</td>\n",
       "    </tr>\n",
       "    <tr>\n",
       "      <th>1</th>\n",
       "      <td>24</td>\n",
       "      <td>Centre-Val de Loire</td>\n",
       "      <td>POLYGON ((2.87463 47.52042, 2.88845 47.50943, ...</td>\n",
       "    </tr>\n",
       "    <tr>\n",
       "      <th>2</th>\n",
       "      <td>27</td>\n",
       "      <td>Bourgogne-Franche-Comté</td>\n",
       "      <td>POLYGON ((3.62942 46.74946, 3.57569 46.74952, ...</td>\n",
       "    </tr>\n",
       "    <tr>\n",
       "      <th>3</th>\n",
       "      <td>28</td>\n",
       "      <td>Normandie</td>\n",
       "      <td>POLYGON ((-1.11962 49.35557, -1.07822 49.38849...</td>\n",
       "    </tr>\n",
       "    <tr>\n",
       "      <th>4</th>\n",
       "      <td>32</td>\n",
       "      <td>Hauts-de-France</td>\n",
       "      <td>POLYGON ((4.04797 49.40564, 4.03991 49.39740, ...</td>\n",
       "    </tr>\n",
       "  </tbody>\n",
       "</table>\n",
       "</div>"
      ],
      "text/plain": [
       "  code                      nom  \\\n",
       "0   11            Île-de-France   \n",
       "1   24      Centre-Val de Loire   \n",
       "2   27  Bourgogne-Franche-Comté   \n",
       "3   28                Normandie   \n",
       "4   32          Hauts-de-France   \n",
       "\n",
       "                                            geometry  \n",
       "0  POLYGON ((2.59052 49.07965, 2.63327 49.10838, ...  \n",
       "1  POLYGON ((2.87463 47.52042, 2.88845 47.50943, ...  \n",
       "2  POLYGON ((3.62942 46.74946, 3.57569 46.74952, ...  \n",
       "3  POLYGON ((-1.11962 49.35557, -1.07822 49.38849...  \n",
       "4  POLYGON ((4.04797 49.40564, 4.03991 49.39740, ...  "
      ]
     },
     "execution_count": 7,
     "metadata": {},
     "output_type": "execute_result"
    }
   ],
   "source": [
    "gdf.head()"
   ]
  },
  {
   "cell_type": "markdown",
   "metadata": {},
   "source": [
    "### For region not producing, NaN replaced with 0"
   ]
  },
  {
   "cell_type": "code",
   "execution_count": 41,
   "metadata": {},
   "outputs": [],
   "source": [
    "df = df.fillna(0)"
   ]
  },
  {
   "cell_type": "markdown",
   "metadata": {},
   "source": [
    "### Adding regions centers to place region labels"
   ]
  },
  {
   "cell_type": "code",
   "execution_count": 42,
   "metadata": {},
   "outputs": [],
   "source": [
    "gdf.loc[5, 'nom'] = 'Grand-Est'\n",
    "gdf.loc[0, 'nom'] = 'Ile-de-France'"
   ]
  },
  {
   "cell_type": "code",
   "execution_count": 43,
   "metadata": {},
   "outputs": [],
   "source": [
    "df['centroid_lon'] = df['geometry'].centroid.x\n",
    "df['centroid_lat'] = df['geometry'].centroid.y\n",
    "df = df.drop(['geometry'], axis=1)"
   ]
  },
  {
   "cell_type": "markdown",
   "metadata": {},
   "source": [
    "### Adding total energy sector per year and per region"
   ]
  },
  {
   "cell_type": "code",
   "execution_count": 44,
   "metadata": {},
   "outputs": [],
   "source": [
    "df['parc_total_mw'] = df['parc_eolien_mw'] + df['parc_solaire_mw'] + df['parc_thermique_fossile_mw'] + \\\n",
    "df['parc_nucleaire_mw'] + df['parc_hydraulique_mw'] + df['parc_bioenergies_mw']   "
   ]
  },
  {
   "cell_type": "markdown",
   "metadata": {},
   "source": [
    "### Adding relative values for a given year and a givien energy sector"
   ]
  },
  {
   "cell_type": "code",
   "execution_count": 21,
   "metadata": {},
   "outputs": [],
   "source": [
    "'''Function to create a new column with relative yearly values'''\n",
    "def calcul_relative_values(column):\n",
    "    new_column = pd.Series()\n",
    "    for a in gdf['annee'].unique():\n",
    "        new_column = pd.concat([new_column, gdf[gdf['annee'] == a][column] / gdf.groupby('annee')[column].sum().loc[a]], \n",
    "                        axis=0)\n",
    "        \n",
    "    return new_column.sort_index()"
   ]
  },
  {
   "cell_type": "code",
   "execution_count": 22,
   "metadata": {},
   "outputs": [
    {
     "name": "stderr",
     "output_type": "stream",
     "text": [
      "/home/ranto/.pyenv/versions/3.7.6/envs/vivadata/lib/python3.7/site-packages/ipykernel_launcher.py:3: DeprecationWarning:\n",
      "\n",
      "The default dtype for empty Series will be 'object' instead of 'float64' in a future version. Specify a dtype explicitly to silence this warning.\n",
      "\n"
     ]
    }
   ],
   "source": [
    "'''Adding the relative values in a new columns'''\n",
    "for c in gdf.columns:\n",
    "    if 'mw' in c:\n",
    "        gdf[f'{c}_rel'] = pd.to_numeric(calcul_relative_values(c))"
   ]
  },
  {
   "cell_type": "code",
   "execution_count": 6,
   "metadata": {},
   "outputs": [
    {
     "data": {
      "text/plain": [
       "Index(['parc_eolien_mw', 'code_insee_region', 'parc_solaire_mw',\n",
       "       'parc_thermique_fossile_mw', 'region', 'parc_nucleaire_mw',\n",
       "       'parc_hydraulique_mw', 'annee', 'parc_bioenergies_mw', 'geometry',\n",
       "       'centroid_lon', 'centroid_lat', 'parc_total_mw'],\n",
       "      dtype='object')"
      ]
     },
     "execution_count": 6,
     "metadata": {},
     "output_type": "execute_result"
    }
   ],
   "source": [
    "gdf.columns"
   ]
  },
  {
   "cell_type": "markdown",
   "metadata": {},
   "source": [
    "### Saving dataframe to pickle for app prepartion"
   ]
  },
  {
   "cell_type": "code",
   "execution_count": 14,
   "metadata": {},
   "outputs": [
    {
     "name": "stdout",
     "output_type": "stream",
     "text": [
      "app  input  ipynb  processed-data  raw-data\r\n"
     ]
    }
   ],
   "source": [
    "!ls .."
   ]
  },
  {
   "cell_type": "code",
   "execution_count": 45,
   "metadata": {},
   "outputs": [],
   "source": [
    "'''Save DataFrame'''\n",
    "\n",
    "df_filename = os.path.join('..', 'processed-data', 'parc-region-annuel-production-filiere-for-app.df')\n",
    "df.to_pickle(df_filename)\n",
    "\n",
    "gdf_filename = os.path.join('..', 'processed-data', 'region.gdf')\n",
    "gdf.to_pickle(gdf_filename)"
   ]
  },
  {
   "cell_type": "code",
   "execution_count": null,
   "metadata": {},
   "outputs": [],
   "source": []
  }
 ],
 "metadata": {
  "kernelspec": {
   "display_name": "Python 3",
   "language": "python",
   "name": "python3"
  },
  "language_info": {
   "codemirror_mode": {
    "name": "ipython",
    "version": 3
   },
   "file_extension": ".py",
   "mimetype": "text/x-python",
   "name": "python",
   "nbconvert_exporter": "python",
   "pygments_lexer": "ipython3",
   "version": "3.7.9"
  }
 },
 "nbformat": 4,
 "nbformat_minor": 4
}
