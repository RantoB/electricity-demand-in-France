{
 "cells": [
  {
   "cell_type": "code",
   "execution_count": 17,
   "metadata": {},
   "outputs": [],
   "source": [
    "import requests\n",
    "import pandas as pd\n",
    "from datetime import datetime as dt\n",
    "import numpy as np\n",
    "from statsmodels.tsa.statespace.sarimax import SARIMAX"
   ]
  },
  {
   "cell_type": "code",
   "execution_count": 18,
   "metadata": {},
   "outputs": [],
   "source": [
    "BASE_URL_pre = 'https://opendata.reseaux-energies.fr/api/v2/catalog/datasets/'\n",
    "BASE_URL_port = '/exports/json?rows=-1&pretty=false&timezone=UTC'\n",
    "real_time_elec = 'eco2mix-national-tr'\n",
    "temperature = 'temperature-quotidienne-regionale'\n",
    "\n",
    "# Loading data\n",
    "response_elec = requests.get(BASE_URL_pre + real_time_elec + BASE_URL_port)\n",
    "response_temeprature = requests.get(BASE_URL_pre + temperature + BASE_URL_port)"
   ]
  },
  {
   "cell_type": "code",
   "execution_count": 30,
   "metadata": {},
   "outputs": [
    {
     "data": {
      "text/html": [
       "<div>\n",
       "<style scoped>\n",
       "    .dataframe tbody tr th:only-of-type {\n",
       "        vertical-align: middle;\n",
       "    }\n",
       "\n",
       "    .dataframe tbody tr th {\n",
       "        vertical-align: top;\n",
       "    }\n",
       "\n",
       "    .dataframe thead th {\n",
       "        text-align: right;\n",
       "    }\n",
       "</style>\n",
       "<table border=\"1\" class=\"dataframe\">\n",
       "  <thead>\n",
       "    <tr style=\"text-align: right;\">\n",
       "      <th></th>\n",
       "      <th>date_heure</th>\n",
       "      <th>date</th>\n",
       "    </tr>\n",
       "  </thead>\n",
       "  <tbody>\n",
       "    <tr>\n",
       "      <th>0</th>\n",
       "      <td>2020-04-30T22:00:00+00:00</td>\n",
       "      <td>2020-05-01</td>\n",
       "    </tr>\n",
       "  </tbody>\n",
       "</table>\n",
       "</div>"
      ],
      "text/plain": [
       "                  date_heure        date\n",
       "0  2020-04-30T22:00:00+00:00  2020-05-01"
      ]
     },
     "execution_count": 30,
     "metadata": {},
     "output_type": "execute_result"
    }
   ],
   "source": [
    "df = pd.DataFrame(response_elec.json())\n",
    "df[df['date_heure'] == '2020-04-30T22:00:00+00:00'][['date_heure', 'date']]"
   ]
  },
  {
   "cell_type": "code",
   "execution_count": 19,
   "metadata": {},
   "outputs": [
    {
     "name": "stderr",
     "output_type": "stream",
     "text": [
      "/home/ranto/.pyenv/versions/3.7.6/envs/vivadata/lib/python3.7/site-packages/ipykernel_launcher.py:48: SettingWithCopyWarning:\n",
      "\n",
      "\n",
      "A value is trying to be set on a copy of a slice from a DataFrame\n",
      "\n",
      "See the caveats in the documentation: https://pandas.pydata.org/pandas-docs/stable/user_guide/indexing.html#returning-a-view-versus-a-copy\n",
      "\n"
     ]
    },
    {
     "data": {
      "text/html": [
       "<div>\n",
       "<style scoped>\n",
       "    .dataframe tbody tr th:only-of-type {\n",
       "        vertical-align: middle;\n",
       "    }\n",
       "\n",
       "    .dataframe tbody tr th {\n",
       "        vertical-align: top;\n",
       "    }\n",
       "\n",
       "    .dataframe thead th {\n",
       "        text-align: right;\n",
       "    }\n",
       "</style>\n",
       "<table border=\"1\" class=\"dataframe\">\n",
       "  <thead>\n",
       "    <tr style=\"text-align: right;\">\n",
       "      <th></th>\n",
       "      <th>date_heure</th>\n",
       "      <th>consommation</th>\n",
       "      <th>week_day</th>\n",
       "      <th>week_number</th>\n",
       "      <th>type_of_day</th>\n",
       "    </tr>\n",
       "    <tr>\n",
       "      <th>date_heure</th>\n",
       "      <th></th>\n",
       "      <th></th>\n",
       "      <th></th>\n",
       "      <th></th>\n",
       "      <th></th>\n",
       "    </tr>\n",
       "  </thead>\n",
       "  <tbody>\n",
       "    <tr>\n",
       "      <th>2020-04-30 22:00:00+00:00</th>\n",
       "      <td>2020-04-30 22:00:00+00:00</td>\n",
       "      <td>45533.0</td>\n",
       "      <td>Thursday</td>\n",
       "      <td>17</td>\n",
       "      <td>1</td>\n",
       "    </tr>\n",
       "    <tr>\n",
       "      <th>2020-04-30 23:00:00+00:00</th>\n",
       "      <td>2020-04-30 23:00:00+00:00</td>\n",
       "      <td>41155.0</td>\n",
       "      <td>Thursday</td>\n",
       "      <td>17</td>\n",
       "      <td>1</td>\n",
       "    </tr>\n",
       "    <tr>\n",
       "      <th>2020-05-01 00:00:00+00:00</th>\n",
       "      <td>2020-05-01 00:00:00+00:00</td>\n",
       "      <td>39923.0</td>\n",
       "      <td>Friday</td>\n",
       "      <td>17</td>\n",
       "      <td>-1</td>\n",
       "    </tr>\n",
       "    <tr>\n",
       "      <th>2020-05-01 01:00:00+00:00</th>\n",
       "      <td>2020-05-01 01:00:00+00:00</td>\n",
       "      <td>37018.0</td>\n",
       "      <td>Friday</td>\n",
       "      <td>17</td>\n",
       "      <td>-1</td>\n",
       "    </tr>\n",
       "    <tr>\n",
       "      <th>2020-05-01 02:00:00+00:00</th>\n",
       "      <td>2020-05-01 02:00:00+00:00</td>\n",
       "      <td>35217.0</td>\n",
       "      <td>Friday</td>\n",
       "      <td>17</td>\n",
       "      <td>-1</td>\n",
       "    </tr>\n",
       "    <tr>\n",
       "      <th>...</th>\n",
       "      <td>...</td>\n",
       "      <td>...</td>\n",
       "      <td>...</td>\n",
       "      <td>...</td>\n",
       "      <td>...</td>\n",
       "    </tr>\n",
       "    <tr>\n",
       "      <th>2020-06-18 19:00:00+00:00</th>\n",
       "      <td>2020-06-18 18:00:00+00:00</td>\n",
       "      <td>45493.0</td>\n",
       "      <td>Thursday</td>\n",
       "      <td>24</td>\n",
       "      <td>1</td>\n",
       "    </tr>\n",
       "    <tr>\n",
       "      <th>2020-06-18 20:00:00+00:00</th>\n",
       "      <td>2020-06-18 18:00:00+00:00</td>\n",
       "      <td>45493.0</td>\n",
       "      <td>Thursday</td>\n",
       "      <td>24</td>\n",
       "      <td>1</td>\n",
       "    </tr>\n",
       "    <tr>\n",
       "      <th>2020-06-18 21:00:00+00:00</th>\n",
       "      <td>2020-06-18 18:00:00+00:00</td>\n",
       "      <td>45493.0</td>\n",
       "      <td>Thursday</td>\n",
       "      <td>24</td>\n",
       "      <td>1</td>\n",
       "    </tr>\n",
       "    <tr>\n",
       "      <th>2020-06-18 22:00:00+00:00</th>\n",
       "      <td>2020-06-18 22:00:00+00:00</td>\n",
       "      <td>44157.0</td>\n",
       "      <td>Thursday</td>\n",
       "      <td>24</td>\n",
       "      <td>1</td>\n",
       "    </tr>\n",
       "    <tr>\n",
       "      <th>2020-06-18 23:00:00+00:00</th>\n",
       "      <td>2020-06-18 23:00:00+00:00</td>\n",
       "      <td>39463.0</td>\n",
       "      <td>Thursday</td>\n",
       "      <td>24</td>\n",
       "      <td>1</td>\n",
       "    </tr>\n",
       "  </tbody>\n",
       "</table>\n",
       "<p>1178 rows × 5 columns</p>\n",
       "</div>"
      ],
      "text/plain": [
       "                                         date_heure  consommation  week_day  \\\n",
       "date_heure                                                                    \n",
       "2020-04-30 22:00:00+00:00 2020-04-30 22:00:00+00:00       45533.0  Thursday   \n",
       "2020-04-30 23:00:00+00:00 2020-04-30 23:00:00+00:00       41155.0  Thursday   \n",
       "2020-05-01 00:00:00+00:00 2020-05-01 00:00:00+00:00       39923.0    Friday   \n",
       "2020-05-01 01:00:00+00:00 2020-05-01 01:00:00+00:00       37018.0    Friday   \n",
       "2020-05-01 02:00:00+00:00 2020-05-01 02:00:00+00:00       35217.0    Friday   \n",
       "...                                             ...           ...       ...   \n",
       "2020-06-18 19:00:00+00:00 2020-06-18 18:00:00+00:00       45493.0  Thursday   \n",
       "2020-06-18 20:00:00+00:00 2020-06-18 18:00:00+00:00       45493.0  Thursday   \n",
       "2020-06-18 21:00:00+00:00 2020-06-18 18:00:00+00:00       45493.0  Thursday   \n",
       "2020-06-18 22:00:00+00:00 2020-06-18 22:00:00+00:00       44157.0  Thursday   \n",
       "2020-06-18 23:00:00+00:00 2020-06-18 23:00:00+00:00       39463.0  Thursday   \n",
       "\n",
       "                          week_number  type_of_day  \n",
       "date_heure                                          \n",
       "2020-04-30 22:00:00+00:00          17            1  \n",
       "2020-04-30 23:00:00+00:00          17            1  \n",
       "2020-05-01 00:00:00+00:00          17           -1  \n",
       "2020-05-01 01:00:00+00:00          17           -1  \n",
       "2020-05-01 02:00:00+00:00          17           -1  \n",
       "...                               ...          ...  \n",
       "2020-06-18 19:00:00+00:00          24            1  \n",
       "2020-06-18 20:00:00+00:00          24            1  \n",
       "2020-06-18 21:00:00+00:00          24            1  \n",
       "2020-06-18 22:00:00+00:00          24            1  \n",
       "2020-06-18 23:00:00+00:00          24            1  \n",
       "\n",
       "[1178 rows x 5 columns]"
      ]
     },
     "execution_count": 19,
     "metadata": {},
     "output_type": "execute_result"
    }
   ],
   "source": [
    "df = pd.DataFrame(response_elec.json())\n",
    "\n",
    "# Recast date time to datetime type\n",
    "df['date_heure'] = pd.to_datetime(df['date_heure'])\n",
    "df.index = df['date_heure']\n",
    "df['week_day'] = df['date_heure'].apply(lambda x: x.strftime('%A'))\n",
    "df['week_number'] = df['date_heure'].apply(lambda x: x.strftime('%W'))\n",
    "df['minutes'] = df['date_heure'].apply(lambda x: x.strftime('%M'))\n",
    "\n",
    "# Sort data by datetime\n",
    "df = df.sort_index()\n",
    "\n",
    "# Remove useless columns and lines full of NA (futur lines)\n",
    "col_to_drop = ['ech_comm_angleterre', 'ech_comm_espagne',\n",
    "               'ech_comm_italie', 'ech_comm_suisse', 'ech_comm_allemagne_belgique',\n",
    "              'perimetre', 'nature', 'date', 'heure', 'column_79']\n",
    "\n",
    "df = df.drop(col_to_drop, axis=1)\n",
    "df = df.dropna()\n",
    "\n",
    "# Reorder the columns to have the new datetime columns in first\n",
    "col_reindex =  np.array(df.columns)\n",
    "col_reindex = np.concatenate((col_reindex[-5:], col_reindex[:-5]), axis=0)\n",
    "\n",
    "df = df.reindex(columns=col_reindex)\n",
    "\n",
    "# Transform to hourly dataframe\n",
    "df_light = df[df['minutes'] == '00']\n",
    "df_light = df_light.drop(['minutes'], axis=1)\n",
    "\n",
    "# Add an hourly frequency to the index and forward filling if some hours are missing\n",
    "df_light = df_light.asfreq('H', method='ffill')\n",
    "\n",
    "# Remove all columns except time and conumption columns\n",
    "df_light = df_light[['date_heure', 'consommation', 'week_day', 'week_number']]\n",
    "\n",
    "# Remove values for the current day\n",
    "df_light = df_light[~df_light['date_heure'].astype(str).str.contains(dt.now().strftime('%Y-%m-%d'))]\n",
    "\n",
    "# Type of day\n",
    "# Weekday : 1\n",
    "# Saturday : 0\n",
    "# Free days and Sunday : -1\n",
    "df_light['type_of_day'] = df_light['week_day']\\\n",
    "    .apply(lambda x: -1 if x == 'Sunday' else(0 if x == 'Saturday' else 1)) \n",
    "\n",
    "def free_day(df, date):\n",
    "    df['type_of_day'][df['date_heure'].astype(str).str.contains(date)] = -1\n",
    "    return df\n",
    "\n",
    "free_day(df_light, '2020-05-01')\n",
    "free_day(df_light, '2020-05-08')\n",
    "free_day(df_light, '2020-05-10')\n",
    "free_day(df_light, '2020-05-21')"
   ]
  },
  {
   "cell_type": "code",
   "execution_count": 20,
   "metadata": {},
   "outputs": [
    {
     "name": "stderr",
     "output_type": "stream",
     "text": [
      "/home/ranto/.pyenv/versions/3.7.6/envs/vivadata/lib/python3.7/site-packages/statsmodels/base/model.py:568: ConvergenceWarning:\n",
      "\n",
      "Maximum Likelihood optimization failed to converge. Check mle_retvals\n",
      "\n"
     ]
    },
    {
     "name": "stdout",
     "output_type": "stream",
     "text": [
      "CPU times: user 56.6 s, sys: 52.4 s, total: 1min 49s\n",
      "Wall time: 14.6 s\n"
     ]
    }
   ],
   "source": [
    "%%time\n",
    "# SARIMAX Prediction\n",
    "train_days = df_light['consommation'] / df_light['consommation'].mean()\n",
    "\n",
    "exog_train = df_light['type_of_day']\n",
    "\n",
    "model = SARIMAX(train_days, order=(10, 1, 1), seasonal_order=(0, 0, 0, 0), exog=exog_train)\n",
    "\n",
    "model_fit = model.fit(disp=False)"
   ]
  },
  {
   "cell_type": "code",
   "execution_count": 21,
   "metadata": {},
   "outputs": [],
   "source": []
  },
  {
   "cell_type": "code",
   "execution_count": 24,
   "metadata": {},
   "outputs": [],
   "source": [
    "n_pred = 72\n",
    "\n",
    "start = exog_train.index[-1]\n",
    "end = exog_train.index[-1] + pd.Timedelta(f'{n_pred}h')\n",
    "\n",
    "index = pd.date_range(start=start, periods=n_pred, freq='H', name='date_heure')\n",
    "exog_test = pd.DataFrame(np.ones((n_pred), int), index=index, columns=['type_of_day'])\n",
    "exog_test['week_day'] = exog_test.index\n",
    "exog_test['type_of_day'] = exog_test['week_day']\\\n",
    "    .apply(lambda x: -1 if x.strftime('%A') == 'Sunday' else (0 if x.strftime('%A') == 'Saturday' else 1))\n",
    "exog_test = pd.Series(exog_test['type_of_day'])"
   ]
  },
  {
   "cell_type": "code",
   "execution_count": 25,
   "metadata": {
    "scrolled": true
   },
   "outputs": [],
   "source": [
    "prediction = model_fit.get_prediction(start=start, end=end, exog=exog_test)\n",
    "pred = prediction.predicted_mean"
   ]
  },
  {
   "cell_type": "code",
   "execution_count": 27,
   "metadata": {},
   "outputs": [
    {
     "data": {
      "text/plain": [
       "2020-06-18 23:00:00+00:00    42951.873038\n",
       "2020-06-19 00:00:00+00:00    37182.527760\n",
       "2020-06-19 01:00:00+00:00    36860.383874\n",
       "2020-06-19 02:00:00+00:00    36316.044169\n",
       "2020-06-19 03:00:00+00:00    36307.458559\n",
       "                                 ...     \n",
       "2020-06-21 19:00:00+00:00    39362.769653\n",
       "2020-06-21 20:00:00+00:00    39376.548508\n",
       "2020-06-21 21:00:00+00:00    39399.107080\n",
       "2020-06-21 22:00:00+00:00    39425.326253\n",
       "2020-06-21 23:00:00+00:00    39449.319280\n",
       "Freq: H, Length: 73, dtype: float64"
      ]
     },
     "execution_count": 27,
     "metadata": {},
     "output_type": "execute_result"
    }
   ],
   "source": [
    "pred * df_light['consommation'].mean()"
   ]
  },
  {
   "cell_type": "code",
   "execution_count": 28,
   "metadata": {},
   "outputs": [],
   "source": [
    "import matplotlib.pyplot as plt"
   ]
  },
  {
   "cell_type": "code",
   "execution_count": 29,
   "metadata": {},
   "outputs": [
    {
     "data": {
      "image/png": "[encoded data removed]",
      "text/plain": [
       "<Figure size 720x720 with 2 Axes>"
      ]
     },
     "metadata": {
      "needs_background": "light"
     },
     "output_type": "display_data"
    }
   ],
   "source": [
    "fig, ax1 = plt.subplots(figsize=(10, 10))\n",
    "\n",
    "ax2 = ax1.twinx()\n",
    "\n",
    "ax1.plot(train_days.iloc[-96:], label='True values')\n",
    "\n",
    "ax2.plot(pd.concat((exog_train, exog_test), axis=0).iloc[-120:], label='Type of day')\n",
    "\n",
    "ax1.plot(pred, label=f'Prediction for {start}')\n",
    "\n",
    "plt.title(\"SARIMA predictions based 50 days\")\n",
    "ax1.legend()\n",
    "\n",
    "fig.tight_layout()\n",
    "\n",
    "plt.show()"
   ]
  },
  {
   "cell_type": "markdown",
   "metadata": {},
   "source": [
    "### Visualization"
   ]
  },
  {
   "cell_type": "code",
   "execution_count": 8,
   "metadata": {},
   "outputs": [
    {
     "name": "stdout",
     "output_type": "stream",
     "text": [
      "app.py\tdata\t\t    make_predictions.py  Procfile     requirements.txt\r\n",
      "assets\tgenerate_graphs.py  prediction-models\t __pycache__\r\n"
     ]
    }
   ],
   "source": [
    "!ls ../app"
   ]
  },
  {
   "cell_type": "code",
   "execution_count": 9,
   "metadata": {},
   "outputs": [],
   "source": [
    "import sys\n",
    "sys.path.append('../app')\n",
    "from make_predictions import *"
   ]
  },
  {
   "cell_type": "code",
   "execution_count": 10,
   "metadata": {},
   "outputs": [],
   "source": [
    "import plotly.graph_objects as go\n",
    "import pickle\n",
    "from plotly.subplots import make_subplots"
   ]
  },
  {
   "cell_type": "code",
   "execution_count": 11,
   "metadata": {},
   "outputs": [],
   "source": [
    "font_color = '#cdc6c6'\n",
    "paper_bgcolor = '#141414'\n",
    "plot_bgcolor = '#383838'"
   ]
  },
  {
   "cell_type": "code",
   "execution_count": 52,
   "metadata": {},
   "outputs": [
    {
     "name": "stderr",
     "output_type": "stream",
     "text": [
      "../app/make_predictions.py:19: SettingWithCopyWarning:\n",
      "\n",
      "\n",
      "A value is trying to be set on a copy of a slice from a DataFrame\n",
      "\n",
      "See the caveats in the documentation: https://pandas.pydata.org/pandas-docs/stable/user_guide/indexing.html#returning-a-view-versus-a-copy\n",
      "\n"
     ]
    }
   ],
   "source": [
    "# def make_predictions(n_pred: int):\n",
    "n_pred = 48\n",
    "\n",
    "daily_model_path = '../app/prediction-models/daily_model.pkl'\n",
    "hourly_model_path = '../app/prediction-models/hourly_model.pkl'\n",
    "daily_consumption_path = '../app/data/daily_consumption.pkl'\n",
    "exog_train_path = '../app/data/exog_train.pkl'\n",
    "df_light_path = '../app/data/df_light.pkl'\n",
    "\n",
    "with open(daily_consumption_path, 'rb') as f:\n",
    "    daily_consumption = pickle.load(f)\n",
    "\n",
    "with open(exog_train_path, 'rb') as f:\n",
    "    exog_train = pickle.load(f)\n",
    "\n",
    "with open(df_light_path, 'rb') as f:\n",
    "    df_light = pickle.load(f)\n",
    "\n",
    "with open(daily_model_path, 'rb') as f:\n",
    "    daily_model = pickle.load(f)\n",
    "\n",
    "n_pred_day = math.ceil(n_pred / 24)\n",
    "start_day = start_test_day_stamp(daily_consumption)\n",
    "end_day = end_test_day_stamp(daily_consumption, n_pred_day)\n",
    "exog_test_for_daily_pred = exogenous_daily_test_data(exog_train, n_pred_day)\n",
    "\n",
    "# Daily prediction multiplied by mean past consumption\n",
    "daily_predictions = daily_model.get_prediction(start=start_day,\n",
    "                                            end=end_day,\n",
    "                                            exog=exog_test_for_daily_pred).predicted_mean * df_light['consommation'].mean()\n",
    "\n",
    "# Confidence interval of the daily prediction\n",
    "conf_int_pred_daily = daily_model.get_prediction(start=start_day,\n",
    "                                            end=end_day,\n",
    "                                            exog=exog_test_for_daily_pred).conf_int() * df_light['consommation'].mean()\n",
    "\n",
    "with open(hourly_model_path, 'rb') as f:\n",
    "    hourly_model = pickle.load(f)\n",
    "\n",
    "start_hour = start_test_hour_stamp(exog_train)\n",
    "end_hour = end_test_hour_stamp(exog_train, n_pred)\n",
    "exog_test_for_hourly_pred = exogenous_hourly_test_data(exog_train, n_pred)\n",
    "\n",
    "# Hourly prediction which will be multiplied by daily prediction\n",
    "hourly_predictions = hourly_model.get_prediction(start=start_hour,\n",
    "                                            end=end_hour,\n",
    "                                            exog=exog_test_for_hourly_pred).predicted_mean\n",
    "\n",
    "# Confidence interval of the hourly prediction\n",
    "conf_int = hourly_model.get_prediction(start=start_hour,\n",
    "                                            end=end_hour,\n",
    "                                            exog=exog_test_for_hourly_pred).conf_int()\n",
    "\n",
    "# Daily prediction dataframe transformed to hourly frequence dataframe\n",
    "pred_hourly_with_mean_values = convert_hourly_to_daily(hourly_predictions, daily_predictions)\n",
    "\n",
    "conf_int_pred_hourly_with_mean_values_lower = convert_hourly_to_daily(hourly_predictions, conf_int_pred_daily.iloc[:,0])\n",
    "conf_int_pred_hourly_with_mean_values_upper = convert_hourly_to_daily(hourly_predictions, conf_int_pred_daily.iloc[:,1])\n",
    "\n",
    "# Multiplication of daily and hourly predictions\n",
    "pred = pred_hourly_with_mean_values * hourly_predictions\n",
    "\n",
    "# Multiplication of daily and hourly confidence itervals\n",
    "conf_int_lower = conf_int['lower consommation'] * conf_int_pred_hourly_with_mean_values_lower\n",
    "conf_int_upper = conf_int['upper consommation'] * conf_int_pred_hourly_with_mean_values_upper"
   ]
  },
  {
   "cell_type": "code",
   "execution_count": 91,
   "metadata": {},
   "outputs": [],
   "source": [
    "def electrical_consumption(n_previous, n_pred):\n",
    "    n_previous *= 24\n",
    "    n_pred *= 24\n",
    "\n",
    "    daily_model_path = '../app/prediction-models/daily_model.pkl'\n",
    "    hourly_model_path = '../app/prediction-models/hourly_model.pkl'\n",
    "    daily_consumption_path = '../app/data/daily_consumption.pkl'\n",
    "    exog_train_path = '../app/data/exog_train.pkl'\n",
    "    df_light_path = '../app/data/df_light.pkl'\n",
    "\n",
    "#     pred = make_predictions(n_pred)\n",
    "\n",
    "    with open(df_light_path, 'rb') as f:\n",
    "        df_light = pickle.load(f)\n",
    "\n",
    "    fig = go.Figure()\n",
    "\n",
    "    fig.add_trace(go.Scatter(x=df_light.index[-n_previous:], y=df_light['consommation'].iloc[-n_previous:],\n",
    "                             name='Real electrical consumption'))\n",
    "\n",
    "    fig.add_trace(go.Scatter(x=pred.index, y=pred.values,\n",
    "                             name='Predicted electrical consumption'))\n",
    "    \n",
    "    fig.add_trace(go.Scatter(x=conf_int_lower.index, y=conf_int_lower, showlegend=False,\n",
    "                            line_color='rgba(0, 0, 0, 0)'))\n",
    "    \n",
    "    fig.add_trace(go.Scatter(x=conf_int_upper.index, y=conf_int_upper, \n",
    "                             fill='tonexty', showlegend=False, \n",
    "                             fillcolor='rgba(245, 0, 0, 0.47)', mode='none'))\n",
    "\n",
    "    fig.update_layout(title={'text':f'{n_previous // 24} past day(s) - {n_pred // 24} futur day(s)',\n",
    "                             'y':0.95,\n",
    "                             'x':0.4,\n",
    "                             'xanchor': 'center',\n",
    "                             'yanchor': 'top'},\n",
    "                    xaxis_title=f'Time',\n",
    "                    yaxis_title=\"Energy in MWh\",\n",
    "                    font=dict(family=\"Arial\", size=15, color=font_color),\n",
    "                    xaxis=dict(tickfont=dict(color=font_color)),\n",
    "                    yaxis=dict(tickfont=dict(color=font_color)),\n",
    "                    legend=dict(font=dict(color=font_color)))\n",
    "\n",
    "\n",
    "    fig.layout.paper_bgcolor = plot_bgcolor\n",
    "    fig.layout.plot_bgcolor = plot_bgcolor\n",
    "\n",
    "    fig.show()"
   ]
  },
  {
   "cell_type": "code",
   "execution_count": 92,
   "metadata": {
    "scrolled": false
   },
   "outputs": [
    {
     "data": {
      "application/vnd.plotly.v1+json": {
       "config": {
        "plotlyServerURL": "https://plot.ly"
       },
       "data": [
        {
         "name": "Real electrical consumption",
         "type": "scatter",
         "x": [
          "2020-06-18T00:00:00+00:00",
          "2020-06-18T01:00:00+00:00",
          "2020-06-18T02:00:00+00:00",
          "2020-06-18T03:00:00+00:00",
          "2020-06-18T04:00:00+00:00",
          "2020-06-18T05:00:00+00:00",
          "2020-06-18T06:00:00+00:00",
          "2020-06-18T07:00:00+00:00",
          "2020-06-18T08:00:00+00:00",
          "2020-06-18T09:00:00+00:00",
          "2020-06-18T10:00:00+00:00",
          "2020-06-18T11:00:00+00:00",
          "2020-06-18T12:00:00+00:00",
          "2020-06-18T13:00:00+00:00",
          "2020-06-18T14:00:00+00:00",
          "2020-06-18T15:00:00+00:00",
          "2020-06-18T16:00:00+00:00",
          "2020-06-18T17:00:00+00:00",
          "2020-06-18T18:00:00+00:00",
          "2020-06-18T19:00:00+00:00",
          "2020-06-18T20:00:00+00:00",
          "2020-06-18T21:00:00+00:00",
          "2020-06-18T22:00:00+00:00",
          "2020-06-18T23:00:00+00:00",
          "2020-06-19T00:00:00+00:00",
          "2020-06-19T01:00:00+00:00",
          "2020-06-19T02:00:00+00:00",
          "2020-06-19T03:00:00+00:00",
          "2020-06-19T04:00:00+00:00",
          "2020-06-19T05:00:00+00:00",
          "2020-06-19T06:00:00+00:00",
          "2020-06-19T07:00:00+00:00",
          "2020-06-19T08:00:00+00:00",
          "2020-06-19T09:00:00+00:00",
          "2020-06-19T10:00:00+00:00",
          "2020-06-19T11:00:00+00:00",
          "2020-06-19T12:00:00+00:00",
          "2020-06-19T13:00:00+00:00",
          "2020-06-19T14:00:00+00:00",
          "2020-06-19T15:00:00+00:00",
          "2020-06-19T16:00:00+00:00",
          "2020-06-19T17:00:00+00:00",
          "2020-06-19T18:00:00+00:00",
          "2020-06-19T19:00:00+00:00",
          "2020-06-19T20:00:00+00:00",
          "2020-06-19T21:00:00+00:00",
          "2020-06-19T22:00:00+00:00",
          "2020-06-19T23:00:00+00:00",
          "2020-06-20T00:00:00+00:00",
          "2020-06-20T01:00:00+00:00",
          "2020-06-20T02:00:00+00:00",
          "2020-06-20T03:00:00+00:00",
          "2020-06-20T04:00:00+00:00",
          "2020-06-20T05:00:00+00:00",
          "2020-06-20T06:00:00+00:00",
          "2020-06-20T07:00:00+00:00",
          "2020-06-20T08:00:00+00:00",
          "2020-06-20T09:00:00+00:00",
          "2020-06-20T10:00:00+00:00",
          "2020-06-20T11:00:00+00:00",
          "2020-06-20T12:00:00+00:00",
          "2020-06-20T13:00:00+00:00",
          "2020-06-20T14:00:00+00:00",
          "2020-06-20T15:00:00+00:00",
          "2020-06-20T16:00:00+00:00",
          "2020-06-20T17:00:00+00:00",
          "2020-06-20T18:00:00+00:00",
          "2020-06-20T19:00:00+00:00",
          "2020-06-20T20:00:00+00:00",
          "2020-06-20T21:00:00+00:00",
          "2020-06-20T22:00:00+00:00",
          "2020-06-20T23:00:00+00:00",
          "2020-06-21T00:00:00+00:00",
          "2020-06-21T01:00:00+00:00",
          "2020-06-21T02:00:00+00:00",
          "2020-06-21T03:00:00+00:00",
          "2020-06-21T04:00:00+00:00",
          "2020-06-21T05:00:00+00:00",
          "2020-06-21T06:00:00+00:00",
          "2020-06-21T07:00:00+00:00",
          "2020-06-21T08:00:00+00:00",
          "2020-06-21T09:00:00+00:00",
          "2020-06-21T10:00:00+00:00",
          "2020-06-21T11:00:00+00:00",
          "2020-06-21T12:00:00+00:00",
          "2020-06-21T13:00:00+00:00",
          "2020-06-21T14:00:00+00:00",
          "2020-06-21T15:00:00+00:00",
          "2020-06-21T16:00:00+00:00",
          "2020-06-21T17:00:00+00:00",
          "2020-06-21T18:00:00+00:00",
          "2020-06-21T19:00:00+00:00",
          "2020-06-21T20:00:00+00:00",
          "2020-06-21T21:00:00+00:00",
          "2020-06-21T22:00:00+00:00",
          "2020-06-21T23:00:00+00:00",
          "2020-06-22T00:00:00+00:00",
          "2020-06-22T01:00:00+00:00",
          "2020-06-22T02:00:00+00:00",
          "2020-06-22T03:00:00+00:00",
          "2020-06-22T04:00:00+00:00",
          "2020-06-22T05:00:00+00:00",
          "2020-06-22T06:00:00+00:00",
          "2020-06-22T07:00:00+00:00",
          "2020-06-22T08:00:00+00:00",
          "2020-06-22T09:00:00+00:00",
          "2020-06-22T10:00:00+00:00",
          "2020-06-22T11:00:00+00:00",
          "2020-06-22T12:00:00+00:00",
          "2020-06-22T13:00:00+00:00",
          "2020-06-22T14:00:00+00:00",
          "2020-06-22T15:00:00+00:00",
          "2020-06-22T16:00:00+00:00",
          "2020-06-22T17:00:00+00:00",
          "2020-06-22T18:00:00+00:00",
          "2020-06-22T19:00:00+00:00",
          "2020-06-22T20:00:00+00:00",
          "2020-06-22T21:00:00+00:00",
          "2020-06-22T22:00:00+00:00",
          "2020-06-22T23:00:00+00:00",
          "2020-06-23T00:00:00+00:00",
          "2020-06-23T01:00:00+00:00",
          "2020-06-23T02:00:00+00:00",
          "2020-06-23T03:00:00+00:00",
          "2020-06-23T04:00:00+00:00",
          "2020-06-23T05:00:00+00:00",
          "2020-06-23T06:00:00+00:00",
          "2020-06-23T07:00:00+00:00",
          "2020-06-23T08:00:00+00:00",
          "2020-06-23T09:00:00+00:00",
          "2020-06-23T10:00:00+00:00",
          "2020-06-23T11:00:00+00:00",
          "2020-06-23T12:00:00+00:00",
          "2020-06-23T13:00:00+00:00",
          "2020-06-23T14:00:00+00:00",
          "2020-06-23T15:00:00+00:00",
          "2020-06-23T16:00:00+00:00",
          "2020-06-23T17:00:00+00:00",
          "2020-06-23T18:00:00+00:00",
          "2020-06-23T19:00:00+00:00",
          "2020-06-23T20:00:00+00:00",
          "2020-06-23T21:00:00+00:00",
          "2020-06-23T22:00:00+00:00",
          "2020-06-23T23:00:00+00:00",
          "2020-06-24T00:00:00+00:00",
          "2020-06-24T01:00:00+00:00",
          "2020-06-24T02:00:00+00:00",
          "2020-06-24T03:00:00+00:00",
          "2020-06-24T04:00:00+00:00",
          "2020-06-24T05:00:00+00:00",
          "2020-06-24T06:00:00+00:00",
          "2020-06-24T07:00:00+00:00",
          "2020-06-24T08:00:00+00:00",
          "2020-06-24T09:00:00+00:00",
          "2020-06-24T10:00:00+00:00",
          "2020-06-24T11:00:00+00:00",
          "2020-06-24T12:00:00+00:00",
          "2020-06-24T13:00:00+00:00",
          "2020-06-24T14:00:00+00:00",
          "2020-06-24T15:00:00+00:00",
          "2020-06-24T16:00:00+00:00",
          "2020-06-24T17:00:00+00:00",
          "2020-06-24T18:00:00+00:00",
          "2020-06-24T19:00:00+00:00",
          "2020-06-24T20:00:00+00:00",
          "2020-06-24T21:00:00+00:00",
          "2020-06-24T22:00:00+00:00",
          "2020-06-24T23:00:00+00:00"
         ],
         "y": [
          38486,
          36124,
          34630,
          34837,
          36724,
          40624,
          44675,
          47092,
          48482,
          49074,
          50607,
          50683,
          49110,
          47464,
          46346,
          45313,
          45060,
          46601,
          45493,
          45493,
          45493,
          45493,
          44157,
          39463,
          38087,
          35831,
          34615,
          34556,
          36212,
          40323,
          44123,
          46767,
          48055,
          48611,
          49724,
          49751,
          48106,
          46108,
          44707,
          43529,
          43576,
          44416,
          43279,
          40926,
          40976,
          45101,
          44016,
          39477,
          37992,
          35265,
          33698,
          32824,
          32441,
          33935,
          35849,
          38824,
          41282,
          42295,
          43921,
          45084,
          42304,
          40962,
          39641,
          39044,
          39066,
          40692,
          39766,
          38323,
          38412,
          42929,
          42302,
          37517,
          36118,
          33344,
          31381,
          30449,
          29728,
          30158,
          31773,
          34742,
          37375,
          39286,
          41281,
          42033,
          38961,
          37638,
          36092,
          35817,
          36382,
          38534,
          39101,
          38241,
          38380,
          41798,
          41050,
          36963,
          35670,
          33311,
          32060,
          32731,
          35003,
          39745,
          43916,
          46859,
          48069,
          48899,
          50582,
          50839,
          50065,
          48676,
          47754,
          46435,
          46157,
          47848,
          46918,
          43801,
          42995,
          46413,
          45045,
          39681,
          38314,
          35801,
          34359,
          34409,
          36158,
          40638,
          44861,
          47700,
          49445,
          50468,
          51794,
          51840,
          50680,
          49773,
          48713,
          47485,
          47225,
          48545,
          46832,
          43976,
          42895,
          46273,
          44786,
          39511,
          38528,
          36117,
          34639,
          34938,
          36396,
          40386,
          44663,
          47903,
          49946,
          51127,
          53189,
          53439,
          52666,
          51795,
          50260,
          48749,
          48633,
          49690,
          48090,
          44913,
          44290,
          48113,
          46333,
          41276
         ]
        },
        {
         "name": "Predicted electrical consumption",
         "type": "scatter",
         "x": [
          "2020-06-25T00:00:00+00:00",
          "2020-06-25T01:00:00+00:00",
          "2020-06-25T02:00:00+00:00",
          "2020-06-25T03:00:00+00:00",
          "2020-06-25T04:00:00+00:00",
          "2020-06-25T05:00:00+00:00",
          "2020-06-25T06:00:00+00:00",
          "2020-06-25T07:00:00+00:00",
          "2020-06-25T08:00:00+00:00",
          "2020-06-25T09:00:00+00:00",
          "2020-06-25T10:00:00+00:00",
          "2020-06-25T11:00:00+00:00",
          "2020-06-25T12:00:00+00:00",
          "2020-06-25T13:00:00+00:00",
          "2020-06-25T14:00:00+00:00",
          "2020-06-25T15:00:00+00:00",
          "2020-06-25T16:00:00+00:00",
          "2020-06-25T17:00:00+00:00",
          "2020-06-25T18:00:00+00:00",
          "2020-06-25T19:00:00+00:00",
          "2020-06-25T20:00:00+00:00",
          "2020-06-25T21:00:00+00:00",
          "2020-06-25T22:00:00+00:00",
          "2020-06-25T23:00:00+00:00",
          "2020-06-26T00:00:00+00:00",
          "2020-06-26T01:00:00+00:00",
          "2020-06-26T02:00:00+00:00",
          "2020-06-26T03:00:00+00:00",
          "2020-06-26T04:00:00+00:00",
          "2020-06-26T05:00:00+00:00",
          "2020-06-26T06:00:00+00:00",
          "2020-06-26T07:00:00+00:00",
          "2020-06-26T08:00:00+00:00",
          "2020-06-26T09:00:00+00:00",
          "2020-06-26T10:00:00+00:00",
          "2020-06-26T11:00:00+00:00",
          "2020-06-26T12:00:00+00:00",
          "2020-06-26T13:00:00+00:00",
          "2020-06-26T14:00:00+00:00",
          "2020-06-26T15:00:00+00:00",
          "2020-06-26T16:00:00+00:00",
          "2020-06-26T17:00:00+00:00",
          "2020-06-26T18:00:00+00:00",
          "2020-06-26T19:00:00+00:00",
          "2020-06-26T20:00:00+00:00",
          "2020-06-26T21:00:00+00:00",
          "2020-06-26T22:00:00+00:00",
          "2020-06-26T23:00:00+00:00"
         ],
         "y": [
          44418.92937899202,
          41613.75039305154,
          40128.86266308259,
          40389.53079687945,
          41947.853897089255,
          46029.24779439048,
          50137.47039478095,
          53373.0457627633,
          55325.266222816834,
          56385.71231843225,
          58290.240010769914,
          58652.336223550345,
          57298.53282377424,
          56073.42203170686,
          54718.72820247713,
          53382.11360154072,
          53236.68939549105,
          54732.85463725854,
          53389.27872533929,
          50671.704386086414,
          50078.72119664783,
          53715.70162011775,
          52197.52082605374,
          46762.24700270807,
          44779.26629697639,
          42140.69944670755,
          40593.57626091858,
          40653.465751795644,
          42035.86094701811,
          45783.13379371158,
          49669.026000442485,
          52789.79964352159,
          54743.224062129804,
          55899.85504661378,
          57659.7264392309,
          57920.58854746207,
          56431.227282092615,
          55175.728442311694,
          53807.190036752814,
          52645.057611437966,
          52587.78955985045,
          54084.93322760289,
          52897.10212543689,
          50185.46277489995,
          49601.178198532885,
          53366.86710454319,
          51937.83536197972,
          46806.93066846819
         ]
        },
        {
         "line": {
          "color": "rgba(0, 0, 0, 0)"
         },
         "showlegend": false,
         "type": "scatter",
         "x": [
          "2020-06-25T00:00:00+00:00",
          "2020-06-25T01:00:00+00:00",
          "2020-06-25T02:00:00+00:00",
          "2020-06-25T03:00:00+00:00",
          "2020-06-25T04:00:00+00:00",
          "2020-06-25T05:00:00+00:00",
          "2020-06-25T06:00:00+00:00",
          "2020-06-25T07:00:00+00:00",
          "2020-06-25T08:00:00+00:00",
          "2020-06-25T09:00:00+00:00",
          "2020-06-25T10:00:00+00:00",
          "2020-06-25T11:00:00+00:00",
          "2020-06-25T12:00:00+00:00",
          "2020-06-25T13:00:00+00:00",
          "2020-06-25T14:00:00+00:00",
          "2020-06-25T15:00:00+00:00",
          "2020-06-25T16:00:00+00:00",
          "2020-06-25T17:00:00+00:00",
          "2020-06-25T18:00:00+00:00",
          "2020-06-25T19:00:00+00:00",
          "2020-06-25T20:00:00+00:00",
          "2020-06-25T21:00:00+00:00",
          "2020-06-25T22:00:00+00:00",
          "2020-06-25T23:00:00+00:00",
          "2020-06-26T00:00:00+00:00",
          "2020-06-26T01:00:00+00:00",
          "2020-06-26T02:00:00+00:00",
          "2020-06-26T03:00:00+00:00",
          "2020-06-26T04:00:00+00:00",
          "2020-06-26T05:00:00+00:00",
          "2020-06-26T06:00:00+00:00",
          "2020-06-26T07:00:00+00:00",
          "2020-06-26T08:00:00+00:00",
          "2020-06-26T09:00:00+00:00",
          "2020-06-26T10:00:00+00:00",
          "2020-06-26T11:00:00+00:00",
          "2020-06-26T12:00:00+00:00",
          "2020-06-26T13:00:00+00:00",
          "2020-06-26T14:00:00+00:00",
          "2020-06-26T15:00:00+00:00",
          "2020-06-26T16:00:00+00:00",
          "2020-06-26T17:00:00+00:00",
          "2020-06-26T18:00:00+00:00",
          "2020-06-26T19:00:00+00:00",
          "2020-06-26T20:00:00+00:00",
          "2020-06-26T21:00:00+00:00",
          "2020-06-26T22:00:00+00:00",
          "2020-06-26T23:00:00+00:00"
         ],
         "y": [
          41586.100060857316,
          37778.6109493272,
          35503.7984935022,
          35007.31910354848,
          35921.66287447638,
          39404.70172932389,
          42969.016896160036,
          45738.06562465548,
          47290.45437180207,
          48021.5346438173,
          49584.75321048108,
          49662.8865669079,
          48093.66104420026,
          46653.455149806214,
          45091.789395263535,
          43556.09822650296,
          43177.75645062624,
          44393.07573557484,
          42869.505246357054,
          40023.85059411361,
          39237.50440943752,
          42544.26921904621,
          40873.23465682569,
          35420.75217538578,
          32687.241397806578,
          29840.77252363244,
          28025.717908463674,
          27731.135223667257,
          28707.136101619777,
          31945.287989109573,
          35326.587530627476,
          37995.041056129434,
          39565.0691476713,
          40392.26312161544,
          41797.423813479596,
          41786.447163746976,
          40122.705650975025,
          38684.05170391695,
          37141.57643648863,
          35799.090140772045,
          35507.02395452746,
          36691.47474997889,
          35336.00968570119,
          32540.620031535604,
          31764.051007961363,
          35111.47933811889,
          33541.01961437191,
          28466.75045399682
         ]
        },
        {
         "fill": "tonexty",
         "fillcolor": "rgba(245, 0, 0, 0.47)",
         "mode": "none",
         "showlegend": false,
         "type": "scatter",
         "x": [
          "2020-06-25T00:00:00+00:00",
          "2020-06-25T01:00:00+00:00",
          "2020-06-25T02:00:00+00:00",
          "2020-06-25T03:00:00+00:00",
          "2020-06-25T04:00:00+00:00",
          "2020-06-25T05:00:00+00:00",
          "2020-06-25T06:00:00+00:00",
          "2020-06-25T07:00:00+00:00",
          "2020-06-25T08:00:00+00:00",
          "2020-06-25T09:00:00+00:00",
          "2020-06-25T10:00:00+00:00",
          "2020-06-25T11:00:00+00:00",
          "2020-06-25T12:00:00+00:00",
          "2020-06-25T13:00:00+00:00",
          "2020-06-25T14:00:00+00:00",
          "2020-06-25T15:00:00+00:00",
          "2020-06-25T16:00:00+00:00",
          "2020-06-25T17:00:00+00:00",
          "2020-06-25T18:00:00+00:00",
          "2020-06-25T19:00:00+00:00",
          "2020-06-25T20:00:00+00:00",
          "2020-06-25T21:00:00+00:00",
          "2020-06-25T22:00:00+00:00",
          "2020-06-25T23:00:00+00:00",
          "2020-06-26T00:00:00+00:00",
          "2020-06-26T01:00:00+00:00",
          "2020-06-26T02:00:00+00:00",
          "2020-06-26T03:00:00+00:00",
          "2020-06-26T04:00:00+00:00",
          "2020-06-26T05:00:00+00:00",
          "2020-06-26T06:00:00+00:00",
          "2020-06-26T07:00:00+00:00",
          "2020-06-26T08:00:00+00:00",
          "2020-06-26T09:00:00+00:00",
          "2020-06-26T10:00:00+00:00",
          "2020-06-26T11:00:00+00:00",
          "2020-06-26T12:00:00+00:00",
          "2020-06-26T13:00:00+00:00",
          "2020-06-26T14:00:00+00:00",
          "2020-06-26T15:00:00+00:00",
          "2020-06-26T16:00:00+00:00",
          "2020-06-26T17:00:00+00:00",
          "2020-06-26T18:00:00+00:00",
          "2020-06-26T19:00:00+00:00",
          "2020-06-26T20:00:00+00:00",
          "2020-06-26T21:00:00+00:00",
          "2020-06-26T22:00:00+00:00",
          "2020-06-26T23:00:00+00:00"
         ],
         "y": [
          47344.986222965585,
          45618.072834321174,
          44981.286596482314,
          46050.95828635419,
          48294.265060906124,
          53006.00363725795,
          57686.28853209007,
          61413.20842677826,
          63788.43475041496,
          65198.607337314825,
          67463.67407534314,
          68128.5681293337,
          67008.25371269268,
          66015.98365809844,
          64885.74518797269,
          63765.10159609147,
          63869.070596214486,
          65662.06977941099,
          64514.07689477557,
          61939.76198841301,
          61554.91513314335,
          65536.55316227322,
          64185.339153355555,
          58781.07615808475,
          57953.85886666625,
          55561.780389669286,
          54321.45614170555,
          54774.89407709235,
          56600.78525445531,
          60891.84877003673,
          65315.687378270304,
          68920.80425162913,
          71288.82244828771,
          72804.75526753669,
          74948.47837637902,
          75509.88667829384,
          74223.0291804202,
          73178.41455909064,
          72011.17920447967,
          71056.27106372279,
          71260.25285166856,
          73096.09641728367,
          72101.50547450529,
          69498.82183437211,
          69131.6329820709,
          73340.03804151314,
          72076.53905973738,
          66912.76614794704
         ]
        }
       ],
       "layout": {
        "font": {
         "color": "#cdc6c6",
         "family": "Arial",
         "size": 15
        },
        "legend": {
         "font": {
          "color": "#cdc6c6"
         }
        },
        "paper_bgcolor": "#383838",
        "plot_bgcolor": "#383838",
        "template": {
         "data": {
          "bar": [
           {
            "error_x": {
             "color": "#2a3f5f"
            },
            "error_y": {
             "color": "#2a3f5f"
            },
            "marker": {
             "line": {
              "color": "#E5ECF6",
              "width": 0.5
             }
            },
            "type": "bar"
           }
          ],
          "barpolar": [
           {
            "marker": {
             "line": {
              "color": "#E5ECF6",
              "width": 0.5
             }
            },
            "type": "barpolar"
           }
          ],
          "carpet": [
           {
            "aaxis": {
             "endlinecolor": "#2a3f5f",
             "gridcolor": "white",
             "linecolor": "white",
             "minorgridcolor": "white",
             "startlinecolor": "#2a3f5f"
            },
            "baxis": {
             "endlinecolor": "#2a3f5f",
             "gridcolor": "white",
             "linecolor": "white",
             "minorgridcolor": "white",
             "startlinecolor": "#2a3f5f"
            },
            "type": "carpet"
           }
          ],
          "choropleth": [
           {
            "colorbar": {
             "outlinewidth": 0,
             "ticks": ""
            },
            "type": "choropleth"
           }
          ],
          "contour": [
           {
            "colorbar": {
             "outlinewidth": 0,
             "ticks": ""
            },
            "colorscale": [
             [
              0,
              "#0d0887"
             ],
             [
              0.1111111111111111,
              "#46039f"
             ],
             [
              0.2222222222222222,
              "#7201a8"
             ],
             [
              0.3333333333333333,
              "#9c179e"
             ],
             [
              0.4444444444444444,
              "#bd3786"
             ],
             [
              0.5555555555555556,
              "#d8576b"
             ],
             [
              0.6666666666666666,
              "#ed7953"
             ],
             [
              0.7777777777777778,
              "#fb9f3a"
             ],
             [
              0.8888888888888888,
              "#fdca26"
             ],
             [
              1,
              "#f0f921"
             ]
            ],
            "type": "contour"
           }
          ],
          "contourcarpet": [
           {
            "colorbar": {
             "outlinewidth": 0,
             "ticks": ""
            },
            "type": "contourcarpet"
           }
          ],
          "heatmap": [
           {
            "colorbar": {
             "outlinewidth": 0,
             "ticks": ""
            },
            "colorscale": [
             [
              0,
              "#0d0887"
             ],
             [
              0.1111111111111111,
              "#46039f"
             ],
             [
              0.2222222222222222,
              "#7201a8"
             ],
             [
              0.3333333333333333,
              "#9c179e"
             ],
             [
              0.4444444444444444,
              "#bd3786"
             ],
             [
              0.5555555555555556,
              "#d8576b"
             ],
             [
              0.6666666666666666,
              "#ed7953"
             ],
             [
              0.7777777777777778,
              "#fb9f3a"
             ],
             [
              0.8888888888888888,
              "#fdca26"
             ],
             [
              1,
              "#f0f921"
             ]
            ],
            "type": "heatmap"
           }
          ],
          "heatmapgl": [
           {
            "colorbar": {
             "outlinewidth": 0,
             "ticks": ""
            },
            "colorscale": [
             [
              0,
              "#0d0887"
             ],
             [
              0.1111111111111111,
              "#46039f"
             ],
             [
              0.2222222222222222,
              "#7201a8"
             ],
             [
              0.3333333333333333,
              "#9c179e"
             ],
             [
              0.4444444444444444,
              "#bd3786"
             ],
             [
              0.5555555555555556,
              "#d8576b"
             ],
             [
              0.6666666666666666,
              "#ed7953"
             ],
             [
              0.7777777777777778,
              "#fb9f3a"
             ],
             [
              0.8888888888888888,
              "#fdca26"
             ],
             [
              1,
              "#f0f921"
             ]
            ],
            "type": "heatmapgl"
           }
          ],
          "histogram": [
           {
            "marker": {
             "colorbar": {
              "outlinewidth": 0,
              "ticks": ""
             }
            },
            "type": "histogram"
           }
          ],
          "histogram2d": [
           {
            "colorbar": {
             "outlinewidth": 0,
             "ticks": ""
            },
            "colorscale": [
             [
              0,
              "#0d0887"
             ],
             [
              0.1111111111111111,
              "#46039f"
             ],
             [
              0.2222222222222222,
              "#7201a8"
             ],
             [
              0.3333333333333333,
              "#9c179e"
             ],
             [
              0.4444444444444444,
              "#bd3786"
             ],
             [
              0.5555555555555556,
              "#d8576b"
             ],
             [
              0.6666666666666666,
              "#ed7953"
             ],
             [
              0.7777777777777778,
              "#fb9f3a"
             ],
             [
              0.8888888888888888,
              "#fdca26"
             ],
             [
              1,
              "#f0f921"
             ]
            ],
            "type": "histogram2d"
           }
          ],
          "histogram2dcontour": [
           {
            "colorbar": {
             "outlinewidth": 0,
             "ticks": ""
            },
            "colorscale": [
             [
              0,
              "#0d0887"
             ],
             [
              0.1111111111111111,
              "#46039f"
             ],
             [
              0.2222222222222222,
              "#7201a8"
             ],
             [
              0.3333333333333333,
              "#9c179e"
             ],
             [
              0.4444444444444444,
              "#bd3786"
             ],
             [
              0.5555555555555556,
              "#d8576b"
             ],
             [
              0.6666666666666666,
              "#ed7953"
             ],
             [
              0.7777777777777778,
              "#fb9f3a"
             ],
             [
              0.8888888888888888,
              "#fdca26"
             ],
             [
              1,
              "#f0f921"
             ]
            ],
            "type": "histogram2dcontour"
           }
          ],
          "mesh3d": [
           {
            "colorbar": {
             "outlinewidth": 0,
             "ticks": ""
            },
            "type": "mesh3d"
           }
          ],
          "parcoords": [
           {
            "line": {
             "colorbar": {
              "outlinewidth": 0,
              "ticks": ""
             }
            },
            "type": "parcoords"
           }
          ],
          "pie": [
           {
            "automargin": true,
            "type": "pie"
           }
          ],
          "scatter": [
           {
            "marker": {
             "colorbar": {
              "outlinewidth": 0,
              "ticks": ""
             }
            },
            "type": "scatter"
           }
          ],
          "scatter3d": [
           {
            "line": {
             "colorbar": {
              "outlinewidth": 0,
              "ticks": ""
             }
            },
            "marker": {
             "colorbar": {
              "outlinewidth": 0,
              "ticks": ""
             }
            },
            "type": "scatter3d"
           }
          ],
          "scattercarpet": [
           {
            "marker": {
             "colorbar": {
              "outlinewidth": 0,
              "ticks": ""
             }
            },
            "type": "scattercarpet"
           }
          ],
          "scattergeo": [
           {
            "marker": {
             "colorbar": {
              "outlinewidth": 0,
              "ticks": ""
             }
            },
            "type": "scattergeo"
           }
          ],
          "scattergl": [
           {
            "marker": {
             "colorbar": {
              "outlinewidth": 0,
              "ticks": ""
             }
            },
            "type": "scattergl"
           }
          ],
          "scattermapbox": [
           {
            "marker": {
             "colorbar": {
              "outlinewidth": 0,
              "ticks": ""
             }
            },
            "type": "scattermapbox"
           }
          ],
          "scatterpolar": [
           {
            "marker": {
             "colorbar": {
              "outlinewidth": 0,
              "ticks": ""
             }
            },
            "type": "scatterpolar"
           }
          ],
          "scatterpolargl": [
           {
            "marker": {
             "colorbar": {
              "outlinewidth": 0,
              "ticks": ""
             }
            },
            "type": "scatterpolargl"
           }
          ],
          "scatterternary": [
           {
            "marker": {
             "colorbar": {
              "outlinewidth": 0,
              "ticks": ""
             }
            },
            "type": "scatterternary"
           }
          ],
          "surface": [
           {
            "colorbar": {
             "outlinewidth": 0,
             "ticks": ""
            },
            "colorscale": [
             [
              0,
              "#0d0887"
             ],
             [
              0.1111111111111111,
              "#46039f"
             ],
             [
              0.2222222222222222,
              "#7201a8"
             ],
             [
              0.3333333333333333,
              "#9c179e"
             ],
             [
              0.4444444444444444,
              "#bd3786"
             ],
             [
              0.5555555555555556,
              "#d8576b"
             ],
             [
              0.6666666666666666,
              "#ed7953"
             ],
             [
              0.7777777777777778,
              "#fb9f3a"
             ],
             [
              0.8888888888888888,
              "#fdca26"
             ],
             [
              1,
              "#f0f921"
             ]
            ],
            "type": "surface"
           }
          ],
          "table": [
           {
            "cells": {
             "fill": {
              "color": "#EBF0F8"
             },
             "line": {
              "color": "white"
             }
            },
            "header": {
             "fill": {
              "color": "#C8D4E3"
             },
             "line": {
              "color": "white"
             }
            },
            "type": "table"
           }
          ]
         },
         "layout": {
          "annotationdefaults": {
           "arrowcolor": "#2a3f5f",
           "arrowhead": 0,
           "arrowwidth": 1
          },
          "coloraxis": {
           "colorbar": {
            "outlinewidth": 0,
            "ticks": ""
           }
          },
          "colorscale": {
           "diverging": [
            [
             0,
             "#8e0152"
            ],
            [
             0.1,
             "#c51b7d"
            ],
            [
             0.2,
             "#de77ae"
            ],
            [
             0.3,
             "#f1b6da"
            ],
            [
             0.4,
             "#fde0ef"
            ],
            [
             0.5,
             "#f7f7f7"
            ],
            [
             0.6,
             "#e6f5d0"
            ],
            [
             0.7,
             "#b8e186"
            ],
            [
             0.8,
             "#7fbc41"
            ],
            [
             0.9,
             "#4d9221"
            ],
            [
             1,
             "#276419"
            ]
           ],
           "sequential": [
            [
             0,
             "#0d0887"
            ],
            [
             0.1111111111111111,
             "#46039f"
            ],
            [
             0.2222222222222222,
             "#7201a8"
            ],
            [
             0.3333333333333333,
             "#9c179e"
            ],
            [
             0.4444444444444444,
             "#bd3786"
            ],
            [
             0.5555555555555556,
             "#d8576b"
            ],
            [
             0.6666666666666666,
             "#ed7953"
            ],
            [
             0.7777777777777778,
             "#fb9f3a"
            ],
            [
             0.8888888888888888,
             "#fdca26"
            ],
            [
             1,
             "#f0f921"
            ]
           ],
           "sequentialminus": [
            [
             0,
             "#0d0887"
            ],
            [
             0.1111111111111111,
             "#46039f"
            ],
            [
             0.2222222222222222,
             "#7201a8"
            ],
            [
             0.3333333333333333,
             "#9c179e"
            ],
            [
             0.4444444444444444,
             "#bd3786"
            ],
            [
             0.5555555555555556,
             "#d8576b"
            ],
            [
             0.6666666666666666,
             "#ed7953"
            ],
            [
             0.7777777777777778,
             "#fb9f3a"
            ],
            [
             0.8888888888888888,
             "#fdca26"
            ],
            [
             1,
             "#f0f921"
            ]
           ]
          },
          "colorway": [
           "#636efa",
           "#EF553B",
           "#00cc96",
           "#ab63fa",
           "#FFA15A",
           "#19d3f3",
           "#FF6692",
           "#B6E880",
           "#FF97FF",
           "#FECB52"
          ],
          "font": {
           "color": "#2a3f5f"
          },
          "geo": {
           "bgcolor": "white",
           "lakecolor": "white",
           "landcolor": "#E5ECF6",
           "showlakes": true,
           "showland": true,
           "subunitcolor": "white"
          },
          "hoverlabel": {
           "align": "left"
          },
          "hovermode": "closest",
          "mapbox": {
           "style": "light"
          },
          "paper_bgcolor": "white",
          "plot_bgcolor": "#E5ECF6",
          "polar": {
           "angularaxis": {
            "gridcolor": "white",
            "linecolor": "white",
            "ticks": ""
           },
           "bgcolor": "#E5ECF6",
           "radialaxis": {
            "gridcolor": "white",
            "linecolor": "white",
            "ticks": ""
           }
          },
          "scene": {
           "xaxis": {
            "backgroundcolor": "#E5ECF6",
            "gridcolor": "white",
            "gridwidth": 2,
            "linecolor": "white",
            "showbackground": true,
            "ticks": "",
            "zerolinecolor": "white"
           },
           "yaxis": {
            "backgroundcolor": "#E5ECF6",
            "gridcolor": "white",
            "gridwidth": 2,
            "linecolor": "white",
            "showbackground": true,
            "ticks": "",
            "zerolinecolor": "white"
           },
           "zaxis": {
            "backgroundcolor": "#E5ECF6",
            "gridcolor": "white",
            "gridwidth": 2,
            "linecolor": "white",
            "showbackground": true,
            "ticks": "",
            "zerolinecolor": "white"
           }
          },
          "shapedefaults": {
           "line": {
            "color": "#2a3f5f"
           }
          },
          "ternary": {
           "aaxis": {
            "gridcolor": "white",
            "linecolor": "white",
            "ticks": ""
           },
           "baxis": {
            "gridcolor": "white",
            "linecolor": "white",
            "ticks": ""
           },
           "bgcolor": "#E5ECF6",
           "caxis": {
            "gridcolor": "white",
            "linecolor": "white",
            "ticks": ""
           }
          },
          "title": {
           "x": 0.05
          },
          "xaxis": {
           "automargin": true,
           "gridcolor": "white",
           "linecolor": "white",
           "ticks": "",
           "title": {
            "standoff": 15
           },
           "zerolinecolor": "white",
           "zerolinewidth": 2
          },
          "yaxis": {
           "automargin": true,
           "gridcolor": "white",
           "linecolor": "white",
           "ticks": "",
           "title": {
            "standoff": 15
           },
           "zerolinecolor": "white",
           "zerolinewidth": 2
          }
         }
        },
        "title": {
         "text": "7 past day(s) - 2 futur day(s)",
         "x": 0.4,
         "xanchor": "center",
         "y": 0.95,
         "yanchor": "top"
        },
        "xaxis": {
         "tickfont": {
          "color": "#cdc6c6"
         },
         "title": {
          "text": "Time"
         }
        },
        "yaxis": {
         "tickfont": {
          "color": "#cdc6c6"
         },
         "title": {
          "text": "Energy in MWh"
         }
        }
       }
      },
      "text/html": [
       "<div>\n",
       "        \n",
       "        \n",
       "            <div id=\"56f96964-00ac-4538-88c7-940dd5213ac0\" class=\"plotly-graph-div\" style=\"height:525px; width:100%;\"></div>\n",
       "            <script type=\"text/javascript\">\n",
       "                require([\"plotly\"], function(Plotly) {\n",
       "                    window.PLOTLYENV=window.PLOTLYENV || {};\n",
       "                    \n",
       "                if (document.getElementById(\"56f96964-00ac-4538-88c7-940dd5213ac0\")) {\n",
       "                    Plotly.newPlot(\n",
       "                        '56f96964-00ac-4538-88c7-940dd5213ac0',\n",
       "                        [{\"name\": \"Real electrical consumption\", \"type\": \"scatter\", \"x\": [\"2020-06-18T00:00:00+00:00\", \"2020-06-18T01:00:00+00:00\", \"2020-06-18T02:00:00+00:00\", \"2020-06-18T03:00:00+00:00\", \"2020-06-18T04:00:00+00:00\", \"2020-06-18T05:00:00+00:00\", \"2020-06-18T06:00:00+00:00\", \"2020-06-18T07:00:00+00:00\", \"2020-06-18T08:00:00+00:00\", \"2020-06-18T09:00:00+00:00\", \"2020-06-18T10:00:00+00:00\", \"2020-06-18T11:00:00+00:00\", \"2020-06-18T12:00:00+00:00\", \"2020-06-18T13:00:00+00:00\", \"2020-06-18T14:00:00+00:00\", \"2020-06-18T15:00:00+00:00\", \"2020-06-18T16:00:00+00:00\", \"2020-06-18T17:00:00+00:00\", \"2020-06-18T18:00:00+00:00\", \"2020-06-18T19:00:00+00:00\", \"2020-06-18T20:00:00+00:00\", \"2020-06-18T21:00:00+00:00\", \"2020-06-18T22:00:00+00:00\", \"2020-06-18T23:00:00+00:00\", \"2020-06-19T00:00:00+00:00\", \"2020-06-19T01:00:00+00:00\", \"2020-06-19T02:00:00+00:00\", \"2020-06-19T03:00:00+00:00\", \"2020-06-19T04:00:00+00:00\", \"2020-06-19T05:00:00+00:00\", \"2020-06-19T06:00:00+00:00\", \"2020-06-19T07:00:00+00:00\", \"2020-06-19T08:00:00+00:00\", \"2020-06-19T09:00:00+00:00\", \"2020-06-19T10:00:00+00:00\", \"2020-06-19T11:00:00+00:00\", \"2020-06-19T12:00:00+00:00\", \"2020-06-19T13:00:00+00:00\", \"2020-06-19T14:00:00+00:00\", \"2020-06-19T15:00:00+00:00\", \"2020-06-19T16:00:00+00:00\", \"2020-06-19T17:00:00+00:00\", \"2020-06-19T18:00:00+00:00\", \"2020-06-19T19:00:00+00:00\", \"2020-06-19T20:00:00+00:00\", \"2020-06-19T21:00:00+00:00\", \"2020-06-19T22:00:00+00:00\", \"2020-06-19T23:00:00+00:00\", \"2020-06-20T00:00:00+00:00\", \"2020-06-20T01:00:00+00:00\", \"2020-06-20T02:00:00+00:00\", \"2020-06-20T03:00:00+00:00\", \"2020-06-20T04:00:00+00:00\", \"2020-06-20T05:00:00+00:00\", \"2020-06-20T06:00:00+00:00\", \"2020-06-20T07:00:00+00:00\", \"2020-06-20T08:00:00+00:00\", \"2020-06-20T09:00:00+00:00\", \"2020-06-20T10:00:00+00:00\", \"2020-06-20T11:00:00+00:00\", \"2020-06-20T12:00:00+00:00\", \"2020-06-20T13:00:00+00:00\", \"2020-06-20T14:00:00+00:00\", \"2020-06-20T15:00:00+00:00\", \"2020-06-20T16:00:00+00:00\", \"2020-06-20T17:00:00+00:00\", \"2020-06-20T18:00:00+00:00\", \"2020-06-20T19:00:00+00:00\", \"2020-06-20T20:00:00+00:00\", \"2020-06-20T21:00:00+00:00\", \"2020-06-20T22:00:00+00:00\", \"2020-06-20T23:00:00+00:00\", \"2020-06-21T00:00:00+00:00\", \"2020-06-21T01:00:00+00:00\", \"2020-06-21T02:00:00+00:00\", \"2020-06-21T03:00:00+00:00\", \"2020-06-21T04:00:00+00:00\", \"2020-06-21T05:00:00+00:00\", \"2020-06-21T06:00:00+00:00\", \"2020-06-21T07:00:00+00:00\", \"2020-06-21T08:00:00+00:00\", \"2020-06-21T09:00:00+00:00\", \"2020-06-21T10:00:00+00:00\", \"2020-06-21T11:00:00+00:00\", \"2020-06-21T12:00:00+00:00\", \"2020-06-21T13:00:00+00:00\", \"2020-06-21T14:00:00+00:00\", \"2020-06-21T15:00:00+00:00\", \"2020-06-21T16:00:00+00:00\", \"2020-06-21T17:00:00+00:00\", \"2020-06-21T18:00:00+00:00\", \"2020-06-21T19:00:00+00:00\", \"2020-06-21T20:00:00+00:00\", \"2020-06-21T21:00:00+00:00\", \"2020-06-21T22:00:00+00:00\", \"2020-06-21T23:00:00+00:00\", \"2020-06-22T00:00:00+00:00\", \"2020-06-22T01:00:00+00:00\", \"2020-06-22T02:00:00+00:00\", \"2020-06-22T03:00:00+00:00\", \"2020-06-22T04:00:00+00:00\", \"2020-06-22T05:00:00+00:00\", \"2020-06-22T06:00:00+00:00\", \"2020-06-22T07:00:00+00:00\", \"2020-06-22T08:00:00+00:00\", \"2020-06-22T09:00:00+00:00\", \"2020-06-22T10:00:00+00:00\", \"2020-06-22T11:00:00+00:00\", \"2020-06-22T12:00:00+00:00\", \"2020-06-22T13:00:00+00:00\", \"2020-06-22T14:00:00+00:00\", \"2020-06-22T15:00:00+00:00\", \"2020-06-22T16:00:00+00:00\", \"2020-06-22T17:00:00+00:00\", \"2020-06-22T18:00:00+00:00\", \"2020-06-22T19:00:00+00:00\", \"2020-06-22T20:00:00+00:00\", \"2020-06-22T21:00:00+00:00\", \"2020-06-22T22:00:00+00:00\", \"2020-06-22T23:00:00+00:00\", \"2020-06-23T00:00:00+00:00\", \"2020-06-23T01:00:00+00:00\", \"2020-06-23T02:00:00+00:00\", \"2020-06-23T03:00:00+00:00\", \"2020-06-23T04:00:00+00:00\", \"2020-06-23T05:00:00+00:00\", \"2020-06-23T06:00:00+00:00\", \"2020-06-23T07:00:00+00:00\", \"2020-06-23T08:00:00+00:00\", \"2020-06-23T09:00:00+00:00\", \"2020-06-23T10:00:00+00:00\", \"2020-06-23T11:00:00+00:00\", \"2020-06-23T12:00:00+00:00\", \"2020-06-23T13:00:00+00:00\", \"2020-06-23T14:00:00+00:00\", \"2020-06-23T15:00:00+00:00\", \"2020-06-23T16:00:00+00:00\", \"2020-06-23T17:00:00+00:00\", \"2020-06-23T18:00:00+00:00\", \"2020-06-23T19:00:00+00:00\", \"2020-06-23T20:00:00+00:00\", \"2020-06-23T21:00:00+00:00\", \"2020-06-23T22:00:00+00:00\", \"2020-06-23T23:00:00+00:00\", \"2020-06-24T00:00:00+00:00\", \"2020-06-24T01:00:00+00:00\", \"2020-06-24T02:00:00+00:00\", \"2020-06-24T03:00:00+00:00\", \"2020-06-24T04:00:00+00:00\", \"2020-06-24T05:00:00+00:00\", \"2020-06-24T06:00:00+00:00\", \"2020-06-24T07:00:00+00:00\", \"2020-06-24T08:00:00+00:00\", \"2020-06-24T09:00:00+00:00\", \"2020-06-24T10:00:00+00:00\", \"2020-06-24T11:00:00+00:00\", \"2020-06-24T12:00:00+00:00\", \"2020-06-24T13:00:00+00:00\", \"2020-06-24T14:00:00+00:00\", \"2020-06-24T15:00:00+00:00\", \"2020-06-24T16:00:00+00:00\", \"2020-06-24T17:00:00+00:00\", \"2020-06-24T18:00:00+00:00\", \"2020-06-24T19:00:00+00:00\", \"2020-06-24T20:00:00+00:00\", \"2020-06-24T21:00:00+00:00\", \"2020-06-24T22:00:00+00:00\", \"2020-06-24T23:00:00+00:00\"], \"y\": [38486.0, 36124.0, 34630.0, 34837.0, 36724.0, 40624.0, 44675.0, 47092.0, 48482.0, 49074.0, 50607.0, 50683.0, 49110.0, 47464.0, 46346.0, 45313.0, 45060.0, 46601.0, 45493.0, 45493.0, 45493.0, 45493.0, 44157.0, 39463.0, 38087.0, 35831.0, 34615.0, 34556.0, 36212.0, 40323.0, 44123.0, 46767.0, 48055.0, 48611.0, 49724.0, 49751.0, 48106.0, 46108.0, 44707.0, 43529.0, 43576.0, 44416.0, 43279.0, 40926.0, 40976.0, 45101.0, 44016.0, 39477.0, 37992.0, 35265.0, 33698.0, 32824.0, 32441.0, 33935.0, 35849.0, 38824.0, 41282.0, 42295.0, 43921.0, 45084.0, 42304.0, 40962.0, 39641.0, 39044.0, 39066.0, 40692.0, 39766.0, 38323.0, 38412.0, 42929.0, 42302.0, 37517.0, 36118.0, 33344.0, 31381.0, 30449.0, 29728.0, 30158.0, 31773.0, 34742.0, 37375.0, 39286.0, 41281.0, 42033.0, 38961.0, 37638.0, 36092.0, 35817.0, 36382.0, 38534.0, 39101.0, 38241.0, 38380.0, 41798.0, 41050.0, 36963.0, 35670.0, 33311.0, 32060.0, 32731.0, 35003.0, 39745.0, 43916.0, 46859.0, 48069.0, 48899.0, 50582.0, 50839.0, 50065.0, 48676.0, 47754.0, 46435.0, 46157.0, 47848.0, 46918.0, 43801.0, 42995.0, 46413.0, 45045.0, 39681.0, 38314.0, 35801.0, 34359.0, 34409.0, 36158.0, 40638.0, 44861.0, 47700.0, 49445.0, 50468.0, 51794.0, 51840.0, 50680.0, 49773.0, 48713.0, 47485.0, 47225.0, 48545.0, 46832.0, 43976.0, 42895.0, 46273.0, 44786.0, 39511.0, 38528.0, 36117.0, 34639.0, 34938.0, 36396.0, 40386.0, 44663.0, 47903.0, 49946.0, 51127.0, 53189.0, 53439.0, 52666.0, 51795.0, 50260.0, 48749.0, 48633.0, 49690.0, 48090.0, 44913.0, 44290.0, 48113.0, 46333.0, 41276.0]}, {\"name\": \"Predicted electrical consumption\", \"type\": \"scatter\", \"x\": [\"2020-06-25T00:00:00+00:00\", \"2020-06-25T01:00:00+00:00\", \"2020-06-25T02:00:00+00:00\", \"2020-06-25T03:00:00+00:00\", \"2020-06-25T04:00:00+00:00\", \"2020-06-25T05:00:00+00:00\", \"2020-06-25T06:00:00+00:00\", \"2020-06-25T07:00:00+00:00\", \"2020-06-25T08:00:00+00:00\", \"2020-06-25T09:00:00+00:00\", \"2020-06-25T10:00:00+00:00\", \"2020-06-25T11:00:00+00:00\", \"2020-06-25T12:00:00+00:00\", \"2020-06-25T13:00:00+00:00\", \"2020-06-25T14:00:00+00:00\", \"2020-06-25T15:00:00+00:00\", \"2020-06-25T16:00:00+00:00\", \"2020-06-25T17:00:00+00:00\", \"2020-06-25T18:00:00+00:00\", \"2020-06-25T19:00:00+00:00\", \"2020-06-25T20:00:00+00:00\", \"2020-06-25T21:00:00+00:00\", \"2020-06-25T22:00:00+00:00\", \"2020-06-25T23:00:00+00:00\", \"2020-06-26T00:00:00+00:00\", \"2020-06-26T01:00:00+00:00\", \"2020-06-26T02:00:00+00:00\", \"2020-06-26T03:00:00+00:00\", \"2020-06-26T04:00:00+00:00\", \"2020-06-26T05:00:00+00:00\", \"2020-06-26T06:00:00+00:00\", \"2020-06-26T07:00:00+00:00\", \"2020-06-26T08:00:00+00:00\", \"2020-06-26T09:00:00+00:00\", \"2020-06-26T10:00:00+00:00\", \"2020-06-26T11:00:00+00:00\", \"2020-06-26T12:00:00+00:00\", \"2020-06-26T13:00:00+00:00\", \"2020-06-26T14:00:00+00:00\", \"2020-06-26T15:00:00+00:00\", \"2020-06-26T16:00:00+00:00\", \"2020-06-26T17:00:00+00:00\", \"2020-06-26T18:00:00+00:00\", \"2020-06-26T19:00:00+00:00\", \"2020-06-26T20:00:00+00:00\", \"2020-06-26T21:00:00+00:00\", \"2020-06-26T22:00:00+00:00\", \"2020-06-26T23:00:00+00:00\"], \"y\": [44418.92937899202, 41613.75039305154, 40128.86266308259, 40389.53079687945, 41947.853897089255, 46029.24779439048, 50137.47039478095, 53373.0457627633, 55325.266222816834, 56385.71231843225, 58290.240010769914, 58652.336223550345, 57298.53282377424, 56073.42203170686, 54718.72820247713, 53382.11360154072, 53236.68939549105, 54732.85463725854, 53389.27872533929, 50671.704386086414, 50078.72119664783, 53715.70162011775, 52197.52082605374, 46762.24700270807, 44779.26629697639, 42140.69944670755, 40593.57626091858, 40653.465751795644, 42035.86094701811, 45783.13379371158, 49669.026000442485, 52789.79964352159, 54743.224062129804, 55899.85504661378, 57659.7264392309, 57920.58854746207, 56431.227282092615, 55175.728442311694, 53807.190036752814, 52645.057611437966, 52587.78955985045, 54084.93322760289, 52897.10212543689, 50185.46277489995, 49601.178198532885, 53366.86710454319, 51937.83536197972, 46806.93066846819]}, {\"line\": {\"color\": \"rgba(0, 0, 0, 0)\"}, \"showlegend\": false, \"type\": \"scatter\", \"x\": [\"2020-06-25T00:00:00+00:00\", \"2020-06-25T01:00:00+00:00\", \"2020-06-25T02:00:00+00:00\", \"2020-06-25T03:00:00+00:00\", \"2020-06-25T04:00:00+00:00\", \"2020-06-25T05:00:00+00:00\", \"2020-06-25T06:00:00+00:00\", \"2020-06-25T07:00:00+00:00\", \"2020-06-25T08:00:00+00:00\", \"2020-06-25T09:00:00+00:00\", \"2020-06-25T10:00:00+00:00\", \"2020-06-25T11:00:00+00:00\", \"2020-06-25T12:00:00+00:00\", \"2020-06-25T13:00:00+00:00\", \"2020-06-25T14:00:00+00:00\", \"2020-06-25T15:00:00+00:00\", \"2020-06-25T16:00:00+00:00\", \"2020-06-25T17:00:00+00:00\", \"2020-06-25T18:00:00+00:00\", \"2020-06-25T19:00:00+00:00\", \"2020-06-25T20:00:00+00:00\", \"2020-06-25T21:00:00+00:00\", \"2020-06-25T22:00:00+00:00\", \"2020-06-25T23:00:00+00:00\", \"2020-06-26T00:00:00+00:00\", \"2020-06-26T01:00:00+00:00\", \"2020-06-26T02:00:00+00:00\", \"2020-06-26T03:00:00+00:00\", \"2020-06-26T04:00:00+00:00\", \"2020-06-26T05:00:00+00:00\", \"2020-06-26T06:00:00+00:00\", \"2020-06-26T07:00:00+00:00\", \"2020-06-26T08:00:00+00:00\", \"2020-06-26T09:00:00+00:00\", \"2020-06-26T10:00:00+00:00\", \"2020-06-26T11:00:00+00:00\", \"2020-06-26T12:00:00+00:00\", \"2020-06-26T13:00:00+00:00\", \"2020-06-26T14:00:00+00:00\", \"2020-06-26T15:00:00+00:00\", \"2020-06-26T16:00:00+00:00\", \"2020-06-26T17:00:00+00:00\", \"2020-06-26T18:00:00+00:00\", \"2020-06-26T19:00:00+00:00\", \"2020-06-26T20:00:00+00:00\", \"2020-06-26T21:00:00+00:00\", \"2020-06-26T22:00:00+00:00\", \"2020-06-26T23:00:00+00:00\"], \"y\": [41586.100060857316, 37778.6109493272, 35503.7984935022, 35007.31910354848, 35921.66287447638, 39404.70172932389, 42969.016896160036, 45738.06562465548, 47290.45437180207, 48021.5346438173, 49584.75321048108, 49662.8865669079, 48093.66104420026, 46653.455149806214, 45091.789395263535, 43556.09822650296, 43177.75645062624, 44393.07573557484, 42869.505246357054, 40023.85059411361, 39237.50440943752, 42544.26921904621, 40873.23465682569, 35420.75217538578, 32687.241397806578, 29840.77252363244, 28025.717908463674, 27731.135223667257, 28707.136101619777, 31945.287989109573, 35326.587530627476, 37995.041056129434, 39565.0691476713, 40392.26312161544, 41797.423813479596, 41786.447163746976, 40122.705650975025, 38684.05170391695, 37141.57643648863, 35799.090140772045, 35507.02395452746, 36691.47474997889, 35336.00968570119, 32540.620031535604, 31764.051007961363, 35111.47933811889, 33541.01961437191, 28466.75045399682]}, {\"fill\": \"tonexty\", \"fillcolor\": \"rgba(245, 0, 0, 0.47)\", \"mode\": \"none\", \"showlegend\": false, \"type\": \"scatter\", \"x\": [\"2020-06-25T00:00:00+00:00\", \"2020-06-25T01:00:00+00:00\", \"2020-06-25T02:00:00+00:00\", \"2020-06-25T03:00:00+00:00\", \"2020-06-25T04:00:00+00:00\", \"2020-06-25T05:00:00+00:00\", \"2020-06-25T06:00:00+00:00\", \"2020-06-25T07:00:00+00:00\", \"2020-06-25T08:00:00+00:00\", \"2020-06-25T09:00:00+00:00\", \"2020-06-25T10:00:00+00:00\", \"2020-06-25T11:00:00+00:00\", \"2020-06-25T12:00:00+00:00\", \"2020-06-25T13:00:00+00:00\", \"2020-06-25T14:00:00+00:00\", \"2020-06-25T15:00:00+00:00\", \"2020-06-25T16:00:00+00:00\", \"2020-06-25T17:00:00+00:00\", \"2020-06-25T18:00:00+00:00\", \"2020-06-25T19:00:00+00:00\", \"2020-06-25T20:00:00+00:00\", \"2020-06-25T21:00:00+00:00\", \"2020-06-25T22:00:00+00:00\", \"2020-06-25T23:00:00+00:00\", \"2020-06-26T00:00:00+00:00\", \"2020-06-26T01:00:00+00:00\", \"2020-06-26T02:00:00+00:00\", \"2020-06-26T03:00:00+00:00\", \"2020-06-26T04:00:00+00:00\", \"2020-06-26T05:00:00+00:00\", \"2020-06-26T06:00:00+00:00\", \"2020-06-26T07:00:00+00:00\", \"2020-06-26T08:00:00+00:00\", \"2020-06-26T09:00:00+00:00\", \"2020-06-26T10:00:00+00:00\", \"2020-06-26T11:00:00+00:00\", \"2020-06-26T12:00:00+00:00\", \"2020-06-26T13:00:00+00:00\", \"2020-06-26T14:00:00+00:00\", \"2020-06-26T15:00:00+00:00\", \"2020-06-26T16:00:00+00:00\", \"2020-06-26T17:00:00+00:00\", \"2020-06-26T18:00:00+00:00\", \"2020-06-26T19:00:00+00:00\", \"2020-06-26T20:00:00+00:00\", \"2020-06-26T21:00:00+00:00\", \"2020-06-26T22:00:00+00:00\", \"2020-06-26T23:00:00+00:00\"], \"y\": [47344.986222965585, 45618.072834321174, 44981.286596482314, 46050.95828635419, 48294.265060906124, 53006.00363725795, 57686.28853209007, 61413.20842677826, 63788.43475041496, 65198.607337314825, 67463.67407534314, 68128.5681293337, 67008.25371269268, 66015.98365809844, 64885.74518797269, 63765.10159609147, 63869.070596214486, 65662.06977941099, 64514.07689477557, 61939.76198841301, 61554.91513314335, 65536.55316227322, 64185.339153355555, 58781.07615808475, 57953.85886666625, 55561.780389669286, 54321.45614170555, 54774.89407709235, 56600.78525445531, 60891.84877003673, 65315.687378270304, 68920.80425162913, 71288.82244828771, 72804.75526753669, 74948.47837637902, 75509.88667829384, 74223.0291804202, 73178.41455909064, 72011.17920447967, 71056.27106372279, 71260.25285166856, 73096.09641728367, 72101.50547450529, 69498.82183437211, 69131.6329820709, 73340.03804151314, 72076.53905973738, 66912.76614794704]}],\n",
       "                        {\"font\": {\"color\": \"#cdc6c6\", \"family\": \"Arial\", \"size\": 15}, \"legend\": {\"font\": {\"color\": \"#cdc6c6\"}}, \"paper_bgcolor\": \"#383838\", \"plot_bgcolor\": \"#383838\", \"template\": {\"data\": {\"bar\": [{\"error_x\": {\"color\": \"#2a3f5f\"}, \"error_y\": {\"color\": \"#2a3f5f\"}, \"marker\": {\"line\": {\"color\": \"#E5ECF6\", \"width\": 0.5}}, \"type\": \"bar\"}], \"barpolar\": [{\"marker\": {\"line\": {\"color\": \"#E5ECF6\", \"width\": 0.5}}, \"type\": \"barpolar\"}], \"carpet\": [{\"aaxis\": {\"endlinecolor\": \"#2a3f5f\", \"gridcolor\": \"white\", \"linecolor\": \"white\", \"minorgridcolor\": \"white\", \"startlinecolor\": \"#2a3f5f\"}, \"baxis\": {\"endlinecolor\": \"#2a3f5f\", \"gridcolor\": \"white\", \"linecolor\": \"white\", \"minorgridcolor\": \"white\", \"startlinecolor\": \"#2a3f5f\"}, \"type\": \"carpet\"}], \"choropleth\": [{\"colorbar\": {\"outlinewidth\": 0, \"ticks\": \"\"}, \"type\": \"choropleth\"}], \"contour\": [{\"colorbar\": {\"outlinewidth\": 0, \"ticks\": \"\"}, \"colorscale\": [[0.0, \"#0d0887\"], [0.1111111111111111, \"#46039f\"], [0.2222222222222222, \"#7201a8\"], [0.3333333333333333, \"#9c179e\"], [0.4444444444444444, \"#bd3786\"], [0.5555555555555556, \"#d8576b\"], [0.6666666666666666, \"#ed7953\"], [0.7777777777777778, \"#fb9f3a\"], [0.8888888888888888, \"#fdca26\"], [1.0, \"#f0f921\"]], \"type\": \"contour\"}], \"contourcarpet\": [{\"colorbar\": {\"outlinewidth\": 0, \"ticks\": \"\"}, \"type\": \"contourcarpet\"}], \"heatmap\": [{\"colorbar\": {\"outlinewidth\": 0, \"ticks\": \"\"}, \"colorscale\": [[0.0, \"#0d0887\"], [0.1111111111111111, \"#46039f\"], [0.2222222222222222, \"#7201a8\"], [0.3333333333333333, \"#9c179e\"], [0.4444444444444444, \"#bd3786\"], [0.5555555555555556, \"#d8576b\"], [0.6666666666666666, \"#ed7953\"], [0.7777777777777778, \"#fb9f3a\"], [0.8888888888888888, \"#fdca26\"], [1.0, \"#f0f921\"]], \"type\": \"heatmap\"}], \"heatmapgl\": [{\"colorbar\": {\"outlinewidth\": 0, \"ticks\": \"\"}, \"colorscale\": [[0.0, \"#0d0887\"], [0.1111111111111111, \"#46039f\"], [0.2222222222222222, \"#7201a8\"], [0.3333333333333333, \"#9c179e\"], [0.4444444444444444, \"#bd3786\"], [0.5555555555555556, \"#d8576b\"], [0.6666666666666666, \"#ed7953\"], [0.7777777777777778, \"#fb9f3a\"], [0.8888888888888888, \"#fdca26\"], [1.0, \"#f0f921\"]], \"type\": \"heatmapgl\"}], \"histogram\": [{\"marker\": {\"colorbar\": {\"outlinewidth\": 0, \"ticks\": \"\"}}, \"type\": \"histogram\"}], \"histogram2d\": [{\"colorbar\": {\"outlinewidth\": 0, \"ticks\": \"\"}, \"colorscale\": [[0.0, \"#0d0887\"], [0.1111111111111111, \"#46039f\"], [0.2222222222222222, \"#7201a8\"], [0.3333333333333333, \"#9c179e\"], [0.4444444444444444, \"#bd3786\"], [0.5555555555555556, \"#d8576b\"], [0.6666666666666666, \"#ed7953\"], [0.7777777777777778, \"#fb9f3a\"], [0.8888888888888888, \"#fdca26\"], [1.0, \"#f0f921\"]], \"type\": \"histogram2d\"}], \"histogram2dcontour\": [{\"colorbar\": {\"outlinewidth\": 0, \"ticks\": \"\"}, \"colorscale\": [[0.0, \"#0d0887\"], [0.1111111111111111, \"#46039f\"], [0.2222222222222222, \"#7201a8\"], [0.3333333333333333, \"#9c179e\"], [0.4444444444444444, \"#bd3786\"], [0.5555555555555556, \"#d8576b\"], [0.6666666666666666, \"#ed7953\"], [0.7777777777777778, \"#fb9f3a\"], [0.8888888888888888, \"#fdca26\"], [1.0, \"#f0f921\"]], \"type\": \"histogram2dcontour\"}], \"mesh3d\": [{\"colorbar\": {\"outlinewidth\": 0, \"ticks\": \"\"}, \"type\": \"mesh3d\"}], \"parcoords\": [{\"line\": {\"colorbar\": {\"outlinewidth\": 0, \"ticks\": \"\"}}, \"type\": \"parcoords\"}], \"pie\": [{\"automargin\": true, \"type\": \"pie\"}], \"scatter\": [{\"marker\": {\"colorbar\": {\"outlinewidth\": 0, \"ticks\": \"\"}}, \"type\": \"scatter\"}], \"scatter3d\": [{\"line\": {\"colorbar\": {\"outlinewidth\": 0, \"ticks\": \"\"}}, \"marker\": {\"colorbar\": {\"outlinewidth\": 0, \"ticks\": \"\"}}, \"type\": \"scatter3d\"}], \"scattercarpet\": [{\"marker\": {\"colorbar\": {\"outlinewidth\": 0, \"ticks\": \"\"}}, \"type\": \"scattercarpet\"}], \"scattergeo\": [{\"marker\": {\"colorbar\": {\"outlinewidth\": 0, \"ticks\": \"\"}}, \"type\": \"scattergeo\"}], \"scattergl\": [{\"marker\": {\"colorbar\": {\"outlinewidth\": 0, \"ticks\": \"\"}}, \"type\": \"scattergl\"}], \"scattermapbox\": [{\"marker\": {\"colorbar\": {\"outlinewidth\": 0, \"ticks\": \"\"}}, \"type\": \"scattermapbox\"}], \"scatterpolar\": [{\"marker\": {\"colorbar\": {\"outlinewidth\": 0, \"ticks\": \"\"}}, \"type\": \"scatterpolar\"}], \"scatterpolargl\": [{\"marker\": {\"colorbar\": {\"outlinewidth\": 0, \"ticks\": \"\"}}, \"type\": \"scatterpolargl\"}], \"scatterternary\": [{\"marker\": {\"colorbar\": {\"outlinewidth\": 0, \"ticks\": \"\"}}, \"type\": \"scatterternary\"}], \"surface\": [{\"colorbar\": {\"outlinewidth\": 0, \"ticks\": \"\"}, \"colorscale\": [[0.0, \"#0d0887\"], [0.1111111111111111, \"#46039f\"], [0.2222222222222222, \"#7201a8\"], [0.3333333333333333, \"#9c179e\"], [0.4444444444444444, \"#bd3786\"], [0.5555555555555556, \"#d8576b\"], [0.6666666666666666, \"#ed7953\"], [0.7777777777777778, \"#fb9f3a\"], [0.8888888888888888, \"#fdca26\"], [1.0, \"#f0f921\"]], \"type\": \"surface\"}], \"table\": [{\"cells\": {\"fill\": {\"color\": \"#EBF0F8\"}, \"line\": {\"color\": \"white\"}}, \"header\": {\"fill\": {\"color\": \"#C8D4E3\"}, \"line\": {\"color\": \"white\"}}, \"type\": \"table\"}]}, \"layout\": {\"annotationdefaults\": {\"arrowcolor\": \"#2a3f5f\", \"arrowhead\": 0, \"arrowwidth\": 1}, \"coloraxis\": {\"colorbar\": {\"outlinewidth\": 0, \"ticks\": \"\"}}, \"colorscale\": {\"diverging\": [[0, \"#8e0152\"], [0.1, \"#c51b7d\"], [0.2, \"#de77ae\"], [0.3, \"#f1b6da\"], [0.4, \"#fde0ef\"], [0.5, \"#f7f7f7\"], [0.6, \"#e6f5d0\"], [0.7, \"#b8e186\"], [0.8, \"#7fbc41\"], [0.9, \"#4d9221\"], [1, \"#276419\"]], \"sequential\": [[0.0, \"#0d0887\"], [0.1111111111111111, \"#46039f\"], [0.2222222222222222, \"#7201a8\"], [0.3333333333333333, \"#9c179e\"], [0.4444444444444444, \"#bd3786\"], [0.5555555555555556, \"#d8576b\"], [0.6666666666666666, \"#ed7953\"], [0.7777777777777778, \"#fb9f3a\"], [0.8888888888888888, \"#fdca26\"], [1.0, \"#f0f921\"]], \"sequentialminus\": [[0.0, \"#0d0887\"], [0.1111111111111111, \"#46039f\"], [0.2222222222222222, \"#7201a8\"], [0.3333333333333333, \"#9c179e\"], [0.4444444444444444, \"#bd3786\"], [0.5555555555555556, \"#d8576b\"], [0.6666666666666666, \"#ed7953\"], [0.7777777777777778, \"#fb9f3a\"], [0.8888888888888888, \"#fdca26\"], [1.0, \"#f0f921\"]]}, \"colorway\": [\"#636efa\", \"#EF553B\", \"#00cc96\", \"#ab63fa\", \"#FFA15A\", \"#19d3f3\", \"#FF6692\", \"#B6E880\", \"#FF97FF\", \"#FECB52\"], \"font\": {\"color\": \"#2a3f5f\"}, \"geo\": {\"bgcolor\": \"white\", \"lakecolor\": \"white\", \"landcolor\": \"#E5ECF6\", \"showlakes\": true, \"showland\": true, \"subunitcolor\": \"white\"}, \"hoverlabel\": {\"align\": \"left\"}, \"hovermode\": \"closest\", \"mapbox\": {\"style\": \"light\"}, \"paper_bgcolor\": \"white\", \"plot_bgcolor\": \"#E5ECF6\", \"polar\": {\"angularaxis\": {\"gridcolor\": \"white\", \"linecolor\": \"white\", \"ticks\": \"\"}, \"bgcolor\": \"#E5ECF6\", \"radialaxis\": {\"gridcolor\": \"white\", \"linecolor\": \"white\", \"ticks\": \"\"}}, \"scene\": {\"xaxis\": {\"backgroundcolor\": \"#E5ECF6\", \"gridcolor\": \"white\", \"gridwidth\": 2, \"linecolor\": \"white\", \"showbackground\": true, \"ticks\": \"\", \"zerolinecolor\": \"white\"}, \"yaxis\": {\"backgroundcolor\": \"#E5ECF6\", \"gridcolor\": \"white\", \"gridwidth\": 2, \"linecolor\": \"white\", \"showbackground\": true, \"ticks\": \"\", \"zerolinecolor\": \"white\"}, \"zaxis\": {\"backgroundcolor\": \"#E5ECF6\", \"gridcolor\": \"white\", \"gridwidth\": 2, \"linecolor\": \"white\", \"showbackground\": true, \"ticks\": \"\", \"zerolinecolor\": \"white\"}}, \"shapedefaults\": {\"line\": {\"color\": \"#2a3f5f\"}}, \"ternary\": {\"aaxis\": {\"gridcolor\": \"white\", \"linecolor\": \"white\", \"ticks\": \"\"}, \"baxis\": {\"gridcolor\": \"white\", \"linecolor\": \"white\", \"ticks\": \"\"}, \"bgcolor\": \"#E5ECF6\", \"caxis\": {\"gridcolor\": \"white\", \"linecolor\": \"white\", \"ticks\": \"\"}}, \"title\": {\"x\": 0.05}, \"xaxis\": {\"automargin\": true, \"gridcolor\": \"white\", \"linecolor\": \"white\", \"ticks\": \"\", \"title\": {\"standoff\": 15}, \"zerolinecolor\": \"white\", \"zerolinewidth\": 2}, \"yaxis\": {\"automargin\": true, \"gridcolor\": \"white\", \"linecolor\": \"white\", \"ticks\": \"\", \"title\": {\"standoff\": 15}, \"zerolinecolor\": \"white\", \"zerolinewidth\": 2}}}, \"title\": {\"text\": \"7 past day(s) - 2 futur day(s)\", \"x\": 0.4, \"xanchor\": \"center\", \"y\": 0.95, \"yanchor\": \"top\"}, \"xaxis\": {\"tickfont\": {\"color\": \"#cdc6c6\"}, \"title\": {\"text\": \"Time\"}}, \"yaxis\": {\"tickfont\": {\"color\": \"#cdc6c6\"}, \"title\": {\"text\": \"Energy in MWh\"}}},\n",
       "                        {\"responsive\": true}\n",
       "                    ).then(function(){\n",
       "                            \n",
       "var gd = document.getElementById('56f96964-00ac-4538-88c7-940dd5213ac0');\n",
       "var x = new MutationObserver(function (mutations, observer) {{\n",
       "        var display = window.getComputedStyle(gd).display;\n",
       "        if (!display || display === 'none') {{\n",
       "            console.log([gd, 'removed!']);\n",
       "            Plotly.purge(gd);\n",
       "            observer.disconnect();\n",
       "        }}\n",
       "}});\n",
       "\n",
       "// Listen for the removal of the full notebook cells\n",
       "var notebookContainer = gd.closest('#notebook-container');\n",
       "if (notebookContainer) {{\n",
       "    x.observe(notebookContainer, {childList: true});\n",
       "}}\n",
       "\n",
       "// Listen for the clearing of the current output cell\n",
       "var outputEl = gd.closest('.output');\n",
       "if (outputEl) {{\n",
       "    x.observe(outputEl, {childList: true});\n",
       "}}\n",
       "\n",
       "                        })\n",
       "                };\n",
       "                });\n",
       "            </script>\n",
       "        </div>"
      ]
     },
     "metadata": {},
     "output_type": "display_data"
    }
   ],
   "source": [
    "electrical_consumption(7, 2)"
   ]
  },
  {
   "cell_type": "code",
   "execution_count": 2,
   "metadata": {},
   "outputs": [],
   "source": [
    "import sys\n",
    "sys.path.append('../real-time-model')\n",
    "from make_models import df_light\n",
    "from fbprophet import Prophet\n",
    "import plotly.graph_objects as go"
   ]
  },
  {
   "cell_type": "code",
   "execution_count": 14,
   "metadata": {},
   "outputs": [],
   "source": [
    "font_color = '#cdc6c6'\n",
    "paper_bgcolor = '#141414'\n",
    "plot_bgcolor = '#383838'"
   ]
  },
  {
   "cell_type": "code",
   "execution_count": 3,
   "metadata": {},
   "outputs": [],
   "source": [
    "prophet_train_days = df_light[['date_heure', 'consommation']].iloc[-240:, :]\\\n",
    "                .rename(columns={'date_heure': 'ds', 'consommation': 'y'})\n",
    "\n",
    "prophet_train_days['ds'] = prophet_train_days['ds']\\\n",
    "    .apply(lambda x: x.strftime('%Y-%m-%d %H:%M'))"
   ]
  },
  {
   "cell_type": "code",
   "execution_count": 7,
   "metadata": {},
   "outputs": [
    {
     "name": "stderr",
     "output_type": "stream",
     "text": [
      "INFO:fbprophet:Disabling yearly seasonality. Run prophet with yearly_seasonality=True to override this.\n"
     ]
    }
   ],
   "source": [
    "model = Prophet(weekly_seasonality=True, daily_seasonality=True).fit(prophet_train_days)\n",
    "future = model.make_future_dataframe(periods=24, freq='H')\n",
    "forecast = model.predict(future)"
   ]
  },
  {
   "cell_type": "code",
   "execution_count": 8,
   "metadata": {},
   "outputs": [
    {
     "data": {
      "text/html": [
       "<div>\n",
       "<style scoped>\n",
       "    .dataframe tbody tr th:only-of-type {\n",
       "        vertical-align: middle;\n",
       "    }\n",
       "\n",
       "    .dataframe tbody tr th {\n",
       "        vertical-align: top;\n",
       "    }\n",
       "\n",
       "    .dataframe thead th {\n",
       "        text-align: right;\n",
       "    }\n",
       "</style>\n",
       "<table border=\"1\" class=\"dataframe\">\n",
       "  <thead>\n",
       "    <tr style=\"text-align: right;\">\n",
       "      <th></th>\n",
       "      <th>ds</th>\n",
       "      <th>trend</th>\n",
       "      <th>yhat_lower</th>\n",
       "      <th>yhat_upper</th>\n",
       "      <th>trend_lower</th>\n",
       "      <th>trend_upper</th>\n",
       "      <th>additive_terms</th>\n",
       "      <th>additive_terms_lower</th>\n",
       "      <th>additive_terms_upper</th>\n",
       "      <th>daily</th>\n",
       "      <th>daily_lower</th>\n",
       "      <th>daily_upper</th>\n",
       "      <th>weekly</th>\n",
       "      <th>weekly_lower</th>\n",
       "      <th>weekly_upper</th>\n",
       "      <th>multiplicative_terms</th>\n",
       "      <th>multiplicative_terms_lower</th>\n",
       "      <th>multiplicative_terms_upper</th>\n",
       "      <th>yhat</th>\n",
       "    </tr>\n",
       "  </thead>\n",
       "  <tbody>\n",
       "    <tr>\n",
       "      <th>0</th>\n",
       "      <td>2020-06-15 00:00:00</td>\n",
       "      <td>42180.434245</td>\n",
       "      <td>33668.333896</td>\n",
       "      <td>37895.313742</td>\n",
       "      <td>42180.434245</td>\n",
       "      <td>42180.434245</td>\n",
       "      <td>-6541.990243</td>\n",
       "      <td>-6541.990243</td>\n",
       "      <td>-6541.990243</td>\n",
       "      <td>-4668.638852</td>\n",
       "      <td>-4668.638852</td>\n",
       "      <td>-4668.638852</td>\n",
       "      <td>-1873.351391</td>\n",
       "      <td>-1873.351391</td>\n",
       "      <td>-1873.351391</td>\n",
       "      <td>0.0</td>\n",
       "      <td>0.0</td>\n",
       "      <td>0.0</td>\n",
       "      <td>35638.444002</td>\n",
       "    </tr>\n",
       "    <tr>\n",
       "      <th>1</th>\n",
       "      <td>2020-06-15 01:00:00</td>\n",
       "      <td>42177.407200</td>\n",
       "      <td>30863.952283</td>\n",
       "      <td>35104.211956</td>\n",
       "      <td>42177.407200</td>\n",
       "      <td>42177.407200</td>\n",
       "      <td>-9226.421140</td>\n",
       "      <td>-9226.421140</td>\n",
       "      <td>-9226.421140</td>\n",
       "      <td>-7662.928846</td>\n",
       "      <td>-7662.928846</td>\n",
       "      <td>-7662.928846</td>\n",
       "      <td>-1563.492294</td>\n",
       "      <td>-1563.492294</td>\n",
       "      <td>-1563.492294</td>\n",
       "      <td>0.0</td>\n",
       "      <td>0.0</td>\n",
       "      <td>0.0</td>\n",
       "      <td>32950.986060</td>\n",
       "    </tr>\n",
       "    <tr>\n",
       "      <th>2</th>\n",
       "      <td>2020-06-15 02:00:00</td>\n",
       "      <td>42174.380154</td>\n",
       "      <td>29494.854057</td>\n",
       "      <td>33579.168484</td>\n",
       "      <td>42174.380154</td>\n",
       "      <td>42174.380154</td>\n",
       "      <td>-10653.752588</td>\n",
       "      <td>-10653.752588</td>\n",
       "      <td>-10653.752588</td>\n",
       "      <td>-9397.291002</td>\n",
       "      <td>-9397.291002</td>\n",
       "      <td>-9397.291002</td>\n",
       "      <td>-1256.461586</td>\n",
       "      <td>-1256.461586</td>\n",
       "      <td>-1256.461586</td>\n",
       "      <td>0.0</td>\n",
       "      <td>0.0</td>\n",
       "      <td>0.0</td>\n",
       "      <td>31520.627567</td>\n",
       "    </tr>\n",
       "    <tr>\n",
       "      <th>3</th>\n",
       "      <td>2020-06-15 03:00:00</td>\n",
       "      <td>42171.353109</td>\n",
       "      <td>29996.521034</td>\n",
       "      <td>34092.484120</td>\n",
       "      <td>42171.353109</td>\n",
       "      <td>42171.353109</td>\n",
       "      <td>-9984.601663</td>\n",
       "      <td>-9984.601663</td>\n",
       "      <td>-9984.601663</td>\n",
       "      <td>-9030.453533</td>\n",
       "      <td>-9030.453533</td>\n",
       "      <td>-9030.453533</td>\n",
       "      <td>-954.148130</td>\n",
       "      <td>-954.148130</td>\n",
       "      <td>-954.148130</td>\n",
       "      <td>0.0</td>\n",
       "      <td>0.0</td>\n",
       "      <td>0.0</td>\n",
       "      <td>32186.751446</td>\n",
       "    </tr>\n",
       "    <tr>\n",
       "      <th>4</th>\n",
       "      <td>2020-06-15 04:00:00</td>\n",
       "      <td>42168.326064</td>\n",
       "      <td>32620.924966</td>\n",
       "      <td>36749.788860</td>\n",
       "      <td>42168.326064</td>\n",
       "      <td>42168.326064</td>\n",
       "      <td>-7455.298332</td>\n",
       "      <td>-7455.298332</td>\n",
       "      <td>-7455.298332</td>\n",
       "      <td>-6796.935735</td>\n",
       "      <td>-6796.935735</td>\n",
       "      <td>-6796.935735</td>\n",
       "      <td>-658.362597</td>\n",
       "      <td>-658.362597</td>\n",
       "      <td>-658.362597</td>\n",
       "      <td>0.0</td>\n",
       "      <td>0.0</td>\n",
       "      <td>0.0</td>\n",
       "      <td>34713.027732</td>\n",
       "    </tr>\n",
       "    <tr>\n",
       "      <th>...</th>\n",
       "      <td>...</td>\n",
       "      <td>...</td>\n",
       "      <td>...</td>\n",
       "      <td>...</td>\n",
       "      <td>...</td>\n",
       "      <td>...</td>\n",
       "      <td>...</td>\n",
       "      <td>...</td>\n",
       "      <td>...</td>\n",
       "      <td>...</td>\n",
       "      <td>...</td>\n",
       "      <td>...</td>\n",
       "      <td>...</td>\n",
       "      <td>...</td>\n",
       "      <td>...</td>\n",
       "      <td>...</td>\n",
       "      <td>...</td>\n",
       "      <td>...</td>\n",
       "      <td>...</td>\n",
       "    </tr>\n",
       "    <tr>\n",
       "      <th>259</th>\n",
       "      <td>2020-06-25 19:00:00</td>\n",
       "      <td>44149.995561</td>\n",
       "      <td>44316.794031</td>\n",
       "      <td>48541.526421</td>\n",
       "      <td>44125.768218</td>\n",
       "      <td>44174.176046</td>\n",
       "      <td>2278.750871</td>\n",
       "      <td>2278.750871</td>\n",
       "      <td>2278.750871</td>\n",
       "      <td>581.018338</td>\n",
       "      <td>581.018338</td>\n",
       "      <td>581.018338</td>\n",
       "      <td>1697.732532</td>\n",
       "      <td>1697.732532</td>\n",
       "      <td>1697.732532</td>\n",
       "      <td>0.0</td>\n",
       "      <td>0.0</td>\n",
       "      <td>0.0</td>\n",
       "      <td>46428.746432</td>\n",
       "    </tr>\n",
       "    <tr>\n",
       "      <th>260</th>\n",
       "      <td>2020-06-25 20:00:00</td>\n",
       "      <td>44172.033157</td>\n",
       "      <td>44156.694918</td>\n",
       "      <td>47988.225976</td>\n",
       "      <td>44146.004527</td>\n",
       "      <td>44197.462629</td>\n",
       "      <td>1986.153308</td>\n",
       "      <td>1986.153308</td>\n",
       "      <td>1986.153308</td>\n",
       "      <td>328.358394</td>\n",
       "      <td>328.358394</td>\n",
       "      <td>328.358394</td>\n",
       "      <td>1657.794915</td>\n",
       "      <td>1657.794915</td>\n",
       "      <td>1657.794915</td>\n",
       "      <td>0.0</td>\n",
       "      <td>0.0</td>\n",
       "      <td>0.0</td>\n",
       "      <td>46158.186465</td>\n",
       "    </tr>\n",
       "    <tr>\n",
       "      <th>261</th>\n",
       "      <td>2020-06-25 21:00:00</td>\n",
       "      <td>44194.070752</td>\n",
       "      <td>44067.450250</td>\n",
       "      <td>48133.531820</td>\n",
       "      <td>44164.984746</td>\n",
       "      <td>44221.631029</td>\n",
       "      <td>1943.005535</td>\n",
       "      <td>1943.005535</td>\n",
       "      <td>1943.005535</td>\n",
       "      <td>322.925292</td>\n",
       "      <td>322.925292</td>\n",
       "      <td>322.925292</td>\n",
       "      <td>1620.080243</td>\n",
       "      <td>1620.080243</td>\n",
       "      <td>1620.080243</td>\n",
       "      <td>0.0</td>\n",
       "      <td>0.0</td>\n",
       "      <td>0.0</td>\n",
       "      <td>46137.076287</td>\n",
       "    </tr>\n",
       "    <tr>\n",
       "      <th>262</th>\n",
       "      <td>2020-06-25 22:00:00</td>\n",
       "      <td>44216.108347</td>\n",
       "      <td>43561.066797</td>\n",
       "      <td>47758.202268</td>\n",
       "      <td>44184.511203</td>\n",
       "      <td>44246.056747</td>\n",
       "      <td>1434.888099</td>\n",
       "      <td>1434.888099</td>\n",
       "      <td>1434.888099</td>\n",
       "      <td>-149.614788</td>\n",
       "      <td>-149.614788</td>\n",
       "      <td>-149.614788</td>\n",
       "      <td>1584.502887</td>\n",
       "      <td>1584.502887</td>\n",
       "      <td>1584.502887</td>\n",
       "      <td>0.0</td>\n",
       "      <td>0.0</td>\n",
       "      <td>0.0</td>\n",
       "      <td>45650.996447</td>\n",
       "    </tr>\n",
       "    <tr>\n",
       "      <th>263</th>\n",
       "      <td>2020-06-25 23:00:00</td>\n",
       "      <td>44238.145943</td>\n",
       "      <td>41731.539507</td>\n",
       "      <td>46145.945757</td>\n",
       "      <td>44204.085583</td>\n",
       "      <td>44270.132611</td>\n",
       "      <td>-272.684982</td>\n",
       "      <td>-272.684982</td>\n",
       "      <td>-272.684982</td>\n",
       "      <td>-1823.570352</td>\n",
       "      <td>-1823.570352</td>\n",
       "      <td>-1823.570352</td>\n",
       "      <td>1550.885369</td>\n",
       "      <td>1550.885369</td>\n",
       "      <td>1550.885369</td>\n",
       "      <td>0.0</td>\n",
       "      <td>0.0</td>\n",
       "      <td>0.0</td>\n",
       "      <td>43965.460960</td>\n",
       "    </tr>\n",
       "  </tbody>\n",
       "</table>\n",
       "<p>264 rows × 19 columns</p>\n",
       "</div>"
      ],
      "text/plain": [
       "                     ds         trend    yhat_lower    yhat_upper  \\\n",
       "0   2020-06-15 00:00:00  42180.434245  33668.333896  37895.313742   \n",
       "1   2020-06-15 01:00:00  42177.407200  30863.952283  35104.211956   \n",
       "2   2020-06-15 02:00:00  42174.380154  29494.854057  33579.168484   \n",
       "3   2020-06-15 03:00:00  42171.353109  29996.521034  34092.484120   \n",
       "4   2020-06-15 04:00:00  42168.326064  32620.924966  36749.788860   \n",
       "..                  ...           ...           ...           ...   \n",
       "259 2020-06-25 19:00:00  44149.995561  44316.794031  48541.526421   \n",
       "260 2020-06-25 20:00:00  44172.033157  44156.694918  47988.225976   \n",
       "261 2020-06-25 21:00:00  44194.070752  44067.450250  48133.531820   \n",
       "262 2020-06-25 22:00:00  44216.108347  43561.066797  47758.202268   \n",
       "263 2020-06-25 23:00:00  44238.145943  41731.539507  46145.945757   \n",
       "\n",
       "      trend_lower   trend_upper  additive_terms  additive_terms_lower  \\\n",
       "0    42180.434245  42180.434245    -6541.990243          -6541.990243   \n",
       "1    42177.407200  42177.407200    -9226.421140          -9226.421140   \n",
       "2    42174.380154  42174.380154   -10653.752588         -10653.752588   \n",
       "3    42171.353109  42171.353109    -9984.601663          -9984.601663   \n",
       "4    42168.326064  42168.326064    -7455.298332          -7455.298332   \n",
       "..            ...           ...             ...                   ...   \n",
       "259  44125.768218  44174.176046     2278.750871           2278.750871   \n",
       "260  44146.004527  44197.462629     1986.153308           1986.153308   \n",
       "261  44164.984746  44221.631029     1943.005535           1943.005535   \n",
       "262  44184.511203  44246.056747     1434.888099           1434.888099   \n",
       "263  44204.085583  44270.132611     -272.684982           -272.684982   \n",
       "\n",
       "     additive_terms_upper        daily  daily_lower  daily_upper       weekly  \\\n",
       "0            -6541.990243 -4668.638852 -4668.638852 -4668.638852 -1873.351391   \n",
       "1            -9226.421140 -7662.928846 -7662.928846 -7662.928846 -1563.492294   \n",
       "2           -10653.752588 -9397.291002 -9397.291002 -9397.291002 -1256.461586   \n",
       "3            -9984.601663 -9030.453533 -9030.453533 -9030.453533  -954.148130   \n",
       "4            -7455.298332 -6796.935735 -6796.935735 -6796.935735  -658.362597   \n",
       "..                    ...          ...          ...          ...          ...   \n",
       "259           2278.750871   581.018338   581.018338   581.018338  1697.732532   \n",
       "260           1986.153308   328.358394   328.358394   328.358394  1657.794915   \n",
       "261           1943.005535   322.925292   322.925292   322.925292  1620.080243   \n",
       "262           1434.888099  -149.614788  -149.614788  -149.614788  1584.502887   \n",
       "263           -272.684982 -1823.570352 -1823.570352 -1823.570352  1550.885369   \n",
       "\n",
       "     weekly_lower  weekly_upper  multiplicative_terms  \\\n",
       "0    -1873.351391  -1873.351391                   0.0   \n",
       "1    -1563.492294  -1563.492294                   0.0   \n",
       "2    -1256.461586  -1256.461586                   0.0   \n",
       "3     -954.148130   -954.148130                   0.0   \n",
       "4     -658.362597   -658.362597                   0.0   \n",
       "..            ...           ...                   ...   \n",
       "259   1697.732532   1697.732532                   0.0   \n",
       "260   1657.794915   1657.794915                   0.0   \n",
       "261   1620.080243   1620.080243                   0.0   \n",
       "262   1584.502887   1584.502887                   0.0   \n",
       "263   1550.885369   1550.885369                   0.0   \n",
       "\n",
       "     multiplicative_terms_lower  multiplicative_terms_upper          yhat  \n",
       "0                           0.0                         0.0  35638.444002  \n",
       "1                           0.0                         0.0  32950.986060  \n",
       "2                           0.0                         0.0  31520.627567  \n",
       "3                           0.0                         0.0  32186.751446  \n",
       "4                           0.0                         0.0  34713.027732  \n",
       "..                          ...                         ...           ...  \n",
       "259                         0.0                         0.0  46428.746432  \n",
       "260                         0.0                         0.0  46158.186465  \n",
       "261                         0.0                         0.0  46137.076287  \n",
       "262                         0.0                         0.0  45650.996447  \n",
       "263                         0.0                         0.0  43965.460960  \n",
       "\n",
       "[264 rows x 19 columns]"
      ]
     },
     "execution_count": 8,
     "metadata": {},
     "output_type": "execute_result"
    }
   ],
   "source": [
    "forecast"
   ]
  },
  {
   "cell_type": "code",
   "execution_count": 17,
   "metadata": {},
   "outputs": [
    {
     "data": {
      "text/plain": [
       "Timestamp('2020-06-15 00:00:00')"
      ]
     },
     "execution_count": 17,
     "metadata": {},
     "output_type": "execute_result"
    }
   ],
   "source": [
    "forecast['ds'][0]"
   ]
  },
  {
   "cell_type": "code",
   "execution_count": 29,
   "metadata": {},
   "outputs": [],
   "source": [
    "col_to_plot = list(forecast.columns[2:4]) + list([forecast.columns[-1]])"
   ]
  },
  {
   "cell_type": "code",
   "execution_count": 41,
   "metadata": {},
   "outputs": [
    {
     "data": {
      "application/vnd.plotly.v1+json": {
       "config": {
        "plotlyServerURL": "https://plot.ly"
       },
       "data": [
        {
         "name": "real data",
         "type": "scatter",
         "x": [
          "2020-06-15T00:00:00+00:00",
          "2020-06-15T01:00:00+00:00",
          "2020-06-15T02:00:00+00:00",
          "2020-06-15T03:00:00+00:00",
          "2020-06-15T04:00:00+00:00",
          "2020-06-15T05:00:00+00:00",
          "2020-06-15T06:00:00+00:00",
          "2020-06-15T07:00:00+00:00",
          "2020-06-15T08:00:00+00:00",
          "2020-06-15T09:00:00+00:00",
          "2020-06-15T10:00:00+00:00",
          "2020-06-15T11:00:00+00:00",
          "2020-06-15T12:00:00+00:00",
          "2020-06-15T13:00:00+00:00",
          "2020-06-15T14:00:00+00:00",
          "2020-06-15T15:00:00+00:00",
          "2020-06-15T16:00:00+00:00",
          "2020-06-15T17:00:00+00:00",
          "2020-06-15T18:00:00+00:00",
          "2020-06-15T19:00:00+00:00",
          "2020-06-15T20:00:00+00:00",
          "2020-06-15T21:00:00+00:00",
          "2020-06-15T22:00:00+00:00",
          "2020-06-15T23:00:00+00:00",
          "2020-06-16T00:00:00+00:00",
          "2020-06-16T01:00:00+00:00",
          "2020-06-16T02:00:00+00:00",
          "2020-06-16T03:00:00+00:00",
          "2020-06-16T04:00:00+00:00",
          "2020-06-16T05:00:00+00:00",
          "2020-06-16T06:00:00+00:00",
          "2020-06-16T07:00:00+00:00",
          "2020-06-16T08:00:00+00:00",
          "2020-06-16T09:00:00+00:00",
          "2020-06-16T10:00:00+00:00",
          "2020-06-16T11:00:00+00:00",
          "2020-06-16T12:00:00+00:00",
          "2020-06-16T13:00:00+00:00",
          "2020-06-16T14:00:00+00:00",
          "2020-06-16T15:00:00+00:00",
          "2020-06-16T16:00:00+00:00",
          "2020-06-16T17:00:00+00:00",
          "2020-06-16T18:00:00+00:00",
          "2020-06-16T19:00:00+00:00",
          "2020-06-16T20:00:00+00:00",
          "2020-06-16T21:00:00+00:00",
          "2020-06-16T22:00:00+00:00",
          "2020-06-16T23:00:00+00:00",
          "2020-06-17T00:00:00+00:00",
          "2020-06-17T01:00:00+00:00",
          "2020-06-17T02:00:00+00:00",
          "2020-06-17T03:00:00+00:00",
          "2020-06-17T04:00:00+00:00",
          "2020-06-17T05:00:00+00:00",
          "2020-06-17T06:00:00+00:00",
          "2020-06-17T07:00:00+00:00",
          "2020-06-17T08:00:00+00:00",
          "2020-06-17T09:00:00+00:00",
          "2020-06-17T10:00:00+00:00",
          "2020-06-17T11:00:00+00:00",
          "2020-06-17T12:00:00+00:00",
          "2020-06-17T13:00:00+00:00",
          "2020-06-17T14:00:00+00:00",
          "2020-06-17T15:00:00+00:00",
          "2020-06-17T16:00:00+00:00",
          "2020-06-17T17:00:00+00:00",
          "2020-06-17T18:00:00+00:00",
          "2020-06-17T19:00:00+00:00",
          "2020-06-17T20:00:00+00:00",
          "2020-06-17T21:00:00+00:00",
          "2020-06-17T22:00:00+00:00",
          "2020-06-17T23:00:00+00:00",
          "2020-06-18T00:00:00+00:00",
          "2020-06-18T01:00:00+00:00",
          "2020-06-18T02:00:00+00:00",
          "2020-06-18T03:00:00+00:00",
          "2020-06-18T04:00:00+00:00",
          "2020-06-18T05:00:00+00:00",
          "2020-06-18T06:00:00+00:00",
          "2020-06-18T07:00:00+00:00",
          "2020-06-18T08:00:00+00:00",
          "2020-06-18T09:00:00+00:00",
          "2020-06-18T10:00:00+00:00",
          "2020-06-18T11:00:00+00:00",
          "2020-06-18T12:00:00+00:00",
          "2020-06-18T13:00:00+00:00",
          "2020-06-18T14:00:00+00:00",
          "2020-06-18T15:00:00+00:00",
          "2020-06-18T16:00:00+00:00",
          "2020-06-18T17:00:00+00:00",
          "2020-06-18T18:00:00+00:00",
          "2020-06-18T19:00:00+00:00",
          "2020-06-18T20:00:00+00:00",
          "2020-06-18T21:00:00+00:00",
          "2020-06-18T22:00:00+00:00",
          "2020-06-18T23:00:00+00:00",
          "2020-06-19T00:00:00+00:00",
          "2020-06-19T01:00:00+00:00",
          "2020-06-19T02:00:00+00:00",
          "2020-06-19T03:00:00+00:00",
          "2020-06-19T04:00:00+00:00",
          "2020-06-19T05:00:00+00:00",
          "2020-06-19T06:00:00+00:00",
          "2020-06-19T07:00:00+00:00",
          "2020-06-19T08:00:00+00:00",
          "2020-06-19T09:00:00+00:00",
          "2020-06-19T10:00:00+00:00",
          "2020-06-19T11:00:00+00:00",
          "2020-06-19T12:00:00+00:00",
          "2020-06-19T13:00:00+00:00",
          "2020-06-19T14:00:00+00:00",
          "2020-06-19T15:00:00+00:00",
          "2020-06-19T16:00:00+00:00",
          "2020-06-19T17:00:00+00:00",
          "2020-06-19T18:00:00+00:00",
          "2020-06-19T19:00:00+00:00",
          "2020-06-19T20:00:00+00:00",
          "2020-06-19T21:00:00+00:00",
          "2020-06-19T22:00:00+00:00",
          "2020-06-19T23:00:00+00:00",
          "2020-06-20T00:00:00+00:00",
          "2020-06-20T01:00:00+00:00",
          "2020-06-20T02:00:00+00:00",
          "2020-06-20T03:00:00+00:00",
          "2020-06-20T04:00:00+00:00",
          "2020-06-20T05:00:00+00:00",
          "2020-06-20T06:00:00+00:00",
          "2020-06-20T07:00:00+00:00",
          "2020-06-20T08:00:00+00:00",
          "2020-06-20T09:00:00+00:00",
          "2020-06-20T10:00:00+00:00",
          "2020-06-20T11:00:00+00:00",
          "2020-06-20T12:00:00+00:00",
          "2020-06-20T13:00:00+00:00",
          "2020-06-20T14:00:00+00:00",
          "2020-06-20T15:00:00+00:00",
          "2020-06-20T16:00:00+00:00",
          "2020-06-20T17:00:00+00:00",
          "2020-06-20T18:00:00+00:00",
          "2020-06-20T19:00:00+00:00",
          "2020-06-20T20:00:00+00:00",
          "2020-06-20T21:00:00+00:00",
          "2020-06-20T22:00:00+00:00",
          "2020-06-20T23:00:00+00:00",
          "2020-06-21T00:00:00+00:00",
          "2020-06-21T01:00:00+00:00",
          "2020-06-21T02:00:00+00:00",
          "2020-06-21T03:00:00+00:00",
          "2020-06-21T04:00:00+00:00",
          "2020-06-21T05:00:00+00:00",
          "2020-06-21T06:00:00+00:00",
          "2020-06-21T07:00:00+00:00",
          "2020-06-21T08:00:00+00:00",
          "2020-06-21T09:00:00+00:00",
          "2020-06-21T10:00:00+00:00",
          "2020-06-21T11:00:00+00:00",
          "2020-06-21T12:00:00+00:00",
          "2020-06-21T13:00:00+00:00",
          "2020-06-21T14:00:00+00:00",
          "2020-06-21T15:00:00+00:00",
          "2020-06-21T16:00:00+00:00",
          "2020-06-21T17:00:00+00:00",
          "2020-06-21T18:00:00+00:00",
          "2020-06-21T19:00:00+00:00",
          "2020-06-21T20:00:00+00:00",
          "2020-06-21T21:00:00+00:00",
          "2020-06-21T22:00:00+00:00",
          "2020-06-21T23:00:00+00:00",
          "2020-06-22T00:00:00+00:00",
          "2020-06-22T01:00:00+00:00",
          "2020-06-22T02:00:00+00:00",
          "2020-06-22T03:00:00+00:00",
          "2020-06-22T04:00:00+00:00",
          "2020-06-22T05:00:00+00:00",
          "2020-06-22T06:00:00+00:00",
          "2020-06-22T07:00:00+00:00",
          "2020-06-22T08:00:00+00:00",
          "2020-06-22T09:00:00+00:00",
          "2020-06-22T10:00:00+00:00",
          "2020-06-22T11:00:00+00:00",
          "2020-06-22T12:00:00+00:00",
          "2020-06-22T13:00:00+00:00",
          "2020-06-22T14:00:00+00:00",
          "2020-06-22T15:00:00+00:00",
          "2020-06-22T16:00:00+00:00",
          "2020-06-22T17:00:00+00:00",
          "2020-06-22T18:00:00+00:00",
          "2020-06-22T19:00:00+00:00",
          "2020-06-22T20:00:00+00:00",
          "2020-06-22T21:00:00+00:00",
          "2020-06-22T22:00:00+00:00",
          "2020-06-22T23:00:00+00:00",
          "2020-06-23T00:00:00+00:00",
          "2020-06-23T01:00:00+00:00",
          "2020-06-23T02:00:00+00:00",
          "2020-06-23T03:00:00+00:00",
          "2020-06-23T04:00:00+00:00",
          "2020-06-23T05:00:00+00:00",
          "2020-06-23T06:00:00+00:00",
          "2020-06-23T07:00:00+00:00",
          "2020-06-23T08:00:00+00:00",
          "2020-06-23T09:00:00+00:00",
          "2020-06-23T10:00:00+00:00",
          "2020-06-23T11:00:00+00:00",
          "2020-06-23T12:00:00+00:00",
          "2020-06-23T13:00:00+00:00",
          "2020-06-23T14:00:00+00:00",
          "2020-06-23T15:00:00+00:00",
          "2020-06-23T16:00:00+00:00",
          "2020-06-23T17:00:00+00:00",
          "2020-06-23T18:00:00+00:00",
          "2020-06-23T19:00:00+00:00",
          "2020-06-23T20:00:00+00:00",
          "2020-06-23T21:00:00+00:00",
          "2020-06-23T22:00:00+00:00",
          "2020-06-23T23:00:00+00:00",
          "2020-06-24T00:00:00+00:00",
          "2020-06-24T01:00:00+00:00",
          "2020-06-24T02:00:00+00:00",
          "2020-06-24T03:00:00+00:00",
          "2020-06-24T04:00:00+00:00",
          "2020-06-24T05:00:00+00:00",
          "2020-06-24T06:00:00+00:00",
          "2020-06-24T07:00:00+00:00",
          "2020-06-24T08:00:00+00:00",
          "2020-06-24T09:00:00+00:00",
          "2020-06-24T10:00:00+00:00",
          "2020-06-24T11:00:00+00:00",
          "2020-06-24T12:00:00+00:00",
          "2020-06-24T13:00:00+00:00",
          "2020-06-24T14:00:00+00:00",
          "2020-06-24T15:00:00+00:00",
          "2020-06-24T16:00:00+00:00",
          "2020-06-24T17:00:00+00:00",
          "2020-06-24T18:00:00+00:00",
          "2020-06-24T19:00:00+00:00",
          "2020-06-24T20:00:00+00:00",
          "2020-06-24T21:00:00+00:00",
          "2020-06-24T22:00:00+00:00",
          "2020-06-24T23:00:00+00:00"
         ],
         "y": [
          35552,
          33414,
          32174,
          32734,
          34746,
          39031,
          43370,
          46338,
          47732,
          48295,
          50120,
          50117,
          48788,
          47384,
          46139,
          45072,
          45223,
          46925,
          45655,
          42487,
          41917,
          45301,
          43900,
          39310,
          38439,
          35654,
          34687,
          34734,
          36464,
          40626,
          45059,
          47585,
          48895,
          49458,
          50949,
          50941,
          49506,
          47988,
          46800,
          45407,
          45438,
          47023,
          45914,
          42923,
          42315,
          45611,
          44352,
          39450,
          38626,
          36145,
          34614,
          34724,
          36665,
          40095,
          44195,
          47073,
          48735,
          49696,
          51239,
          51101,
          49790,
          47859,
          46436,
          45622,
          45290,
          47178,
          46003,
          42833,
          42262,
          45732,
          44357,
          39764,
          38486,
          36124,
          34630,
          34837,
          36724,
          40624,
          44675,
          47092,
          48482,
          49074,
          50607,
          50683,
          49110,
          47464,
          46346,
          45313,
          45060,
          46601,
          45493,
          45493,
          45493,
          45493,
          44157,
          39463,
          38087,
          35831,
          34615,
          34556,
          36212,
          40323,
          44123,
          46767,
          48055,
          48611,
          49724,
          49751,
          48106,
          46108,
          44707,
          43529,
          43576,
          44416,
          43279,
          40926,
          40976,
          45101,
          44016,
          39477,
          37992,
          35265,
          33698,
          32824,
          32441,
          33935,
          35849,
          38824,
          41282,
          42295,
          43921,
          45084,
          42304,
          40962,
          39641,
          39044,
          39066,
          40692,
          39766,
          38323,
          38412,
          42929,
          42302,
          37517,
          36118,
          33344,
          31381,
          30449,
          29728,
          30158,
          31773,
          34742,
          37375,
          39286,
          41281,
          42033,
          38961,
          37638,
          36092,
          35817,
          36382,
          38534,
          39101,
          38241,
          38380,
          41798,
          41050,
          36963,
          35670,
          33311,
          32060,
          32731,
          35003,
          39745,
          43916,
          46859,
          48069,
          48899,
          50582,
          50839,
          50065,
          48676,
          47754,
          46435,
          46157,
          47848,
          46918,
          43801,
          42995,
          46413,
          45045,
          39681,
          38314,
          35801,
          34359,
          34409,
          36158,
          40638,
          44861,
          47700,
          49445,
          50468,
          51794,
          51840,
          50680,
          49773,
          48713,
          47485,
          47225,
          48545,
          46832,
          43976,
          42895,
          46273,
          44786,
          39511,
          38528,
          36117,
          34639,
          34938,
          36396,
          40386,
          44663,
          47903,
          49946,
          51127,
          53189,
          53439,
          52666,
          51795,
          50260,
          48749,
          48633,
          49690,
          48090,
          44913,
          44290,
          48113,
          46333,
          41276
         ]
        },
        {
         "name": "forecast",
         "type": "scatter",
         "x": [
          "2020-06-15T00:00:00",
          "2020-06-15T01:00:00",
          "2020-06-15T02:00:00",
          "2020-06-15T03:00:00",
          "2020-06-15T04:00:00",
          "2020-06-15T05:00:00",
          "2020-06-15T06:00:00",
          "2020-06-15T07:00:00",
          "2020-06-15T08:00:00",
          "2020-06-15T09:00:00",
          "2020-06-15T10:00:00",
          "2020-06-15T11:00:00",
          "2020-06-15T12:00:00",
          "2020-06-15T13:00:00",
          "2020-06-15T14:00:00",
          "2020-06-15T15:00:00",
          "2020-06-15T16:00:00",
          "2020-06-15T17:00:00",
          "2020-06-15T18:00:00",
          "2020-06-15T19:00:00",
          "2020-06-15T20:00:00",
          "2020-06-15T21:00:00",
          "2020-06-15T22:00:00",
          "2020-06-15T23:00:00",
          "2020-06-16T00:00:00",
          "2020-06-16T01:00:00",
          "2020-06-16T02:00:00",
          "2020-06-16T03:00:00",
          "2020-06-16T04:00:00",
          "2020-06-16T05:00:00",
          "2020-06-16T06:00:00",
          "2020-06-16T07:00:00",
          "2020-06-16T08:00:00",
          "2020-06-16T09:00:00",
          "2020-06-16T10:00:00",
          "2020-06-16T11:00:00",
          "2020-06-16T12:00:00",
          "2020-06-16T13:00:00",
          "2020-06-16T14:00:00",
          "2020-06-16T15:00:00",
          "2020-06-16T16:00:00",
          "2020-06-16T17:00:00",
          "2020-06-16T18:00:00",
          "2020-06-16T19:00:00",
          "2020-06-16T20:00:00",
          "2020-06-16T21:00:00",
          "2020-06-16T22:00:00",
          "2020-06-16T23:00:00",
          "2020-06-17T00:00:00",
          "2020-06-17T01:00:00",
          "2020-06-17T02:00:00",
          "2020-06-17T03:00:00",
          "2020-06-17T04:00:00",
          "2020-06-17T05:00:00",
          "2020-06-17T06:00:00",
          "2020-06-17T07:00:00",
          "2020-06-17T08:00:00",
          "2020-06-17T09:00:00",
          "2020-06-17T10:00:00",
          "2020-06-17T11:00:00",
          "2020-06-17T12:00:00",
          "2020-06-17T13:00:00",
          "2020-06-17T14:00:00",
          "2020-06-17T15:00:00",
          "2020-06-17T16:00:00",
          "2020-06-17T17:00:00",
          "2020-06-17T18:00:00",
          "2020-06-17T19:00:00",
          "2020-06-17T20:00:00",
          "2020-06-17T21:00:00",
          "2020-06-17T22:00:00",
          "2020-06-17T23:00:00",
          "2020-06-18T00:00:00",
          "2020-06-18T01:00:00",
          "2020-06-18T02:00:00",
          "2020-06-18T03:00:00",
          "2020-06-18T04:00:00",
          "2020-06-18T05:00:00",
          "2020-06-18T06:00:00",
          "2020-06-18T07:00:00",
          "2020-06-18T08:00:00",
          "2020-06-18T09:00:00",
          "2020-06-18T10:00:00",
          "2020-06-18T11:00:00",
          "2020-06-18T12:00:00",
          "2020-06-18T13:00:00",
          "2020-06-18T14:00:00",
          "2020-06-18T15:00:00",
          "2020-06-18T16:00:00",
          "2020-06-18T17:00:00",
          "2020-06-18T18:00:00",
          "2020-06-18T18:00:00",
          "2020-06-18T18:00:00",
          "2020-06-18T18:00:00",
          "2020-06-18T22:00:00",
          "2020-06-18T23:00:00",
          "2020-06-19T00:00:00",
          "2020-06-19T01:00:00",
          "2020-06-19T02:00:00",
          "2020-06-19T03:00:00",
          "2020-06-19T04:00:00",
          "2020-06-19T05:00:00",
          "2020-06-19T06:00:00",
          "2020-06-19T07:00:00",
          "2020-06-19T08:00:00",
          "2020-06-19T09:00:00",
          "2020-06-19T10:00:00",
          "2020-06-19T11:00:00",
          "2020-06-19T12:00:00",
          "2020-06-19T13:00:00",
          "2020-06-19T14:00:00",
          "2020-06-19T15:00:00",
          "2020-06-19T16:00:00",
          "2020-06-19T17:00:00",
          "2020-06-19T18:00:00",
          "2020-06-19T19:00:00",
          "2020-06-19T20:00:00",
          "2020-06-19T21:00:00",
          "2020-06-19T22:00:00",
          "2020-06-19T23:00:00",
          "2020-06-20T00:00:00",
          "2020-06-20T01:00:00",
          "2020-06-20T02:00:00",
          "2020-06-20T03:00:00",
          "2020-06-20T04:00:00",
          "2020-06-20T05:00:00",
          "2020-06-20T06:00:00",
          "2020-06-20T07:00:00",
          "2020-06-20T08:00:00",
          "2020-06-20T09:00:00",
          "2020-06-20T10:00:00",
          "2020-06-20T11:00:00",
          "2020-06-20T12:00:00",
          "2020-06-20T13:00:00",
          "2020-06-20T14:00:00",
          "2020-06-20T15:00:00",
          "2020-06-20T16:00:00",
          "2020-06-20T17:00:00",
          "2020-06-20T18:00:00",
          "2020-06-20T19:00:00",
          "2020-06-20T20:00:00",
          "2020-06-20T21:00:00",
          "2020-06-20T22:00:00",
          "2020-06-20T23:00:00",
          "2020-06-21T00:00:00",
          "2020-06-21T01:00:00",
          "2020-06-21T02:00:00",
          "2020-06-21T03:00:00",
          "2020-06-21T04:00:00",
          "2020-06-21T05:00:00",
          "2020-06-21T06:00:00",
          "2020-06-21T07:00:00",
          "2020-06-21T08:00:00",
          "2020-06-21T09:00:00",
          "2020-06-21T10:00:00",
          "2020-06-21T11:00:00",
          "2020-06-21T12:00:00",
          "2020-06-21T13:00:00",
          "2020-06-21T14:00:00",
          "2020-06-21T15:00:00",
          "2020-06-21T16:00:00",
          "2020-06-21T17:00:00",
          "2020-06-21T18:00:00",
          "2020-06-21T19:00:00",
          "2020-06-21T20:00:00",
          "2020-06-21T21:00:00",
          "2020-06-21T22:00:00",
          "2020-06-21T23:00:00",
          "2020-06-22T00:00:00",
          "2020-06-22T01:00:00",
          "2020-06-22T02:00:00",
          "2020-06-22T03:00:00",
          "2020-06-22T04:00:00",
          "2020-06-22T05:00:00",
          "2020-06-22T06:00:00",
          "2020-06-22T07:00:00",
          "2020-06-22T08:00:00",
          "2020-06-22T09:00:00",
          "2020-06-22T10:00:00",
          "2020-06-22T11:00:00",
          "2020-06-22T12:00:00",
          "2020-06-22T13:00:00",
          "2020-06-22T14:00:00",
          "2020-06-22T15:00:00",
          "2020-06-22T16:00:00",
          "2020-06-22T17:00:00",
          "2020-06-22T18:00:00",
          "2020-06-22T19:00:00",
          "2020-06-22T20:00:00",
          "2020-06-22T21:00:00",
          "2020-06-22T22:00:00",
          "2020-06-22T23:00:00",
          "2020-06-23T00:00:00",
          "2020-06-23T01:00:00",
          "2020-06-23T02:00:00",
          "2020-06-23T03:00:00",
          "2020-06-23T04:00:00",
          "2020-06-23T05:00:00",
          "2020-06-23T06:00:00",
          "2020-06-23T07:00:00",
          "2020-06-23T08:00:00",
          "2020-06-23T09:00:00",
          "2020-06-23T10:00:00",
          "2020-06-23T11:00:00",
          "2020-06-23T12:00:00",
          "2020-06-23T13:00:00",
          "2020-06-23T14:00:00",
          "2020-06-23T15:00:00",
          "2020-06-23T16:00:00",
          "2020-06-23T17:00:00",
          "2020-06-23T18:00:00",
          "2020-06-23T19:00:00",
          "2020-06-23T20:00:00",
          "2020-06-23T21:00:00",
          "2020-06-23T22:00:00",
          "2020-06-23T23:00:00",
          "2020-06-24T00:00:00",
          "2020-06-24T01:00:00",
          "2020-06-24T02:00:00",
          "2020-06-24T03:00:00",
          "2020-06-24T04:00:00",
          "2020-06-24T05:00:00",
          "2020-06-24T06:00:00",
          "2020-06-24T07:00:00",
          "2020-06-24T08:00:00",
          "2020-06-24T09:00:00",
          "2020-06-24T10:00:00",
          "2020-06-24T11:00:00",
          "2020-06-24T12:00:00",
          "2020-06-24T13:00:00",
          "2020-06-24T14:00:00",
          "2020-06-24T15:00:00",
          "2020-06-24T16:00:00",
          "2020-06-24T17:00:00",
          "2020-06-24T18:00:00",
          "2020-06-24T19:00:00",
          "2020-06-24T20:00:00",
          "2020-06-24T21:00:00",
          "2020-06-24T22:00:00",
          "2020-06-24T23:00:00",
          "2020-06-25T00:00:00",
          "2020-06-25T01:00:00",
          "2020-06-25T02:00:00",
          "2020-06-25T03:00:00",
          "2020-06-25T04:00:00",
          "2020-06-25T05:00:00",
          "2020-06-25T06:00:00",
          "2020-06-25T07:00:00",
          "2020-06-25T08:00:00",
          "2020-06-25T09:00:00",
          "2020-06-25T10:00:00",
          "2020-06-25T11:00:00",
          "2020-06-25T12:00:00",
          "2020-06-25T13:00:00",
          "2020-06-25T14:00:00",
          "2020-06-25T15:00:00",
          "2020-06-25T16:00:00",
          "2020-06-25T17:00:00",
          "2020-06-25T18:00:00",
          "2020-06-25T19:00:00",
          "2020-06-25T20:00:00",
          "2020-06-25T21:00:00",
          "2020-06-25T22:00:00",
          "2020-06-25T23:00:00"
         ],
         "y": [
          35638.44400202035,
          32950.986060030715,
          31520.627566629533,
          32186.751446173483,
          34713.02773207943,
          38108.37482856695,
          41414.63494613871,
          44235.15456153814,
          46613.671215680195,
          48540.560171549165,
          49693.22141468417,
          49704.83986687048,
          48652.0611345904,
          47192.13823330014,
          46132.71597071165,
          45815.43344300817,
          45913.85611237139,
          45847.307655807126,
          45391.3825257725,
          44858.86067460473,
          44658.54783276667,
          44690.12777743324,
          44240.14275253722,
          42575.27192116128,
          39726.903163281655,
          36718.09613254492,
          34959.23580327129,
          35292.88112153193,
          37485.83527485539,
          40550.074400055026,
          43530.39170865173,
          46032.94823394574,
          48104.131844100164,
          49736.77835089216,
          50610.53545978358,
          50360.602714297056,
          49065.38992492352,
          47383.64972001615,
          46124.25103161979,
          45629.774076210575,
          45574.438279234,
          45377.93349178115,
          44815.93525570894,
          44201.02557517243,
          43941.54245356312,
          43936.444481368075,
          43471.30644800617,
          41811.61567458326,
          38987.363936091,
          36020.03298976543,
          34318.27225293989,
          34722.773113268224,
          36998.36600349584,
          40154.976713885146,
          43235.298562434444,
          45843.371257309365,
          48023.46775647123,
          49766.34258763944,
          50749.62203419792,
          50606.56902281402,
          49413.76489275295,
          47828.2634034222,
          46657.38362013251,
          46242.32158475295,
          46256.09292864841,
          46117.375642116494,
          45601.034198386165,
          45019.04624971386,
          44779.35512577982,
          44780.73441509146,
          44309.067168651134,
          42629.77680049538,
          39773.27017085724,
          36761.62531680888,
          35004.25559573944,
          35342.768210785034,
          37543.043533124255,
          40616.40766670086,
          43606.57660272125,
          46118.92023401949,
          48199.09070840245,
          49839.24749517444,
          50718.42417997926,
          50471.27015792426,
          49175.70973433736,
          47490.68103202843,
          46224.087969789005,
          45718.21312478416,
          45647.035881449665,
          45430.05975529499,
          44842.82317745271,
          44842.82317745271,
          44842.82317745271,
          44842.82317745271,
          43348.258682021624,
          41638.78766960885,
          38759.89456975287,
          35733.112104007494,
          33967.14437298915,
          34302.73606219699,
          36504.7652754823,
          39583.19474447035,
          42580.741739788835,
          45101.45397230287,
          47189.59463891201,
          48835.889775474614,
          49717.9183417505,
          49468.8778896466,
          48165.26804034146,
          46464.04687761593,
          45172.42724997279,
          44631.492789491465,
          44514.14515124343,
          44238.95239686448,
          43580.67921971126,
          42851.22021782811,
          42458.5469531005,
          42301.31688933385,
          41665.13624580606,
          39815.770223032785,
          36783.733717378695,
          33591.272559296915,
          31648.034252486716,
          31796.54268897386,
          33802.452622804405,
          36677.32153503317,
          39465.65467067402,
          41773.46480372565,
          43647.13814153298,
          45079.66010141375,
          45750.981623982676,
          45300.1574911918,
          43802.80739264057,
          41918.4388641898,
          40456.81550134127,
          39761.542807719474,
          39507.9849694626,
          39117.08289519082,
          38365.854594927885,
          37568.29969451891,
          37134.23046859885,
          36964.11811725129,
          36345.06830178016,
          34544.09696192834,
          31592.70152658618,
          28513.8254248136,
          26717.515113900554,
          27045.774160277797,
          29264.64087674532,
          32385.126196325582,
          35450.86868154812,
          38066.69774832804,
          40277.506606428986,
          42074.488598157746,
          43143.747927120756,
          43110.36566969449,
          42050.76755152259,
          40621.64475629115,
          39629.74647440262,
          39415.494120407384,
          39650.92854629258,
          39764.34956593736,
          39518.48194800092,
          39223.78219339775,
          39286.516080423535,
          39603.63965694872,
          39458.81018910032,
          38115.69658790725,
          35602.584251806526,
          32940.190943822105,
          31534.89708445569,
          32226.085597991747,
          34777.42651788895,
          38197.8382483937,
          41529.16299996603,
          44374.74724936215,
          46778.32853737155,
          48730.28213039513,
          49908.008010561,
          49944.69109973354,
          48916.977004555236,
          47482.118740182144,
          46447.761114599314,
          46155.5432238979,
          46279.03053670066,
          46237.54672368228,
          45806.68623712105,
          45299.22902941721,
          45123.98083108975,
          45180.62541924254,
          44755.7050378238,
          43115.898849930076,
          40292.594736512496,
          37308.85235022955,
          35575.05666536092,
          35933.7666280823,
          38151.7854258632,
          41241.089195511726,
          44246.47114852989,
          46774.09231828879,
          48870.34057198613,
          50528.05172233394,
          51426.87347478529,
          51202.00537286409,
          49931.857227053544,
          48275.181665707874,
          47040.847620849236,
          46571.43529404327,
          46541.164125644726,
          46369.72396676534,
          45832.79035928433,
          45242.94530733998,
          45008.526814289406,
          45028.493470710775,
          44588.42006590086,
          42953.793882421334,
          40154.60673384644,
          37212.340377447814,
          35535.6442305588,
          35965.209680818596,
          38265.86716082203,
          41447.542461309466,
          44552.92889787437,
          47186.066180760965,
          49391.227267941314,
          51159.16668712579,
          52167.510721704544,
          52049.52229833463,
          50881.7827563064,
          49321.345854998144,
          48175.53057705216,
          47785.53304701267,
          47824.36889624668,
          47710.71611509192,
          47219.43917669567,
          46662.51573334855,
          46447.88911477203,
          46474.332909430814,
          46027.44363687213,
          44372.931242586514,
          41541.20258686017,
          38554.33570670851,
          36821.74395949922,
          37185.03454844818,
          39410.08784468746,
          42507.99424026892,
          45522.70543828586,
          48059.591331592965,
          50164.30406799593,
          51829.003116618616,
          52732.722063535504,
          52510.11030348083,
          51239.09214189944,
          49577.998981717436,
          48335.34146135159,
          47853.402158380646,
          47806.160457041406,
          47613.11987289364,
          47049.81883706423,
          46428.74643177649,
          46158.18646489406,
          46137.076287170414,
          45650.996446597834,
          43965.46096044
         ]
        },
        {
         "line": {
          "color": "rgba(0, 0, 0, 0)"
         },
         "showlegend": false,
         "type": "scatter",
         "x": [
          "2020-06-15T00:00:00",
          "2020-06-15T01:00:00",
          "2020-06-15T02:00:00",
          "2020-06-15T03:00:00",
          "2020-06-15T04:00:00",
          "2020-06-15T05:00:00",
          "2020-06-15T06:00:00",
          "2020-06-15T07:00:00",
          "2020-06-15T08:00:00",
          "2020-06-15T09:00:00",
          "2020-06-15T10:00:00",
          "2020-06-15T11:00:00",
          "2020-06-15T12:00:00",
          "2020-06-15T13:00:00",
          "2020-06-15T14:00:00",
          "2020-06-15T15:00:00",
          "2020-06-15T16:00:00",
          "2020-06-15T17:00:00",
          "2020-06-15T18:00:00",
          "2020-06-15T19:00:00",
          "2020-06-15T20:00:00",
          "2020-06-15T21:00:00",
          "2020-06-15T22:00:00",
          "2020-06-15T23:00:00",
          "2020-06-16T00:00:00",
          "2020-06-16T01:00:00",
          "2020-06-16T02:00:00",
          "2020-06-16T03:00:00",
          "2020-06-16T04:00:00",
          "2020-06-16T05:00:00",
          "2020-06-16T06:00:00",
          "2020-06-16T07:00:00",
          "2020-06-16T08:00:00",
          "2020-06-16T09:00:00",
          "2020-06-16T10:00:00",
          "2020-06-16T11:00:00",
          "2020-06-16T12:00:00",
          "2020-06-16T13:00:00",
          "2020-06-16T14:00:00",
          "2020-06-16T15:00:00",
          "2020-06-16T16:00:00",
          "2020-06-16T17:00:00",
          "2020-06-16T18:00:00",
          "2020-06-16T19:00:00",
          "2020-06-16T20:00:00",
          "2020-06-16T21:00:00",
          "2020-06-16T22:00:00",
          "2020-06-16T23:00:00",
          "2020-06-17T00:00:00",
          "2020-06-17T01:00:00",
          "2020-06-17T02:00:00",
          "2020-06-17T03:00:00",
          "2020-06-17T04:00:00",
          "2020-06-17T05:00:00",
          "2020-06-17T06:00:00",
          "2020-06-17T07:00:00",
          "2020-06-17T08:00:00",
          "2020-06-17T09:00:00",
          "2020-06-17T10:00:00",
          "2020-06-17T11:00:00",
          "2020-06-17T12:00:00",
          "2020-06-17T13:00:00",
          "2020-06-17T14:00:00",
          "2020-06-17T15:00:00",
          "2020-06-17T16:00:00",
          "2020-06-17T17:00:00",
          "2020-06-17T18:00:00",
          "2020-06-17T19:00:00",
          "2020-06-17T20:00:00",
          "2020-06-17T21:00:00",
          "2020-06-17T22:00:00",
          "2020-06-17T23:00:00",
          "2020-06-18T00:00:00",
          "2020-06-18T01:00:00",
          "2020-06-18T02:00:00",
          "2020-06-18T03:00:00",
          "2020-06-18T04:00:00",
          "2020-06-18T05:00:00",
          "2020-06-18T06:00:00",
          "2020-06-18T07:00:00",
          "2020-06-18T08:00:00",
          "2020-06-18T09:00:00",
          "2020-06-18T10:00:00",
          "2020-06-18T11:00:00",
          "2020-06-18T12:00:00",
          "2020-06-18T13:00:00",
          "2020-06-18T14:00:00",
          "2020-06-18T15:00:00",
          "2020-06-18T16:00:00",
          "2020-06-18T17:00:00",
          "2020-06-18T18:00:00",
          "2020-06-18T18:00:00",
          "2020-06-18T18:00:00",
          "2020-06-18T18:00:00",
          "2020-06-18T22:00:00",
          "2020-06-18T23:00:00",
          "2020-06-19T00:00:00",
          "2020-06-19T01:00:00",
          "2020-06-19T02:00:00",
          "2020-06-19T03:00:00",
          "2020-06-19T04:00:00",
          "2020-06-19T05:00:00",
          "2020-06-19T06:00:00",
          "2020-06-19T07:00:00",
          "2020-06-19T08:00:00",
          "2020-06-19T09:00:00",
          "2020-06-19T10:00:00",
          "2020-06-19T11:00:00",
          "2020-06-19T12:00:00",
          "2020-06-19T13:00:00",
          "2020-06-19T14:00:00",
          "2020-06-19T15:00:00",
          "2020-06-19T16:00:00",
          "2020-06-19T17:00:00",
          "2020-06-19T18:00:00",
          "2020-06-19T19:00:00",
          "2020-06-19T20:00:00",
          "2020-06-19T21:00:00",
          "2020-06-19T22:00:00",
          "2020-06-19T23:00:00",
          "2020-06-20T00:00:00",
          "2020-06-20T01:00:00",
          "2020-06-20T02:00:00",
          "2020-06-20T03:00:00",
          "2020-06-20T04:00:00",
          "2020-06-20T05:00:00",
          "2020-06-20T06:00:00",
          "2020-06-20T07:00:00",
          "2020-06-20T08:00:00",
          "2020-06-20T09:00:00",
          "2020-06-20T10:00:00",
          "2020-06-20T11:00:00",
          "2020-06-20T12:00:00",
          "2020-06-20T13:00:00",
          "2020-06-20T14:00:00",
          "2020-06-20T15:00:00",
          "2020-06-20T16:00:00",
          "2020-06-20T17:00:00",
          "2020-06-20T18:00:00",
          "2020-06-20T19:00:00",
          "2020-06-20T20:00:00",
          "2020-06-20T21:00:00",
          "2020-06-20T22:00:00",
          "2020-06-20T23:00:00",
          "2020-06-21T00:00:00",
          "2020-06-21T01:00:00",
          "2020-06-21T02:00:00",
          "2020-06-21T03:00:00",
          "2020-06-21T04:00:00",
          "2020-06-21T05:00:00",
          "2020-06-21T06:00:00",
          "2020-06-21T07:00:00",
          "2020-06-21T08:00:00",
          "2020-06-21T09:00:00",
          "2020-06-21T10:00:00",
          "2020-06-21T11:00:00",
          "2020-06-21T12:00:00",
          "2020-06-21T13:00:00",
          "2020-06-21T14:00:00",
          "2020-06-21T15:00:00",
          "2020-06-21T16:00:00",
          "2020-06-21T17:00:00",
          "2020-06-21T18:00:00",
          "2020-06-21T19:00:00",
          "2020-06-21T20:00:00",
          "2020-06-21T21:00:00",
          "2020-06-21T22:00:00",
          "2020-06-21T23:00:00",
          "2020-06-22T00:00:00",
          "2020-06-22T01:00:00",
          "2020-06-22T02:00:00",
          "2020-06-22T03:00:00",
          "2020-06-22T04:00:00",
          "2020-06-22T05:00:00",
          "2020-06-22T06:00:00",
          "2020-06-22T07:00:00",
          "2020-06-22T08:00:00",
          "2020-06-22T09:00:00",
          "2020-06-22T10:00:00",
          "2020-06-22T11:00:00",
          "2020-06-22T12:00:00",
          "2020-06-22T13:00:00",
          "2020-06-22T14:00:00",
          "2020-06-22T15:00:00",
          "2020-06-22T16:00:00",
          "2020-06-22T17:00:00",
          "2020-06-22T18:00:00",
          "2020-06-22T19:00:00",
          "2020-06-22T20:00:00",
          "2020-06-22T21:00:00",
          "2020-06-22T22:00:00",
          "2020-06-22T23:00:00",
          "2020-06-23T00:00:00",
          "2020-06-23T01:00:00",
          "2020-06-23T02:00:00",
          "2020-06-23T03:00:00",
          "2020-06-23T04:00:00",
          "2020-06-23T05:00:00",
          "2020-06-23T06:00:00",
          "2020-06-23T07:00:00",
          "2020-06-23T08:00:00",
          "2020-06-23T09:00:00",
          "2020-06-23T10:00:00",
          "2020-06-23T11:00:00",
          "2020-06-23T12:00:00",
          "2020-06-23T13:00:00",
          "2020-06-23T14:00:00",
          "2020-06-23T15:00:00",
          "2020-06-23T16:00:00",
          "2020-06-23T17:00:00",
          "2020-06-23T18:00:00",
          "2020-06-23T19:00:00",
          "2020-06-23T20:00:00",
          "2020-06-23T21:00:00",
          "2020-06-23T22:00:00",
          "2020-06-23T23:00:00",
          "2020-06-24T00:00:00",
          "2020-06-24T01:00:00",
          "2020-06-24T02:00:00",
          "2020-06-24T03:00:00",
          "2020-06-24T04:00:00",
          "2020-06-24T05:00:00",
          "2020-06-24T06:00:00",
          "2020-06-24T07:00:00",
          "2020-06-24T08:00:00",
          "2020-06-24T09:00:00",
          "2020-06-24T10:00:00",
          "2020-06-24T11:00:00",
          "2020-06-24T12:00:00",
          "2020-06-24T13:00:00",
          "2020-06-24T14:00:00",
          "2020-06-24T15:00:00",
          "2020-06-24T16:00:00",
          "2020-06-24T17:00:00",
          "2020-06-24T18:00:00",
          "2020-06-24T19:00:00",
          "2020-06-24T20:00:00",
          "2020-06-24T21:00:00",
          "2020-06-24T22:00:00",
          "2020-06-24T23:00:00",
          "2020-06-25T00:00:00",
          "2020-06-25T01:00:00",
          "2020-06-25T02:00:00",
          "2020-06-25T03:00:00",
          "2020-06-25T04:00:00",
          "2020-06-25T05:00:00",
          "2020-06-25T06:00:00",
          "2020-06-25T07:00:00",
          "2020-06-25T08:00:00",
          "2020-06-25T09:00:00",
          "2020-06-25T10:00:00",
          "2020-06-25T11:00:00",
          "2020-06-25T12:00:00",
          "2020-06-25T13:00:00",
          "2020-06-25T14:00:00",
          "2020-06-25T15:00:00",
          "2020-06-25T16:00:00",
          "2020-06-25T17:00:00",
          "2020-06-25T18:00:00",
          "2020-06-25T19:00:00",
          "2020-06-25T20:00:00",
          "2020-06-25T21:00:00",
          "2020-06-25T22:00:00",
          "2020-06-25T23:00:00"
         ],
         "y": [
          33668.33389606156,
          30863.952283120223,
          29494.854057169083,
          29996.52103403579,
          32620.924965914222,
          35800.5477343582,
          39358.9205187887,
          42256.89027102207,
          44516.487439747085,
          46542.149022641315,
          47595.83302571598,
          47589.46301183365,
          46434.70534227762,
          45255.051392063244,
          44003.67130276823,
          43863.84882246419,
          43802.72844880311,
          43614.975301971586,
          43273.41718230096,
          42775.44180465821,
          42509.69337496088,
          42578.56346606724,
          42050.45129215662,
          40654.50866420169,
          37445.927267777115,
          34655.18748302402,
          32851.669661870554,
          33194.82819114066,
          35398.23868213802,
          38500.00408235397,
          41277.29955499395,
          43981.310968246464,
          45969.71032917782,
          47691.065979043626,
          48277.43827547575,
          48421.56017017309,
          46861.57989489021,
          45340.446150307704,
          43896.86783863193,
          43575.02883374032,
          43525.0385590429,
          43335.342313844594,
          42686.736790815194,
          42210.227048335495,
          41780.49784522082,
          41817.32773324059,
          41520.47383427358,
          39585.70839687451,
          36858.51596775757,
          33745.0424783305,
          32194.553196416207,
          32715.629724175975,
          34856.582928507756,
          37937.50117408957,
          41078.34660360633,
          43788.59112143708,
          45966.477185187105,
          47601.622303387456,
          48615.91798091602,
          48521.434363911525,
          47366.03053797202,
          45774.49490280506,
          44633.97506739972,
          44193.66954132038,
          44223.40227962092,
          44104.00661385115,
          43402.08318346258,
          42923.08582421416,
          42568.89766979327,
          42688.64661284149,
          42210.849361988934,
          40556.3276617139,
          37787.98885378131,
          34646.91152296793,
          32981.21731510273,
          33245.94962682698,
          35440.65990293148,
          38594.25155583672,
          41520.52934769234,
          44074.770236799945,
          46014.93786997701,
          47634.778880117075,
          48547.3737767901,
          48409.9446800741,
          47043.82505386813,
          45334.55442980497,
          44022.16586808443,
          43682.850931930385,
          43664.359871231776,
          43416.31255504265,
          42869.86680169242,
          42696.412223002684,
          42854.22282110837,
          42700.2920322666,
          41364.19535314292,
          39546.09671207662,
          36649.43119242256,
          33768.41325486946,
          31846.81702764697,
          32255.021357133817,
          34264.350798524516,
          37527.94423652403,
          40632.03129713469,
          43236.998348640656,
          45030.37005014056,
          46698.82218948554,
          47779.138307248526,
          47422.989469620275,
          46083.94185654849,
          44361.09315346046,
          43077.13390092384,
          42551.96984177962,
          42356.325018290474,
          42177.78509406572,
          41455.91673314113,
          40893.38438882486,
          40373.356548270756,
          40127.52724917176,
          39398.62661022866,
          37648.8486125122,
          34692.8434754688,
          31539.578908619675,
          29650.3742136764,
          29743.542650781797,
          31765.99614836026,
          34546.15797967146,
          37487.380807318164,
          39762.34548653364,
          41550.868445137385,
          42874.15013278466,
          43703.50103254002,
          43262.78862986881,
          41704.5164222133,
          39851.73394616803,
          38346.4949027336,
          37732.57878511697,
          37564.9482405471,
          37021.75613999847,
          36376.34948572972,
          35447.41167043511,
          35168.87699377372,
          34877.04264037444,
          34333.47753230233,
          32407.476727819252,
          29560.51172986927,
          26480.234499743732,
          24624.481028616647,
          25106.651786420127,
          27407.49280484485,
          30318.972740886253,
          33474.27270118824,
          36122.4260971013,
          38164.486502087886,
          39915.699093681615,
          40940.9351879098,
          41027.909011496566,
          39811.504899119034,
          38656.17736805508,
          37602.30932041738,
          37373.95168423146,
          37623.625154820795,
          37459.33060622338,
          37388.11063494074,
          36960.41314467556,
          37105.18832182151,
          37506.528646708204,
          37301.34647882083,
          36017.55345594395,
          33475.36940523503,
          30966.67263835772,
          29579.154980276217,
          30297.243748113844,
          32597.843639477433,
          36200.47469544643,
          39622.40833407499,
          42324.61925027874,
          44812.581212946025,
          46589.091210366656,
          47840.481390207366,
          47808.81729878304,
          46829.10751045132,
          45302.8005595812,
          44245.5270015677,
          43841.53377806093,
          44089.7693078748,
          44116.38727474279,
          43685.04678131207,
          43110.65232995271,
          43103.88428496406,
          43074.394194327615,
          42599.776780906606,
          41065.89196289657,
          38189.1242483732,
          35344.44672164517,
          33447.80693941185,
          33881.20132791951,
          36181.48009535246,
          39149.692903572184,
          42191.59032001234,
          44722.67709038152,
          46724.83042262245,
          48460.23884916906,
          49431.20222687401,
          49020.947989682354,
          47846.96328599771,
          46161.44546848335,
          45183.67773381202,
          44504.13199616295,
          44366.14567769569,
          44344.89312596355,
          43824.6335049026,
          42947.70629703583,
          42987.09554473749,
          42907.61783369647,
          42447.09502101575,
          40944.14288646784,
          38094.77186404062,
          35030.70869228478,
          33451.47348350486,
          33800.88132930401,
          36085.52272041489,
          39242.43059947842,
          42509.23125679895,
          44996.38244391912,
          47498.62095345298,
          49010.57447421321,
          50036.552393689104,
          50053.490152794984,
          48815.296258987764,
          47150.66735893431,
          46080.09025611595,
          45627.72993619013,
          45939.484069937906,
          45736.10509058342,
          45117.79560141577,
          44514.87101037796,
          44374.28665409112,
          44378.474729657406,
          43953.123819603315,
          42235.62967250342,
          39413.43849554769,
          36429.39139333292,
          34790.538103524595,
          34966.33792982236,
          37413.94630608536,
          40497.5113383155,
          43624.36826401622,
          45985.6410580443,
          48108.00964023294,
          49670.124832359674,
          50688.83432556009,
          50505.63651971453,
          48962.38482407405,
          47372.196319685536,
          46205.50165512755,
          45828.826139676996,
          45690.611709156314,
          45598.25638711115,
          45041.12688502722,
          44316.79403061438,
          44156.6949176607,
          44067.45025046691,
          43561.06679658873,
          41731.53950694953
         ]
        },
        {
         "fill": "tonexty",
         "fillcolor": "rgba(245, 0, 0, .47)",
         "mode": "none",
         "showlegend": false,
         "type": "scatter",
         "x": [
          "2020-06-15T00:00:00",
          "2020-06-15T01:00:00",
          "2020-06-15T02:00:00",
          "2020-06-15T03:00:00",
          "2020-06-15T04:00:00",
          "2020-06-15T05:00:00",
          "2020-06-15T06:00:00",
          "2020-06-15T07:00:00",
          "2020-06-15T08:00:00",
          "2020-06-15T09:00:00",
          "2020-06-15T10:00:00",
          "2020-06-15T11:00:00",
          "2020-06-15T12:00:00",
          "2020-06-15T13:00:00",
          "2020-06-15T14:00:00",
          "2020-06-15T15:00:00",
          "2020-06-15T16:00:00",
          "2020-06-15T17:00:00",
          "2020-06-15T18:00:00",
          "2020-06-15T19:00:00",
          "2020-06-15T20:00:00",
          "2020-06-15T21:00:00",
          "2020-06-15T22:00:00",
          "2020-06-15T23:00:00",
          "2020-06-16T00:00:00",
          "2020-06-16T01:00:00",
          "2020-06-16T02:00:00",
          "2020-06-16T03:00:00",
          "2020-06-16T04:00:00",
          "2020-06-16T05:00:00",
          "2020-06-16T06:00:00",
          "2020-06-16T07:00:00",
          "2020-06-16T08:00:00",
          "2020-06-16T09:00:00",
          "2020-06-16T10:00:00",
          "2020-06-16T11:00:00",
          "2020-06-16T12:00:00",
          "2020-06-16T13:00:00",
          "2020-06-16T14:00:00",
          "2020-06-16T15:00:00",
          "2020-06-16T16:00:00",
          "2020-06-16T17:00:00",
          "2020-06-16T18:00:00",
          "2020-06-16T19:00:00",
          "2020-06-16T20:00:00",
          "2020-06-16T21:00:00",
          "2020-06-16T22:00:00",
          "2020-06-16T23:00:00",
          "2020-06-17T00:00:00",
          "2020-06-17T01:00:00",
          "2020-06-17T02:00:00",
          "2020-06-17T03:00:00",
          "2020-06-17T04:00:00",
          "2020-06-17T05:00:00",
          "2020-06-17T06:00:00",
          "2020-06-17T07:00:00",
          "2020-06-17T08:00:00",
          "2020-06-17T09:00:00",
          "2020-06-17T10:00:00",
          "2020-06-17T11:00:00",
          "2020-06-17T12:00:00",
          "2020-06-17T13:00:00",
          "2020-06-17T14:00:00",
          "2020-06-17T15:00:00",
          "2020-06-17T16:00:00",
          "2020-06-17T17:00:00",
          "2020-06-17T18:00:00",
          "2020-06-17T19:00:00",
          "2020-06-17T20:00:00",
          "2020-06-17T21:00:00",
          "2020-06-17T22:00:00",
          "2020-06-17T23:00:00",
          "2020-06-18T00:00:00",
          "2020-06-18T01:00:00",
          "2020-06-18T02:00:00",
          "2020-06-18T03:00:00",
          "2020-06-18T04:00:00",
          "2020-06-18T05:00:00",
          "2020-06-18T06:00:00",
          "2020-06-18T07:00:00",
          "2020-06-18T08:00:00",
          "2020-06-18T09:00:00",
          "2020-06-18T10:00:00",
          "2020-06-18T11:00:00",
          "2020-06-18T12:00:00",
          "2020-06-18T13:00:00",
          "2020-06-18T14:00:00",
          "2020-06-18T15:00:00",
          "2020-06-18T16:00:00",
          "2020-06-18T17:00:00",
          "2020-06-18T18:00:00",
          "2020-06-18T18:00:00",
          "2020-06-18T18:00:00",
          "2020-06-18T18:00:00",
          "2020-06-18T22:00:00",
          "2020-06-18T23:00:00",
          "2020-06-19T00:00:00",
          "2020-06-19T01:00:00",
          "2020-06-19T02:00:00",
          "2020-06-19T03:00:00",
          "2020-06-19T04:00:00",
          "2020-06-19T05:00:00",
          "2020-06-19T06:00:00",
          "2020-06-19T07:00:00",
          "2020-06-19T08:00:00",
          "2020-06-19T09:00:00",
          "2020-06-19T10:00:00",
          "2020-06-19T11:00:00",
          "2020-06-19T12:00:00",
          "2020-06-19T13:00:00",
          "2020-06-19T14:00:00",
          "2020-06-19T15:00:00",
          "2020-06-19T16:00:00",
          "2020-06-19T17:00:00",
          "2020-06-19T18:00:00",
          "2020-06-19T19:00:00",
          "2020-06-19T20:00:00",
          "2020-06-19T21:00:00",
          "2020-06-19T22:00:00",
          "2020-06-19T23:00:00",
          "2020-06-20T00:00:00",
          "2020-06-20T01:00:00",
          "2020-06-20T02:00:00",
          "2020-06-20T03:00:00",
          "2020-06-20T04:00:00",
          "2020-06-20T05:00:00",
          "2020-06-20T06:00:00",
          "2020-06-20T07:00:00",
          "2020-06-20T08:00:00",
          "2020-06-20T09:00:00",
          "2020-06-20T10:00:00",
          "2020-06-20T11:00:00",
          "2020-06-20T12:00:00",
          "2020-06-20T13:00:00",
          "2020-06-20T14:00:00",
          "2020-06-20T15:00:00",
          "2020-06-20T16:00:00",
          "2020-06-20T17:00:00",
          "2020-06-20T18:00:00",
          "2020-06-20T19:00:00",
          "2020-06-20T20:00:00",
          "2020-06-20T21:00:00",
          "2020-06-20T22:00:00",
          "2020-06-20T23:00:00",
          "2020-06-21T00:00:00",
          "2020-06-21T01:00:00",
          "2020-06-21T02:00:00",
          "2020-06-21T03:00:00",
          "2020-06-21T04:00:00",
          "2020-06-21T05:00:00",
          "2020-06-21T06:00:00",
          "2020-06-21T07:00:00",
          "2020-06-21T08:00:00",
          "2020-06-21T09:00:00",
          "2020-06-21T10:00:00",
          "2020-06-21T11:00:00",
          "2020-06-21T12:00:00",
          "2020-06-21T13:00:00",
          "2020-06-21T14:00:00",
          "2020-06-21T15:00:00",
          "2020-06-21T16:00:00",
          "2020-06-21T17:00:00",
          "2020-06-21T18:00:00",
          "2020-06-21T19:00:00",
          "2020-06-21T20:00:00",
          "2020-06-21T21:00:00",
          "2020-06-21T22:00:00",
          "2020-06-21T23:00:00",
          "2020-06-22T00:00:00",
          "2020-06-22T01:00:00",
          "2020-06-22T02:00:00",
          "2020-06-22T03:00:00",
          "2020-06-22T04:00:00",
          "2020-06-22T05:00:00",
          "2020-06-22T06:00:00",
          "2020-06-22T07:00:00",
          "2020-06-22T08:00:00",
          "2020-06-22T09:00:00",
          "2020-06-22T10:00:00",
          "2020-06-22T11:00:00",
          "2020-06-22T12:00:00",
          "2020-06-22T13:00:00",
          "2020-06-22T14:00:00",
          "2020-06-22T15:00:00",
          "2020-06-22T16:00:00",
          "2020-06-22T17:00:00",
          "2020-06-22T18:00:00",
          "2020-06-22T19:00:00",
          "2020-06-22T20:00:00",
          "2020-06-22T21:00:00",
          "2020-06-22T22:00:00",
          "2020-06-22T23:00:00",
          "2020-06-23T00:00:00",
          "2020-06-23T01:00:00",
          "2020-06-23T02:00:00",
          "2020-06-23T03:00:00",
          "2020-06-23T04:00:00",
          "2020-06-23T05:00:00",
          "2020-06-23T06:00:00",
          "2020-06-23T07:00:00",
          "2020-06-23T08:00:00",
          "2020-06-23T09:00:00",
          "2020-06-23T10:00:00",
          "2020-06-23T11:00:00",
          "2020-06-23T12:00:00",
          "2020-06-23T13:00:00",
          "2020-06-23T14:00:00",
          "2020-06-23T15:00:00",
          "2020-06-23T16:00:00",
          "2020-06-23T17:00:00",
          "2020-06-23T18:00:00",
          "2020-06-23T19:00:00",
          "2020-06-23T20:00:00",
          "2020-06-23T21:00:00",
          "2020-06-23T22:00:00",
          "2020-06-23T23:00:00",
          "2020-06-24T00:00:00",
          "2020-06-24T01:00:00",
          "2020-06-24T02:00:00",
          "2020-06-24T03:00:00",
          "2020-06-24T04:00:00",
          "2020-06-24T05:00:00",
          "2020-06-24T06:00:00",
          "2020-06-24T07:00:00",
          "2020-06-24T08:00:00",
          "2020-06-24T09:00:00",
          "2020-06-24T10:00:00",
          "2020-06-24T11:00:00",
          "2020-06-24T12:00:00",
          "2020-06-24T13:00:00",
          "2020-06-24T14:00:00",
          "2020-06-24T15:00:00",
          "2020-06-24T16:00:00",
          "2020-06-24T17:00:00",
          "2020-06-24T18:00:00",
          "2020-06-24T19:00:00",
          "2020-06-24T20:00:00",
          "2020-06-24T21:00:00",
          "2020-06-24T22:00:00",
          "2020-06-24T23:00:00",
          "2020-06-25T00:00:00",
          "2020-06-25T01:00:00",
          "2020-06-25T02:00:00",
          "2020-06-25T03:00:00",
          "2020-06-25T04:00:00",
          "2020-06-25T05:00:00",
          "2020-06-25T06:00:00",
          "2020-06-25T07:00:00",
          "2020-06-25T08:00:00",
          "2020-06-25T09:00:00",
          "2020-06-25T10:00:00",
          "2020-06-25T11:00:00",
          "2020-06-25T12:00:00",
          "2020-06-25T13:00:00",
          "2020-06-25T14:00:00",
          "2020-06-25T15:00:00",
          "2020-06-25T16:00:00",
          "2020-06-25T17:00:00",
          "2020-06-25T18:00:00",
          "2020-06-25T19:00:00",
          "2020-06-25T20:00:00",
          "2020-06-25T21:00:00",
          "2020-06-25T22:00:00",
          "2020-06-25T23:00:00"
         ],
         "y": [
          37895.31374160596,
          35104.21195617266,
          33579.168484311034,
          34092.484119734734,
          36749.78885972148,
          40208.47567266999,
          43457.19386690404,
          46201.35202982564,
          48595.04142996296,
          50727.141708273,
          51730.05645687427,
          51870.62038823655,
          50803.27756947453,
          49371.699064236935,
          48069.10331079797,
          47913.980638324036,
          47993.45363704892,
          47871.93706942802,
          47480.42274253013,
          46821.70894078886,
          46822.83159335977,
          46669.50419558406,
          46302.07976192566,
          44732.84795674425,
          41800.697810014746,
          38938.34929090851,
          37158.10498359752,
          37438.720274862564,
          39713.88548984435,
          42581.02029318131,
          45572.51424084971,
          48148.124265779865,
          50185.66117304324,
          51953.53421294328,
          52646.56659247967,
          52459.64704110537,
          51146.92803405991,
          49519.40929614046,
          48259.528196877414,
          47706.74742311546,
          47711.58507365408,
          47298.80751499351,
          46865.31759384026,
          46191.02778313834,
          46053.87048259556,
          46036.03243299665,
          45652.22898685697,
          43941.894591308075,
          41018.82002460238,
          38251.17420517999,
          36567.663624222085,
          36895.464174824214,
          39025.22964890912,
          42300.49365503444,
          45383.13789819158,
          47874.47880672311,
          50220.41338475808,
          51782.193331812196,
          52763.89717595095,
          52657.64188975076,
          51594.95392792307,
          49850.13876064064,
          48588.40088367973,
          48383.00561047028,
          48334.28446807658,
          48123.39753861881,
          47669.988656915055,
          47144.06030410342,
          46777.171794722955,
          46988.864346227725,
          46292.21270538779,
          44564.824238952686,
          41790.36444935691,
          38758.8903834438,
          37133.648337532,
          37349.80852390944,
          39793.95933427092,
          42689.142003661946,
          45814.56660492916,
          48202.81816430572,
          50116.53848382924,
          51736.240293373725,
          52936.67260560227,
          52588.7367577262,
          51068.04368087636,
          49572.13639413208,
          48214.827387010395,
          47855.093543047136,
          47751.35398404316,
          47540.397258832854,
          46914.26276222795,
          46868.66542936095,
          46805.08303321228,
          46979.392235709856,
          45445.071632854226,
          43731.50728789156,
          40820.34509208481,
          37942.18186326356,
          36022.13918992495,
          36348.6020679311,
          38633.40919085082,
          41617.31145316784,
          44714.172560041116,
          47435.64321581233,
          49329.855707697134,
          50823.34967615644,
          51833.01068757837,
          51454.02108611754,
          50292.36493896485,
          48499.5220437605,
          47426.579907359876,
          46606.776499310516,
          46396.24392807141,
          46338.422476097236,
          45767.93987062939,
          44750.825147389885,
          44681.13157170066,
          44277.7894457649,
          43891.181753552315,
          41906.13653370283,
          38913.25146945443,
          35596.20427310739,
          33899.2505795904,
          33926.42285682858,
          35846.447707070154,
          38848.36867503555,
          41551.84615940586,
          43913.92914836855,
          45808.04620534966,
          47198.30978100807,
          47815.717997873304,
          47358.74425773626,
          45796.04230522111,
          43995.42961112932,
          42529.824775275934,
          42018.091496554545,
          41601.66447908236,
          41037.92368805966,
          40398.67046862004,
          39657.87359535435,
          39241.71070293015,
          39110.93034192006,
          38459.939875911004,
          36707.35597988454,
          33809.32351516183,
          30571.77204405164,
          28755.23301599515,
          29166.83549728362,
          31356.271299393735,
          34530.051225013034,
          37567.21945978714,
          40226.96184796051,
          42356.573280647295,
          44159.16754447617,
          45213.89015018623,
          45242.67389481432,
          44176.56798541458,
          42617.07476856757,
          41792.24882648811,
          41486.48978980255,
          41688.529706954694,
          41905.481679212055,
          41544.17490787395,
          41398.62585212651,
          41444.16065832963,
          41624.918860480815,
          41383.81457657547,
          40270.74427217097,
          37551.23144930315,
          35073.009075272785,
          33791.46586237364,
          34287.24890634997,
          36855.08790827432,
          40341.47065131812,
          43673.85191010249,
          46411.40961133683,
          48867.286884335444,
          50712.22895313097,
          51960.290836686356,
          52047.483938895166,
          51048.429594663,
          49668.263335910335,
          48560.67106048236,
          48217.35174274672,
          48393.041672022955,
          48348.28053098903,
          47895.73629082588,
          47512.84002417395,
          47321.125068024005,
          47242.73808354391,
          46739.23908680152,
          44979.80179437646,
          42315.08980375888,
          39369.56689013396,
          37807.597738358556,
          38207.03052612013,
          40535.60425133038,
          43265.479527714095,
          46321.06125855709,
          48797.38588822918,
          50988.259395786656,
          52856.15829435088,
          53432.44722540441,
          53209.04324622305,
          52070.56592928448,
          50307.05089248537,
          49233.63421156668,
          48757.15600592496,
          48564.55173318151,
          48567.59256536786,
          47854.48687060928,
          47218.72131060216,
          47255.77046880243,
          46943.21621680863,
          46741.4339897382,
          45003.67319732263,
          42290.621063784696,
          39355.39630487989,
          37595.44474215269,
          38020.72644629927,
          40460.304694617385,
          43479.316305912645,
          46550.064049761415,
          49276.970429523775,
          51560.40515730144,
          53213.286223780975,
          54217.21582936858,
          54215.53491230634,
          52968.49668229764,
          51317.0052630452,
          50173.32720754729,
          49825.313786396415,
          49917.31802240374,
          49862.192080516106,
          49417.31189265162,
          48635.16306519526,
          48558.21496900798,
          48654.99380234294,
          48216.06545342835,
          46395.71659553175,
          43511.18940235361,
          40706.17366526893,
          39050.39850231838,
          39278.721382371565,
          41495.87224616215,
          44627.650649809926,
          47415.293991492064,
          50105.57971774853,
          52177.32259125275,
          53974.53760517669,
          54813.678885548674,
          54687.687055752234,
          53335.094473261706,
          51485.251801749735,
          50447.837862087494,
          50087.77747886228,
          49966.25017346356,
          49898.99977039736,
          49069.91181701474,
          48541.52642072293,
          47988.22597608359,
          48133.53181978718,
          47758.20226822656,
          46145.945756544796
         ]
        }
       ],
       "layout": {
        "font": {
         "color": "#cdc6c6",
         "family": "Arial",
         "size": 15
        },
        "legend": {
         "font": {
          "color": "#cdc6c6"
         }
        },
        "paper_bgcolor": "#383838",
        "plot_bgcolor": "#383838",
        "template": {
         "data": {
          "bar": [
           {
            "error_x": {
             "color": "#2a3f5f"
            },
            "error_y": {
             "color": "#2a3f5f"
            },
            "marker": {
             "line": {
              "color": "#E5ECF6",
              "width": 0.5
             }
            },
            "type": "bar"
           }
          ],
          "barpolar": [
           {
            "marker": {
             "line": {
              "color": "#E5ECF6",
              "width": 0.5
             }
            },
            "type": "barpolar"
           }
          ],
          "carpet": [
           {
            "aaxis": {
             "endlinecolor": "#2a3f5f",
             "gridcolor": "white",
             "linecolor": "white",
             "minorgridcolor": "white",
             "startlinecolor": "#2a3f5f"
            },
            "baxis": {
             "endlinecolor": "#2a3f5f",
             "gridcolor": "white",
             "linecolor": "white",
             "minorgridcolor": "white",
             "startlinecolor": "#2a3f5f"
            },
            "type": "carpet"
           }
          ],
          "choropleth": [
           {
            "colorbar": {
             "outlinewidth": 0,
             "ticks": ""
            },
            "type": "choropleth"
           }
          ],
          "contour": [
           {
            "colorbar": {
             "outlinewidth": 0,
             "ticks": ""
            },
            "colorscale": [
             [
              0,
              "#0d0887"
             ],
             [
              0.1111111111111111,
              "#46039f"
             ],
             [
              0.2222222222222222,
              "#7201a8"
             ],
             [
              0.3333333333333333,
              "#9c179e"
             ],
             [
              0.4444444444444444,
              "#bd3786"
             ],
             [
              0.5555555555555556,
              "#d8576b"
             ],
             [
              0.6666666666666666,
              "#ed7953"
             ],
             [
              0.7777777777777778,
              "#fb9f3a"
             ],
             [
              0.8888888888888888,
              "#fdca26"
             ],
             [
              1,
              "#f0f921"
             ]
            ],
            "type": "contour"
           }
          ],
          "contourcarpet": [
           {
            "colorbar": {
             "outlinewidth": 0,
             "ticks": ""
            },
            "type": "contourcarpet"
           }
          ],
          "heatmap": [
           {
            "colorbar": {
             "outlinewidth": 0,
             "ticks": ""
            },
            "colorscale": [
             [
              0,
              "#0d0887"
             ],
             [
              0.1111111111111111,
              "#46039f"
             ],
             [
              0.2222222222222222,
              "#7201a8"
             ],
             [
              0.3333333333333333,
              "#9c179e"
             ],
             [
              0.4444444444444444,
              "#bd3786"
             ],
             [
              0.5555555555555556,
              "#d8576b"
             ],
             [
              0.6666666666666666,
              "#ed7953"
             ],
             [
              0.7777777777777778,
              "#fb9f3a"
             ],
             [
              0.8888888888888888,
              "#fdca26"
             ],
             [
              1,
              "#f0f921"
             ]
            ],
            "type": "heatmap"
           }
          ],
          "heatmapgl": [
           {
            "colorbar": {
             "outlinewidth": 0,
             "ticks": ""
            },
            "colorscale": [
             [
              0,
              "#0d0887"
             ],
             [
              0.1111111111111111,
              "#46039f"
             ],
             [
              0.2222222222222222,
              "#7201a8"
             ],
             [
              0.3333333333333333,
              "#9c179e"
             ],
             [
              0.4444444444444444,
              "#bd3786"
             ],
             [
              0.5555555555555556,
              "#d8576b"
             ],
             [
              0.6666666666666666,
              "#ed7953"
             ],
             [
              0.7777777777777778,
              "#fb9f3a"
             ],
             [
              0.8888888888888888,
              "#fdca26"
             ],
             [
              1,
              "#f0f921"
             ]
            ],
            "type": "heatmapgl"
           }
          ],
          "histogram": [
           {
            "marker": {
             "colorbar": {
              "outlinewidth": 0,
              "ticks": ""
             }
            },
            "type": "histogram"
           }
          ],
          "histogram2d": [
           {
            "colorbar": {
             "outlinewidth": 0,
             "ticks": ""
            },
            "colorscale": [
             [
              0,
              "#0d0887"
             ],
             [
              0.1111111111111111,
              "#46039f"
             ],
             [
              0.2222222222222222,
              "#7201a8"
             ],
             [
              0.3333333333333333,
              "#9c179e"
             ],
             [
              0.4444444444444444,
              "#bd3786"
             ],
             [
              0.5555555555555556,
              "#d8576b"
             ],
             [
              0.6666666666666666,
              "#ed7953"
             ],
             [
              0.7777777777777778,
              "#fb9f3a"
             ],
             [
              0.8888888888888888,
              "#fdca26"
             ],
             [
              1,
              "#f0f921"
             ]
            ],
            "type": "histogram2d"
           }
          ],
          "histogram2dcontour": [
           {
            "colorbar": {
             "outlinewidth": 0,
             "ticks": ""
            },
            "colorscale": [
             [
              0,
              "#0d0887"
             ],
             [
              0.1111111111111111,
              "#46039f"
             ],
             [
              0.2222222222222222,
              "#7201a8"
             ],
             [
              0.3333333333333333,
              "#9c179e"
             ],
             [
              0.4444444444444444,
              "#bd3786"
             ],
             [
              0.5555555555555556,
              "#d8576b"
             ],
             [
              0.6666666666666666,
              "#ed7953"
             ],
             [
              0.7777777777777778,
              "#fb9f3a"
             ],
             [
              0.8888888888888888,
              "#fdca26"
             ],
             [
              1,
              "#f0f921"
             ]
            ],
            "type": "histogram2dcontour"
           }
          ],
          "mesh3d": [
           {
            "colorbar": {
             "outlinewidth": 0,
             "ticks": ""
            },
            "type": "mesh3d"
           }
          ],
          "parcoords": [
           {
            "line": {
             "colorbar": {
              "outlinewidth": 0,
              "ticks": ""
             }
            },
            "type": "parcoords"
           }
          ],
          "pie": [
           {
            "automargin": true,
            "type": "pie"
           }
          ],
          "scatter": [
           {
            "marker": {
             "colorbar": {
              "outlinewidth": 0,
              "ticks": ""
             }
            },
            "type": "scatter"
           }
          ],
          "scatter3d": [
           {
            "line": {
             "colorbar": {
              "outlinewidth": 0,
              "ticks": ""
             }
            },
            "marker": {
             "colorbar": {
              "outlinewidth": 0,
              "ticks": ""
             }
            },
            "type": "scatter3d"
           }
          ],
          "scattercarpet": [
           {
            "marker": {
             "colorbar": {
              "outlinewidth": 0,
              "ticks": ""
             }
            },
            "type": "scattercarpet"
           }
          ],
          "scattergeo": [
           {
            "marker": {
             "colorbar": {
              "outlinewidth": 0,
              "ticks": ""
             }
            },
            "type": "scattergeo"
           }
          ],
          "scattergl": [
           {
            "marker": {
             "colorbar": {
              "outlinewidth": 0,
              "ticks": ""
             }
            },
            "type": "scattergl"
           }
          ],
          "scattermapbox": [
           {
            "marker": {
             "colorbar": {
              "outlinewidth": 0,
              "ticks": ""
             }
            },
            "type": "scattermapbox"
           }
          ],
          "scatterpolar": [
           {
            "marker": {
             "colorbar": {
              "outlinewidth": 0,
              "ticks": ""
             }
            },
            "type": "scatterpolar"
           }
          ],
          "scatterpolargl": [
           {
            "marker": {
             "colorbar": {
              "outlinewidth": 0,
              "ticks": ""
             }
            },
            "type": "scatterpolargl"
           }
          ],
          "scatterternary": [
           {
            "marker": {
             "colorbar": {
              "outlinewidth": 0,
              "ticks": ""
             }
            },
            "type": "scatterternary"
           }
          ],
          "surface": [
           {
            "colorbar": {
             "outlinewidth": 0,
             "ticks": ""
            },
            "colorscale": [
             [
              0,
              "#0d0887"
             ],
             [
              0.1111111111111111,
              "#46039f"
             ],
             [
              0.2222222222222222,
              "#7201a8"
             ],
             [
              0.3333333333333333,
              "#9c179e"
             ],
             [
              0.4444444444444444,
              "#bd3786"
             ],
             [
              0.5555555555555556,
              "#d8576b"
             ],
             [
              0.6666666666666666,
              "#ed7953"
             ],
             [
              0.7777777777777778,
              "#fb9f3a"
             ],
             [
              0.8888888888888888,
              "#fdca26"
             ],
             [
              1,
              "#f0f921"
             ]
            ],
            "type": "surface"
           }
          ],
          "table": [
           {
            "cells": {
             "fill": {
              "color": "#EBF0F8"
             },
             "line": {
              "color": "white"
             }
            },
            "header": {
             "fill": {
              "color": "#C8D4E3"
             },
             "line": {
              "color": "white"
             }
            },
            "type": "table"
           }
          ]
         },
         "layout": {
          "annotationdefaults": {
           "arrowcolor": "#2a3f5f",
           "arrowhead": 0,
           "arrowwidth": 1
          },
          "coloraxis": {
           "colorbar": {
            "outlinewidth": 0,
            "ticks": ""
           }
          },
          "colorscale": {
           "diverging": [
            [
             0,
             "#8e0152"
            ],
            [
             0.1,
             "#c51b7d"
            ],
            [
             0.2,
             "#de77ae"
            ],
            [
             0.3,
             "#f1b6da"
            ],
            [
             0.4,
             "#fde0ef"
            ],
            [
             0.5,
             "#f7f7f7"
            ],
            [
             0.6,
             "#e6f5d0"
            ],
            [
             0.7,
             "#b8e186"
            ],
            [
             0.8,
             "#7fbc41"
            ],
            [
             0.9,
             "#4d9221"
            ],
            [
             1,
             "#276419"
            ]
           ],
           "sequential": [
            [
             0,
             "#0d0887"
            ],
            [
             0.1111111111111111,
             "#46039f"
            ],
            [
             0.2222222222222222,
             "#7201a8"
            ],
            [
             0.3333333333333333,
             "#9c179e"
            ],
            [
             0.4444444444444444,
             "#bd3786"
            ],
            [
             0.5555555555555556,
             "#d8576b"
            ],
            [
             0.6666666666666666,
             "#ed7953"
            ],
            [
             0.7777777777777778,
             "#fb9f3a"
            ],
            [
             0.8888888888888888,
             "#fdca26"
            ],
            [
             1,
             "#f0f921"
            ]
           ],
           "sequentialminus": [
            [
             0,
             "#0d0887"
            ],
            [
             0.1111111111111111,
             "#46039f"
            ],
            [
             0.2222222222222222,
             "#7201a8"
            ],
            [
             0.3333333333333333,
             "#9c179e"
            ],
            [
             0.4444444444444444,
             "#bd3786"
            ],
            [
             0.5555555555555556,
             "#d8576b"
            ],
            [
             0.6666666666666666,
             "#ed7953"
            ],
            [
             0.7777777777777778,
             "#fb9f3a"
            ],
            [
             0.8888888888888888,
             "#fdca26"
            ],
            [
             1,
             "#f0f921"
            ]
           ]
          },
          "colorway": [
           "#636efa",
           "#EF553B",
           "#00cc96",
           "#ab63fa",
           "#FFA15A",
           "#19d3f3",
           "#FF6692",
           "#B6E880",
           "#FF97FF",
           "#FECB52"
          ],
          "font": {
           "color": "#2a3f5f"
          },
          "geo": {
           "bgcolor": "white",
           "lakecolor": "white",
           "landcolor": "#E5ECF6",
           "showlakes": true,
           "showland": true,
           "subunitcolor": "white"
          },
          "hoverlabel": {
           "align": "left"
          },
          "hovermode": "closest",
          "mapbox": {
           "style": "light"
          },
          "paper_bgcolor": "white",
          "plot_bgcolor": "#E5ECF6",
          "polar": {
           "angularaxis": {
            "gridcolor": "white",
            "linecolor": "white",
            "ticks": ""
           },
           "bgcolor": "#E5ECF6",
           "radialaxis": {
            "gridcolor": "white",
            "linecolor": "white",
            "ticks": ""
           }
          },
          "scene": {
           "xaxis": {
            "backgroundcolor": "#E5ECF6",
            "gridcolor": "white",
            "gridwidth": 2,
            "linecolor": "white",
            "showbackground": true,
            "ticks": "",
            "zerolinecolor": "white"
           },
           "yaxis": {
            "backgroundcolor": "#E5ECF6",
            "gridcolor": "white",
            "gridwidth": 2,
            "linecolor": "white",
            "showbackground": true,
            "ticks": "",
            "zerolinecolor": "white"
           },
           "zaxis": {
            "backgroundcolor": "#E5ECF6",
            "gridcolor": "white",
            "gridwidth": 2,
            "linecolor": "white",
            "showbackground": true,
            "ticks": "",
            "zerolinecolor": "white"
           }
          },
          "shapedefaults": {
           "line": {
            "color": "#2a3f5f"
           }
          },
          "ternary": {
           "aaxis": {
            "gridcolor": "white",
            "linecolor": "white",
            "ticks": ""
           },
           "baxis": {
            "gridcolor": "white",
            "linecolor": "white",
            "ticks": ""
           },
           "bgcolor": "#E5ECF6",
           "caxis": {
            "gridcolor": "white",
            "linecolor": "white",
            "ticks": ""
           }
          },
          "title": {
           "x": 0.05
          },
          "xaxis": {
           "automargin": true,
           "gridcolor": "white",
           "linecolor": "white",
           "ticks": "",
           "title": {
            "standoff": 15
           },
           "zerolinecolor": "white",
           "zerolinewidth": 2
          },
          "yaxis": {
           "automargin": true,
           "gridcolor": "white",
           "linecolor": "white",
           "ticks": "",
           "title": {
            "standoff": 15
           },
           "zerolinecolor": "white",
           "zerolinewidth": 2
          }
         }
        },
        "title": {
         "text": "XXXX",
         "x": 0.4,
         "xanchor": "center",
         "y": 0.95,
         "yanchor": "top"
        },
        "xaxis": {
         "tickfont": {
          "color": "#cdc6c6"
         },
         "title": {
          "text": "Time"
         }
        },
        "yaxis": {
         "tickfont": {
          "color": "#cdc6c6"
         },
         "title": {
          "text": "Energy in MWh"
         }
        }
       }
      },
      "text/html": [
       "<div>\n",
       "        \n",
       "        \n",
       "            <div id=\"e2eb7c53-62c2-4286-88c4-97870a3fdf5c\" class=\"plotly-graph-div\" style=\"height:525px; width:100%;\"></div>\n",
       "            <script type=\"text/javascript\">\n",
       "                require([\"plotly\"], function(Plotly) {\n",
       "                    window.PLOTLYENV=window.PLOTLYENV || {};\n",
       "                    \n",
       "                if (document.getElementById(\"e2eb7c53-62c2-4286-88c4-97870a3fdf5c\")) {\n",
       "                    Plotly.newPlot(\n",
       "                        'e2eb7c53-62c2-4286-88c4-97870a3fdf5c',\n",
       "                        [{\"name\": \"real data\", \"type\": \"scatter\", \"x\": [\"2020-06-15T00:00:00+00:00\", \"2020-06-15T01:00:00+00:00\", \"2020-06-15T02:00:00+00:00\", \"2020-06-15T03:00:00+00:00\", \"2020-06-15T04:00:00+00:00\", \"2020-06-15T05:00:00+00:00\", \"2020-06-15T06:00:00+00:00\", \"2020-06-15T07:00:00+00:00\", \"2020-06-15T08:00:00+00:00\", \"2020-06-15T09:00:00+00:00\", \"2020-06-15T10:00:00+00:00\", \"2020-06-15T11:00:00+00:00\", \"2020-06-15T12:00:00+00:00\", \"2020-06-15T13:00:00+00:00\", \"2020-06-15T14:00:00+00:00\", \"2020-06-15T15:00:00+00:00\", \"2020-06-15T16:00:00+00:00\", \"2020-06-15T17:00:00+00:00\", \"2020-06-15T18:00:00+00:00\", \"2020-06-15T19:00:00+00:00\", \"2020-06-15T20:00:00+00:00\", \"2020-06-15T21:00:00+00:00\", \"2020-06-15T22:00:00+00:00\", \"2020-06-15T23:00:00+00:00\", \"2020-06-16T00:00:00+00:00\", \"2020-06-16T01:00:00+00:00\", \"2020-06-16T02:00:00+00:00\", \"2020-06-16T03:00:00+00:00\", \"2020-06-16T04:00:00+00:00\", \"2020-06-16T05:00:00+00:00\", \"2020-06-16T06:00:00+00:00\", \"2020-06-16T07:00:00+00:00\", \"2020-06-16T08:00:00+00:00\", \"2020-06-16T09:00:00+00:00\", \"2020-06-16T10:00:00+00:00\", \"2020-06-16T11:00:00+00:00\", \"2020-06-16T12:00:00+00:00\", \"2020-06-16T13:00:00+00:00\", \"2020-06-16T14:00:00+00:00\", \"2020-06-16T15:00:00+00:00\", \"2020-06-16T16:00:00+00:00\", \"2020-06-16T17:00:00+00:00\", \"2020-06-16T18:00:00+00:00\", \"2020-06-16T19:00:00+00:00\", \"2020-06-16T20:00:00+00:00\", \"2020-06-16T21:00:00+00:00\", \"2020-06-16T22:00:00+00:00\", \"2020-06-16T23:00:00+00:00\", \"2020-06-17T00:00:00+00:00\", \"2020-06-17T01:00:00+00:00\", \"2020-06-17T02:00:00+00:00\", \"2020-06-17T03:00:00+00:00\", \"2020-06-17T04:00:00+00:00\", \"2020-06-17T05:00:00+00:00\", \"2020-06-17T06:00:00+00:00\", \"2020-06-17T07:00:00+00:00\", \"2020-06-17T08:00:00+00:00\", \"2020-06-17T09:00:00+00:00\", \"2020-06-17T10:00:00+00:00\", \"2020-06-17T11:00:00+00:00\", \"2020-06-17T12:00:00+00:00\", \"2020-06-17T13:00:00+00:00\", \"2020-06-17T14:00:00+00:00\", \"2020-06-17T15:00:00+00:00\", \"2020-06-17T16:00:00+00:00\", \"2020-06-17T17:00:00+00:00\", \"2020-06-17T18:00:00+00:00\", \"2020-06-17T19:00:00+00:00\", \"2020-06-17T20:00:00+00:00\", \"2020-06-17T21:00:00+00:00\", \"2020-06-17T22:00:00+00:00\", \"2020-06-17T23:00:00+00:00\", \"2020-06-18T00:00:00+00:00\", \"2020-06-18T01:00:00+00:00\", \"2020-06-18T02:00:00+00:00\", \"2020-06-18T03:00:00+00:00\", \"2020-06-18T04:00:00+00:00\", \"2020-06-18T05:00:00+00:00\", \"2020-06-18T06:00:00+00:00\", \"2020-06-18T07:00:00+00:00\", \"2020-06-18T08:00:00+00:00\", \"2020-06-18T09:00:00+00:00\", \"2020-06-18T10:00:00+00:00\", \"2020-06-18T11:00:00+00:00\", \"2020-06-18T12:00:00+00:00\", \"2020-06-18T13:00:00+00:00\", \"2020-06-18T14:00:00+00:00\", \"2020-06-18T15:00:00+00:00\", \"2020-06-18T16:00:00+00:00\", \"2020-06-18T17:00:00+00:00\", \"2020-06-18T18:00:00+00:00\", \"2020-06-18T19:00:00+00:00\", \"2020-06-18T20:00:00+00:00\", \"2020-06-18T21:00:00+00:00\", \"2020-06-18T22:00:00+00:00\", \"2020-06-18T23:00:00+00:00\", \"2020-06-19T00:00:00+00:00\", \"2020-06-19T01:00:00+00:00\", \"2020-06-19T02:00:00+00:00\", \"2020-06-19T03:00:00+00:00\", \"2020-06-19T04:00:00+00:00\", \"2020-06-19T05:00:00+00:00\", \"2020-06-19T06:00:00+00:00\", \"2020-06-19T07:00:00+00:00\", \"2020-06-19T08:00:00+00:00\", \"2020-06-19T09:00:00+00:00\", \"2020-06-19T10:00:00+00:00\", \"2020-06-19T11:00:00+00:00\", \"2020-06-19T12:00:00+00:00\", \"2020-06-19T13:00:00+00:00\", \"2020-06-19T14:00:00+00:00\", \"2020-06-19T15:00:00+00:00\", \"2020-06-19T16:00:00+00:00\", \"2020-06-19T17:00:00+00:00\", \"2020-06-19T18:00:00+00:00\", \"2020-06-19T19:00:00+00:00\", \"2020-06-19T20:00:00+00:00\", \"2020-06-19T21:00:00+00:00\", \"2020-06-19T22:00:00+00:00\", \"2020-06-19T23:00:00+00:00\", \"2020-06-20T00:00:00+00:00\", \"2020-06-20T01:00:00+00:00\", \"2020-06-20T02:00:00+00:00\", \"2020-06-20T03:00:00+00:00\", \"2020-06-20T04:00:00+00:00\", \"2020-06-20T05:00:00+00:00\", \"2020-06-20T06:00:00+00:00\", \"2020-06-20T07:00:00+00:00\", \"2020-06-20T08:00:00+00:00\", \"2020-06-20T09:00:00+00:00\", \"2020-06-20T10:00:00+00:00\", \"2020-06-20T11:00:00+00:00\", \"2020-06-20T12:00:00+00:00\", \"2020-06-20T13:00:00+00:00\", \"2020-06-20T14:00:00+00:00\", \"2020-06-20T15:00:00+00:00\", \"2020-06-20T16:00:00+00:00\", \"2020-06-20T17:00:00+00:00\", \"2020-06-20T18:00:00+00:00\", \"2020-06-20T19:00:00+00:00\", \"2020-06-20T20:00:00+00:00\", \"2020-06-20T21:00:00+00:00\", \"2020-06-20T22:00:00+00:00\", \"2020-06-20T23:00:00+00:00\", \"2020-06-21T00:00:00+00:00\", \"2020-06-21T01:00:00+00:00\", \"2020-06-21T02:00:00+00:00\", \"2020-06-21T03:00:00+00:00\", \"2020-06-21T04:00:00+00:00\", \"2020-06-21T05:00:00+00:00\", \"2020-06-21T06:00:00+00:00\", \"2020-06-21T07:00:00+00:00\", \"2020-06-21T08:00:00+00:00\", \"2020-06-21T09:00:00+00:00\", \"2020-06-21T10:00:00+00:00\", \"2020-06-21T11:00:00+00:00\", \"2020-06-21T12:00:00+00:00\", \"2020-06-21T13:00:00+00:00\", \"2020-06-21T14:00:00+00:00\", \"2020-06-21T15:00:00+00:00\", \"2020-06-21T16:00:00+00:00\", \"2020-06-21T17:00:00+00:00\", \"2020-06-21T18:00:00+00:00\", \"2020-06-21T19:00:00+00:00\", \"2020-06-21T20:00:00+00:00\", \"2020-06-21T21:00:00+00:00\", \"2020-06-21T22:00:00+00:00\", \"2020-06-21T23:00:00+00:00\", \"2020-06-22T00:00:00+00:00\", \"2020-06-22T01:00:00+00:00\", \"2020-06-22T02:00:00+00:00\", \"2020-06-22T03:00:00+00:00\", \"2020-06-22T04:00:00+00:00\", \"2020-06-22T05:00:00+00:00\", \"2020-06-22T06:00:00+00:00\", \"2020-06-22T07:00:00+00:00\", \"2020-06-22T08:00:00+00:00\", \"2020-06-22T09:00:00+00:00\", \"2020-06-22T10:00:00+00:00\", \"2020-06-22T11:00:00+00:00\", \"2020-06-22T12:00:00+00:00\", \"2020-06-22T13:00:00+00:00\", \"2020-06-22T14:00:00+00:00\", \"2020-06-22T15:00:00+00:00\", \"2020-06-22T16:00:00+00:00\", \"2020-06-22T17:00:00+00:00\", \"2020-06-22T18:00:00+00:00\", \"2020-06-22T19:00:00+00:00\", \"2020-06-22T20:00:00+00:00\", \"2020-06-22T21:00:00+00:00\", \"2020-06-22T22:00:00+00:00\", \"2020-06-22T23:00:00+00:00\", \"2020-06-23T00:00:00+00:00\", \"2020-06-23T01:00:00+00:00\", \"2020-06-23T02:00:00+00:00\", \"2020-06-23T03:00:00+00:00\", \"2020-06-23T04:00:00+00:00\", \"2020-06-23T05:00:00+00:00\", \"2020-06-23T06:00:00+00:00\", \"2020-06-23T07:00:00+00:00\", \"2020-06-23T08:00:00+00:00\", \"2020-06-23T09:00:00+00:00\", \"2020-06-23T10:00:00+00:00\", \"2020-06-23T11:00:00+00:00\", \"2020-06-23T12:00:00+00:00\", \"2020-06-23T13:00:00+00:00\", \"2020-06-23T14:00:00+00:00\", \"2020-06-23T15:00:00+00:00\", \"2020-06-23T16:00:00+00:00\", \"2020-06-23T17:00:00+00:00\", \"2020-06-23T18:00:00+00:00\", \"2020-06-23T19:00:00+00:00\", \"2020-06-23T20:00:00+00:00\", \"2020-06-23T21:00:00+00:00\", \"2020-06-23T22:00:00+00:00\", \"2020-06-23T23:00:00+00:00\", \"2020-06-24T00:00:00+00:00\", \"2020-06-24T01:00:00+00:00\", \"2020-06-24T02:00:00+00:00\", \"2020-06-24T03:00:00+00:00\", \"2020-06-24T04:00:00+00:00\", \"2020-06-24T05:00:00+00:00\", \"2020-06-24T06:00:00+00:00\", \"2020-06-24T07:00:00+00:00\", \"2020-06-24T08:00:00+00:00\", \"2020-06-24T09:00:00+00:00\", \"2020-06-24T10:00:00+00:00\", \"2020-06-24T11:00:00+00:00\", \"2020-06-24T12:00:00+00:00\", \"2020-06-24T13:00:00+00:00\", \"2020-06-24T14:00:00+00:00\", \"2020-06-24T15:00:00+00:00\", \"2020-06-24T16:00:00+00:00\", \"2020-06-24T17:00:00+00:00\", \"2020-06-24T18:00:00+00:00\", \"2020-06-24T19:00:00+00:00\", \"2020-06-24T20:00:00+00:00\", \"2020-06-24T21:00:00+00:00\", \"2020-06-24T22:00:00+00:00\", \"2020-06-24T23:00:00+00:00\"], \"y\": [35552.0, 33414.0, 32174.0, 32734.0, 34746.0, 39031.0, 43370.0, 46338.0, 47732.0, 48295.0, 50120.0, 50117.0, 48788.0, 47384.0, 46139.0, 45072.0, 45223.0, 46925.0, 45655.0, 42487.0, 41917.0, 45301.0, 43900.0, 39310.0, 38439.0, 35654.0, 34687.0, 34734.0, 36464.0, 40626.0, 45059.0, 47585.0, 48895.0, 49458.0, 50949.0, 50941.0, 49506.0, 47988.0, 46800.0, 45407.0, 45438.0, 47023.0, 45914.0, 42923.0, 42315.0, 45611.0, 44352.0, 39450.0, 38626.0, 36145.0, 34614.0, 34724.0, 36665.0, 40095.0, 44195.0, 47073.0, 48735.0, 49696.0, 51239.0, 51101.0, 49790.0, 47859.0, 46436.0, 45622.0, 45290.0, 47178.0, 46003.0, 42833.0, 42262.0, 45732.0, 44357.0, 39764.0, 38486.0, 36124.0, 34630.0, 34837.0, 36724.0, 40624.0, 44675.0, 47092.0, 48482.0, 49074.0, 50607.0, 50683.0, 49110.0, 47464.0, 46346.0, 45313.0, 45060.0, 46601.0, 45493.0, 45493.0, 45493.0, 45493.0, 44157.0, 39463.0, 38087.0, 35831.0, 34615.0, 34556.0, 36212.0, 40323.0, 44123.0, 46767.0, 48055.0, 48611.0, 49724.0, 49751.0, 48106.0, 46108.0, 44707.0, 43529.0, 43576.0, 44416.0, 43279.0, 40926.0, 40976.0, 45101.0, 44016.0, 39477.0, 37992.0, 35265.0, 33698.0, 32824.0, 32441.0, 33935.0, 35849.0, 38824.0, 41282.0, 42295.0, 43921.0, 45084.0, 42304.0, 40962.0, 39641.0, 39044.0, 39066.0, 40692.0, 39766.0, 38323.0, 38412.0, 42929.0, 42302.0, 37517.0, 36118.0, 33344.0, 31381.0, 30449.0, 29728.0, 30158.0, 31773.0, 34742.0, 37375.0, 39286.0, 41281.0, 42033.0, 38961.0, 37638.0, 36092.0, 35817.0, 36382.0, 38534.0, 39101.0, 38241.0, 38380.0, 41798.0, 41050.0, 36963.0, 35670.0, 33311.0, 32060.0, 32731.0, 35003.0, 39745.0, 43916.0, 46859.0, 48069.0, 48899.0, 50582.0, 50839.0, 50065.0, 48676.0, 47754.0, 46435.0, 46157.0, 47848.0, 46918.0, 43801.0, 42995.0, 46413.0, 45045.0, 39681.0, 38314.0, 35801.0, 34359.0, 34409.0, 36158.0, 40638.0, 44861.0, 47700.0, 49445.0, 50468.0, 51794.0, 51840.0, 50680.0, 49773.0, 48713.0, 47485.0, 47225.0, 48545.0, 46832.0, 43976.0, 42895.0, 46273.0, 44786.0, 39511.0, 38528.0, 36117.0, 34639.0, 34938.0, 36396.0, 40386.0, 44663.0, 47903.0, 49946.0, 51127.0, 53189.0, 53439.0, 52666.0, 51795.0, 50260.0, 48749.0, 48633.0, 49690.0, 48090.0, 44913.0, 44290.0, 48113.0, 46333.0, 41276.0]}, {\"name\": \"forecast\", \"type\": \"scatter\", \"x\": [\"2020-06-15T00:00:00\", \"2020-06-15T01:00:00\", \"2020-06-15T02:00:00\", \"2020-06-15T03:00:00\", \"2020-06-15T04:00:00\", \"2020-06-15T05:00:00\", \"2020-06-15T06:00:00\", \"2020-06-15T07:00:00\", \"2020-06-15T08:00:00\", \"2020-06-15T09:00:00\", \"2020-06-15T10:00:00\", \"2020-06-15T11:00:00\", \"2020-06-15T12:00:00\", \"2020-06-15T13:00:00\", \"2020-06-15T14:00:00\", \"2020-06-15T15:00:00\", \"2020-06-15T16:00:00\", \"2020-06-15T17:00:00\", \"2020-06-15T18:00:00\", \"2020-06-15T19:00:00\", \"2020-06-15T20:00:00\", \"2020-06-15T21:00:00\", \"2020-06-15T22:00:00\", \"2020-06-15T23:00:00\", \"2020-06-16T00:00:00\", \"2020-06-16T01:00:00\", \"2020-06-16T02:00:00\", \"2020-06-16T03:00:00\", \"2020-06-16T04:00:00\", \"2020-06-16T05:00:00\", \"2020-06-16T06:00:00\", \"2020-06-16T07:00:00\", \"2020-06-16T08:00:00\", \"2020-06-16T09:00:00\", \"2020-06-16T10:00:00\", \"2020-06-16T11:00:00\", \"2020-06-16T12:00:00\", \"2020-06-16T13:00:00\", \"2020-06-16T14:00:00\", \"2020-06-16T15:00:00\", \"2020-06-16T16:00:00\", \"2020-06-16T17:00:00\", \"2020-06-16T18:00:00\", \"2020-06-16T19:00:00\", \"2020-06-16T20:00:00\", \"2020-06-16T21:00:00\", \"2020-06-16T22:00:00\", \"2020-06-16T23:00:00\", \"2020-06-17T00:00:00\", \"2020-06-17T01:00:00\", \"2020-06-17T02:00:00\", \"2020-06-17T03:00:00\", \"2020-06-17T04:00:00\", \"2020-06-17T05:00:00\", \"2020-06-17T06:00:00\", \"2020-06-17T07:00:00\", \"2020-06-17T08:00:00\", \"2020-06-17T09:00:00\", \"2020-06-17T10:00:00\", \"2020-06-17T11:00:00\", \"2020-06-17T12:00:00\", \"2020-06-17T13:00:00\", \"2020-06-17T14:00:00\", \"2020-06-17T15:00:00\", \"2020-06-17T16:00:00\", \"2020-06-17T17:00:00\", \"2020-06-17T18:00:00\", \"2020-06-17T19:00:00\", \"2020-06-17T20:00:00\", \"2020-06-17T21:00:00\", \"2020-06-17T22:00:00\", \"2020-06-17T23:00:00\", \"2020-06-18T00:00:00\", \"2020-06-18T01:00:00\", \"2020-06-18T02:00:00\", \"2020-06-18T03:00:00\", \"2020-06-18T04:00:00\", \"2020-06-18T05:00:00\", \"2020-06-18T06:00:00\", \"2020-06-18T07:00:00\", \"2020-06-18T08:00:00\", \"2020-06-18T09:00:00\", \"2020-06-18T10:00:00\", \"2020-06-18T11:00:00\", \"2020-06-18T12:00:00\", \"2020-06-18T13:00:00\", \"2020-06-18T14:00:00\", \"2020-06-18T15:00:00\", \"2020-06-18T16:00:00\", \"2020-06-18T17:00:00\", \"2020-06-18T18:00:00\", \"2020-06-18T18:00:00\", \"2020-06-18T18:00:00\", \"2020-06-18T18:00:00\", \"2020-06-18T22:00:00\", \"2020-06-18T23:00:00\", \"2020-06-19T00:00:00\", \"2020-06-19T01:00:00\", \"2020-06-19T02:00:00\", \"2020-06-19T03:00:00\", \"2020-06-19T04:00:00\", \"2020-06-19T05:00:00\", \"2020-06-19T06:00:00\", \"2020-06-19T07:00:00\", \"2020-06-19T08:00:00\", \"2020-06-19T09:00:00\", \"2020-06-19T10:00:00\", \"2020-06-19T11:00:00\", \"2020-06-19T12:00:00\", \"2020-06-19T13:00:00\", \"2020-06-19T14:00:00\", \"2020-06-19T15:00:00\", \"2020-06-19T16:00:00\", \"2020-06-19T17:00:00\", \"2020-06-19T18:00:00\", \"2020-06-19T19:00:00\", \"2020-06-19T20:00:00\", \"2020-06-19T21:00:00\", \"2020-06-19T22:00:00\", \"2020-06-19T23:00:00\", \"2020-06-20T00:00:00\", \"2020-06-20T01:00:00\", \"2020-06-20T02:00:00\", \"2020-06-20T03:00:00\", \"2020-06-20T04:00:00\", \"2020-06-20T05:00:00\", \"2020-06-20T06:00:00\", \"2020-06-20T07:00:00\", \"2020-06-20T08:00:00\", \"2020-06-20T09:00:00\", \"2020-06-20T10:00:00\", \"2020-06-20T11:00:00\", \"2020-06-20T12:00:00\", \"2020-06-20T13:00:00\", \"2020-06-20T14:00:00\", \"2020-06-20T15:00:00\", \"2020-06-20T16:00:00\", \"2020-06-20T17:00:00\", \"2020-06-20T18:00:00\", \"2020-06-20T19:00:00\", \"2020-06-20T20:00:00\", \"2020-06-20T21:00:00\", \"2020-06-20T22:00:00\", \"2020-06-20T23:00:00\", \"2020-06-21T00:00:00\", \"2020-06-21T01:00:00\", \"2020-06-21T02:00:00\", \"2020-06-21T03:00:00\", \"2020-06-21T04:00:00\", \"2020-06-21T05:00:00\", \"2020-06-21T06:00:00\", \"2020-06-21T07:00:00\", \"2020-06-21T08:00:00\", \"2020-06-21T09:00:00\", \"2020-06-21T10:00:00\", \"2020-06-21T11:00:00\", \"2020-06-21T12:00:00\", \"2020-06-21T13:00:00\", \"2020-06-21T14:00:00\", \"2020-06-21T15:00:00\", \"2020-06-21T16:00:00\", \"2020-06-21T17:00:00\", \"2020-06-21T18:00:00\", \"2020-06-21T19:00:00\", \"2020-06-21T20:00:00\", \"2020-06-21T21:00:00\", \"2020-06-21T22:00:00\", \"2020-06-21T23:00:00\", \"2020-06-22T00:00:00\", \"2020-06-22T01:00:00\", \"2020-06-22T02:00:00\", \"2020-06-22T03:00:00\", \"2020-06-22T04:00:00\", \"2020-06-22T05:00:00\", \"2020-06-22T06:00:00\", \"2020-06-22T07:00:00\", \"2020-06-22T08:00:00\", \"2020-06-22T09:00:00\", \"2020-06-22T10:00:00\", \"2020-06-22T11:00:00\", \"2020-06-22T12:00:00\", \"2020-06-22T13:00:00\", \"2020-06-22T14:00:00\", \"2020-06-22T15:00:00\", \"2020-06-22T16:00:00\", \"2020-06-22T17:00:00\", \"2020-06-22T18:00:00\", \"2020-06-22T19:00:00\", \"2020-06-22T20:00:00\", \"2020-06-22T21:00:00\", \"2020-06-22T22:00:00\", \"2020-06-22T23:00:00\", \"2020-06-23T00:00:00\", \"2020-06-23T01:00:00\", \"2020-06-23T02:00:00\", \"2020-06-23T03:00:00\", \"2020-06-23T04:00:00\", \"2020-06-23T05:00:00\", \"2020-06-23T06:00:00\", \"2020-06-23T07:00:00\", \"2020-06-23T08:00:00\", \"2020-06-23T09:00:00\", \"2020-06-23T10:00:00\", \"2020-06-23T11:00:00\", \"2020-06-23T12:00:00\", \"2020-06-23T13:00:00\", \"2020-06-23T14:00:00\", \"2020-06-23T15:00:00\", \"2020-06-23T16:00:00\", \"2020-06-23T17:00:00\", \"2020-06-23T18:00:00\", \"2020-06-23T19:00:00\", \"2020-06-23T20:00:00\", \"2020-06-23T21:00:00\", \"2020-06-23T22:00:00\", \"2020-06-23T23:00:00\", \"2020-06-24T00:00:00\", \"2020-06-24T01:00:00\", \"2020-06-24T02:00:00\", \"2020-06-24T03:00:00\", \"2020-06-24T04:00:00\", \"2020-06-24T05:00:00\", \"2020-06-24T06:00:00\", \"2020-06-24T07:00:00\", \"2020-06-24T08:00:00\", \"2020-06-24T09:00:00\", \"2020-06-24T10:00:00\", \"2020-06-24T11:00:00\", \"2020-06-24T12:00:00\", \"2020-06-24T13:00:00\", \"2020-06-24T14:00:00\", \"2020-06-24T15:00:00\", \"2020-06-24T16:00:00\", \"2020-06-24T17:00:00\", \"2020-06-24T18:00:00\", \"2020-06-24T19:00:00\", \"2020-06-24T20:00:00\", \"2020-06-24T21:00:00\", \"2020-06-24T22:00:00\", \"2020-06-24T23:00:00\", \"2020-06-25T00:00:00\", \"2020-06-25T01:00:00\", \"2020-06-25T02:00:00\", \"2020-06-25T03:00:00\", \"2020-06-25T04:00:00\", \"2020-06-25T05:00:00\", \"2020-06-25T06:00:00\", \"2020-06-25T07:00:00\", \"2020-06-25T08:00:00\", \"2020-06-25T09:00:00\", \"2020-06-25T10:00:00\", \"2020-06-25T11:00:00\", \"2020-06-25T12:00:00\", \"2020-06-25T13:00:00\", \"2020-06-25T14:00:00\", \"2020-06-25T15:00:00\", \"2020-06-25T16:00:00\", \"2020-06-25T17:00:00\", \"2020-06-25T18:00:00\", \"2020-06-25T19:00:00\", \"2020-06-25T20:00:00\", \"2020-06-25T21:00:00\", \"2020-06-25T22:00:00\", \"2020-06-25T23:00:00\"], \"y\": [35638.44400202035, 32950.986060030715, 31520.627566629533, 32186.751446173483, 34713.02773207943, 38108.37482856695, 41414.63494613871, 44235.15456153814, 46613.671215680195, 48540.560171549165, 49693.22141468417, 49704.83986687048, 48652.0611345904, 47192.13823330014, 46132.71597071165, 45815.43344300817, 45913.85611237139, 45847.307655807126, 45391.3825257725, 44858.86067460473, 44658.54783276667, 44690.12777743324, 44240.14275253722, 42575.27192116128, 39726.903163281655, 36718.09613254492, 34959.23580327129, 35292.88112153193, 37485.83527485539, 40550.074400055026, 43530.39170865173, 46032.94823394574, 48104.131844100164, 49736.77835089216, 50610.53545978358, 50360.602714297056, 49065.38992492352, 47383.64972001615, 46124.25103161979, 45629.774076210575, 45574.438279234, 45377.93349178115, 44815.93525570894, 44201.02557517243, 43941.54245356312, 43936.444481368075, 43471.30644800617, 41811.61567458326, 38987.363936091, 36020.03298976543, 34318.27225293989, 34722.773113268224, 36998.36600349584, 40154.976713885146, 43235.298562434444, 45843.371257309365, 48023.46775647123, 49766.34258763944, 50749.62203419792, 50606.56902281402, 49413.76489275295, 47828.2634034222, 46657.38362013251, 46242.32158475295, 46256.09292864841, 46117.375642116494, 45601.034198386165, 45019.04624971386, 44779.35512577982, 44780.73441509146, 44309.067168651134, 42629.77680049538, 39773.27017085724, 36761.62531680888, 35004.25559573944, 35342.768210785034, 37543.043533124255, 40616.40766670086, 43606.57660272125, 46118.92023401949, 48199.09070840245, 49839.24749517444, 50718.42417997926, 50471.27015792426, 49175.70973433736, 47490.68103202843, 46224.087969789005, 45718.21312478416, 45647.035881449665, 45430.05975529499, 44842.82317745271, 44842.82317745271, 44842.82317745271, 44842.82317745271, 43348.258682021624, 41638.78766960885, 38759.89456975287, 35733.112104007494, 33967.14437298915, 34302.73606219699, 36504.7652754823, 39583.19474447035, 42580.741739788835, 45101.45397230287, 47189.59463891201, 48835.889775474614, 49717.9183417505, 49468.8778896466, 48165.26804034146, 46464.04687761593, 45172.42724997279, 44631.492789491465, 44514.14515124343, 44238.95239686448, 43580.67921971126, 42851.22021782811, 42458.5469531005, 42301.31688933385, 41665.13624580606, 39815.770223032785, 36783.733717378695, 33591.272559296915, 31648.034252486716, 31796.54268897386, 33802.452622804405, 36677.32153503317, 39465.65467067402, 41773.46480372565, 43647.13814153298, 45079.66010141375, 45750.981623982676, 45300.1574911918, 43802.80739264057, 41918.4388641898, 40456.81550134127, 39761.542807719474, 39507.9849694626, 39117.08289519082, 38365.854594927885, 37568.29969451891, 37134.23046859885, 36964.11811725129, 36345.06830178016, 34544.09696192834, 31592.70152658618, 28513.8254248136, 26717.515113900554, 27045.774160277797, 29264.64087674532, 32385.126196325582, 35450.86868154812, 38066.69774832804, 40277.506606428986, 42074.488598157746, 43143.747927120756, 43110.36566969449, 42050.76755152259, 40621.64475629115, 39629.74647440262, 39415.494120407384, 39650.92854629258, 39764.34956593736, 39518.48194800092, 39223.78219339775, 39286.516080423535, 39603.63965694872, 39458.81018910032, 38115.69658790725, 35602.584251806526, 32940.190943822105, 31534.89708445569, 32226.085597991747, 34777.42651788895, 38197.8382483937, 41529.16299996603, 44374.74724936215, 46778.32853737155, 48730.28213039513, 49908.008010561, 49944.69109973354, 48916.977004555236, 47482.118740182144, 46447.761114599314, 46155.5432238979, 46279.03053670066, 46237.54672368228, 45806.68623712105, 45299.22902941721, 45123.98083108975, 45180.62541924254, 44755.7050378238, 43115.898849930076, 40292.594736512496, 37308.85235022955, 35575.05666536092, 35933.7666280823, 38151.7854258632, 41241.089195511726, 44246.47114852989, 46774.09231828879, 48870.34057198613, 50528.05172233394, 51426.87347478529, 51202.00537286409, 49931.857227053544, 48275.181665707874, 47040.847620849236, 46571.43529404327, 46541.164125644726, 46369.72396676534, 45832.79035928433, 45242.94530733998, 45008.526814289406, 45028.493470710775, 44588.42006590086, 42953.793882421334, 40154.60673384644, 37212.340377447814, 35535.6442305588, 35965.209680818596, 38265.86716082203, 41447.542461309466, 44552.92889787437, 47186.066180760965, 49391.227267941314, 51159.16668712579, 52167.510721704544, 52049.52229833463, 50881.7827563064, 49321.345854998144, 48175.53057705216, 47785.53304701267, 47824.36889624668, 47710.71611509192, 47219.43917669567, 46662.51573334855, 46447.88911477203, 46474.332909430814, 46027.44363687213, 44372.931242586514, 41541.20258686017, 38554.33570670851, 36821.74395949922, 37185.03454844818, 39410.08784468746, 42507.99424026892, 45522.70543828586, 48059.591331592965, 50164.30406799593, 51829.003116618616, 52732.722063535504, 52510.11030348083, 51239.09214189944, 49577.998981717436, 48335.34146135159, 47853.402158380646, 47806.160457041406, 47613.11987289364, 47049.81883706423, 46428.74643177649, 46158.18646489406, 46137.076287170414, 45650.996446597834, 43965.46096044]}, {\"line\": {\"color\": \"rgba(0, 0, 0, 0)\"}, \"showlegend\": false, \"type\": \"scatter\", \"x\": [\"2020-06-15T00:00:00\", \"2020-06-15T01:00:00\", \"2020-06-15T02:00:00\", \"2020-06-15T03:00:00\", \"2020-06-15T04:00:00\", \"2020-06-15T05:00:00\", \"2020-06-15T06:00:00\", \"2020-06-15T07:00:00\", \"2020-06-15T08:00:00\", \"2020-06-15T09:00:00\", \"2020-06-15T10:00:00\", \"2020-06-15T11:00:00\", \"2020-06-15T12:00:00\", \"2020-06-15T13:00:00\", \"2020-06-15T14:00:00\", \"2020-06-15T15:00:00\", \"2020-06-15T16:00:00\", \"2020-06-15T17:00:00\", \"2020-06-15T18:00:00\", \"2020-06-15T19:00:00\", \"2020-06-15T20:00:00\", \"2020-06-15T21:00:00\", \"2020-06-15T22:00:00\", \"2020-06-15T23:00:00\", \"2020-06-16T00:00:00\", \"2020-06-16T01:00:00\", \"2020-06-16T02:00:00\", \"2020-06-16T03:00:00\", \"2020-06-16T04:00:00\", \"2020-06-16T05:00:00\", \"2020-06-16T06:00:00\", \"2020-06-16T07:00:00\", \"2020-06-16T08:00:00\", \"2020-06-16T09:00:00\", \"2020-06-16T10:00:00\", \"2020-06-16T11:00:00\", \"2020-06-16T12:00:00\", \"2020-06-16T13:00:00\", \"2020-06-16T14:00:00\", \"2020-06-16T15:00:00\", \"2020-06-16T16:00:00\", \"2020-06-16T17:00:00\", \"2020-06-16T18:00:00\", \"2020-06-16T19:00:00\", \"2020-06-16T20:00:00\", \"2020-06-16T21:00:00\", \"2020-06-16T22:00:00\", \"2020-06-16T23:00:00\", \"2020-06-17T00:00:00\", \"2020-06-17T01:00:00\", \"2020-06-17T02:00:00\", \"2020-06-17T03:00:00\", \"2020-06-17T04:00:00\", \"2020-06-17T05:00:00\", \"2020-06-17T06:00:00\", \"2020-06-17T07:00:00\", \"2020-06-17T08:00:00\", \"2020-06-17T09:00:00\", \"2020-06-17T10:00:00\", \"2020-06-17T11:00:00\", \"2020-06-17T12:00:00\", \"2020-06-17T13:00:00\", \"2020-06-17T14:00:00\", \"2020-06-17T15:00:00\", \"2020-06-17T16:00:00\", \"2020-06-17T17:00:00\", \"2020-06-17T18:00:00\", \"2020-06-17T19:00:00\", \"2020-06-17T20:00:00\", \"2020-06-17T21:00:00\", \"2020-06-17T22:00:00\", \"2020-06-17T23:00:00\", \"2020-06-18T00:00:00\", \"2020-06-18T01:00:00\", \"2020-06-18T02:00:00\", \"2020-06-18T03:00:00\", \"2020-06-18T04:00:00\", \"2020-06-18T05:00:00\", \"2020-06-18T06:00:00\", \"2020-06-18T07:00:00\", \"2020-06-18T08:00:00\", \"2020-06-18T09:00:00\", \"2020-06-18T10:00:00\", \"2020-06-18T11:00:00\", \"2020-06-18T12:00:00\", \"2020-06-18T13:00:00\", \"2020-06-18T14:00:00\", \"2020-06-18T15:00:00\", \"2020-06-18T16:00:00\", \"2020-06-18T17:00:00\", \"2020-06-18T18:00:00\", \"2020-06-18T18:00:00\", \"2020-06-18T18:00:00\", \"2020-06-18T18:00:00\", \"2020-06-18T22:00:00\", \"2020-06-18T23:00:00\", \"2020-06-19T00:00:00\", \"2020-06-19T01:00:00\", \"2020-06-19T02:00:00\", \"2020-06-19T03:00:00\", \"2020-06-19T04:00:00\", \"2020-06-19T05:00:00\", \"2020-06-19T06:00:00\", \"2020-06-19T07:00:00\", \"2020-06-19T08:00:00\", \"2020-06-19T09:00:00\", \"2020-06-19T10:00:00\", \"2020-06-19T11:00:00\", \"2020-06-19T12:00:00\", \"2020-06-19T13:00:00\", \"2020-06-19T14:00:00\", \"2020-06-19T15:00:00\", \"2020-06-19T16:00:00\", \"2020-06-19T17:00:00\", \"2020-06-19T18:00:00\", \"2020-06-19T19:00:00\", \"2020-06-19T20:00:00\", \"2020-06-19T21:00:00\", \"2020-06-19T22:00:00\", \"2020-06-19T23:00:00\", \"2020-06-20T00:00:00\", \"2020-06-20T01:00:00\", \"2020-06-20T02:00:00\", \"2020-06-20T03:00:00\", \"2020-06-20T04:00:00\", \"2020-06-20T05:00:00\", \"2020-06-20T06:00:00\", \"2020-06-20T07:00:00\", \"2020-06-20T08:00:00\", \"2020-06-20T09:00:00\", \"2020-06-20T10:00:00\", \"2020-06-20T11:00:00\", \"2020-06-20T12:00:00\", \"2020-06-20T13:00:00\", \"2020-06-20T14:00:00\", \"2020-06-20T15:00:00\", \"2020-06-20T16:00:00\", \"2020-06-20T17:00:00\", \"2020-06-20T18:00:00\", \"2020-06-20T19:00:00\", \"2020-06-20T20:00:00\", \"2020-06-20T21:00:00\", \"2020-06-20T22:00:00\", \"2020-06-20T23:00:00\", \"2020-06-21T00:00:00\", \"2020-06-21T01:00:00\", \"2020-06-21T02:00:00\", \"2020-06-21T03:00:00\", \"2020-06-21T04:00:00\", \"2020-06-21T05:00:00\", \"2020-06-21T06:00:00\", \"2020-06-21T07:00:00\", \"2020-06-21T08:00:00\", \"2020-06-21T09:00:00\", \"2020-06-21T10:00:00\", \"2020-06-21T11:00:00\", \"2020-06-21T12:00:00\", \"2020-06-21T13:00:00\", \"2020-06-21T14:00:00\", \"2020-06-21T15:00:00\", \"2020-06-21T16:00:00\", \"2020-06-21T17:00:00\", \"2020-06-21T18:00:00\", \"2020-06-21T19:00:00\", \"2020-06-21T20:00:00\", \"2020-06-21T21:00:00\", \"2020-06-21T22:00:00\", \"2020-06-21T23:00:00\", \"2020-06-22T00:00:00\", \"2020-06-22T01:00:00\", \"2020-06-22T02:00:00\", \"2020-06-22T03:00:00\", \"2020-06-22T04:00:00\", \"2020-06-22T05:00:00\", \"2020-06-22T06:00:00\", \"2020-06-22T07:00:00\", \"2020-06-22T08:00:00\", \"2020-06-22T09:00:00\", \"2020-06-22T10:00:00\", \"2020-06-22T11:00:00\", \"2020-06-22T12:00:00\", \"2020-06-22T13:00:00\", \"2020-06-22T14:00:00\", \"2020-06-22T15:00:00\", \"2020-06-22T16:00:00\", \"2020-06-22T17:00:00\", \"2020-06-22T18:00:00\", \"2020-06-22T19:00:00\", \"2020-06-22T20:00:00\", \"2020-06-22T21:00:00\", \"2020-06-22T22:00:00\", \"2020-06-22T23:00:00\", \"2020-06-23T00:00:00\", \"2020-06-23T01:00:00\", \"2020-06-23T02:00:00\", \"2020-06-23T03:00:00\", \"2020-06-23T04:00:00\", \"2020-06-23T05:00:00\", \"2020-06-23T06:00:00\", \"2020-06-23T07:00:00\", \"2020-06-23T08:00:00\", \"2020-06-23T09:00:00\", \"2020-06-23T10:00:00\", \"2020-06-23T11:00:00\", \"2020-06-23T12:00:00\", \"2020-06-23T13:00:00\", \"2020-06-23T14:00:00\", \"2020-06-23T15:00:00\", \"2020-06-23T16:00:00\", \"2020-06-23T17:00:00\", \"2020-06-23T18:00:00\", \"2020-06-23T19:00:00\", \"2020-06-23T20:00:00\", \"2020-06-23T21:00:00\", \"2020-06-23T22:00:00\", \"2020-06-23T23:00:00\", \"2020-06-24T00:00:00\", \"2020-06-24T01:00:00\", \"2020-06-24T02:00:00\", \"2020-06-24T03:00:00\", \"2020-06-24T04:00:00\", \"2020-06-24T05:00:00\", \"2020-06-24T06:00:00\", \"2020-06-24T07:00:00\", \"2020-06-24T08:00:00\", \"2020-06-24T09:00:00\", \"2020-06-24T10:00:00\", \"2020-06-24T11:00:00\", \"2020-06-24T12:00:00\", \"2020-06-24T13:00:00\", \"2020-06-24T14:00:00\", \"2020-06-24T15:00:00\", \"2020-06-24T16:00:00\", \"2020-06-24T17:00:00\", \"2020-06-24T18:00:00\", \"2020-06-24T19:00:00\", \"2020-06-24T20:00:00\", \"2020-06-24T21:00:00\", \"2020-06-24T22:00:00\", \"2020-06-24T23:00:00\", \"2020-06-25T00:00:00\", \"2020-06-25T01:00:00\", \"2020-06-25T02:00:00\", \"2020-06-25T03:00:00\", \"2020-06-25T04:00:00\", \"2020-06-25T05:00:00\", \"2020-06-25T06:00:00\", \"2020-06-25T07:00:00\", \"2020-06-25T08:00:00\", \"2020-06-25T09:00:00\", \"2020-06-25T10:00:00\", \"2020-06-25T11:00:00\", \"2020-06-25T12:00:00\", \"2020-06-25T13:00:00\", \"2020-06-25T14:00:00\", \"2020-06-25T15:00:00\", \"2020-06-25T16:00:00\", \"2020-06-25T17:00:00\", \"2020-06-25T18:00:00\", \"2020-06-25T19:00:00\", \"2020-06-25T20:00:00\", \"2020-06-25T21:00:00\", \"2020-06-25T22:00:00\", \"2020-06-25T23:00:00\"], \"y\": [33668.33389606156, 30863.952283120223, 29494.854057169083, 29996.52103403579, 32620.924965914222, 35800.5477343582, 39358.9205187887, 42256.89027102207, 44516.487439747085, 46542.149022641315, 47595.83302571598, 47589.46301183365, 46434.70534227762, 45255.051392063244, 44003.67130276823, 43863.84882246419, 43802.72844880311, 43614.975301971586, 43273.41718230096, 42775.44180465821, 42509.69337496088, 42578.56346606724, 42050.45129215662, 40654.50866420169, 37445.927267777115, 34655.18748302402, 32851.669661870554, 33194.82819114066, 35398.23868213802, 38500.00408235397, 41277.29955499395, 43981.310968246464, 45969.71032917782, 47691.065979043626, 48277.43827547575, 48421.56017017309, 46861.57989489021, 45340.446150307704, 43896.86783863193, 43575.02883374032, 43525.0385590429, 43335.342313844594, 42686.736790815194, 42210.227048335495, 41780.49784522082, 41817.32773324059, 41520.47383427358, 39585.70839687451, 36858.51596775757, 33745.0424783305, 32194.553196416207, 32715.629724175975, 34856.582928507756, 37937.50117408957, 41078.34660360633, 43788.59112143708, 45966.477185187105, 47601.622303387456, 48615.91798091602, 48521.434363911525, 47366.03053797202, 45774.49490280506, 44633.97506739972, 44193.66954132038, 44223.40227962092, 44104.00661385115, 43402.08318346258, 42923.08582421416, 42568.89766979327, 42688.64661284149, 42210.849361988934, 40556.3276617139, 37787.98885378131, 34646.91152296793, 32981.21731510273, 33245.94962682698, 35440.65990293148, 38594.25155583672, 41520.52934769234, 44074.770236799945, 46014.93786997701, 47634.778880117075, 48547.3737767901, 48409.9446800741, 47043.82505386813, 45334.55442980497, 44022.16586808443, 43682.850931930385, 43664.359871231776, 43416.31255504265, 42869.86680169242, 42696.412223002684, 42854.22282110837, 42700.2920322666, 41364.19535314292, 39546.09671207662, 36649.43119242256, 33768.41325486946, 31846.81702764697, 32255.021357133817, 34264.350798524516, 37527.94423652403, 40632.03129713469, 43236.998348640656, 45030.37005014056, 46698.82218948554, 47779.138307248526, 47422.989469620275, 46083.94185654849, 44361.09315346046, 43077.13390092384, 42551.96984177962, 42356.325018290474, 42177.78509406572, 41455.91673314113, 40893.38438882486, 40373.356548270756, 40127.52724917176, 39398.62661022866, 37648.8486125122, 34692.8434754688, 31539.578908619675, 29650.3742136764, 29743.542650781797, 31765.99614836026, 34546.15797967146, 37487.380807318164, 39762.34548653364, 41550.868445137385, 42874.15013278466, 43703.50103254002, 43262.78862986881, 41704.5164222133, 39851.73394616803, 38346.4949027336, 37732.57878511697, 37564.9482405471, 37021.75613999847, 36376.34948572972, 35447.41167043511, 35168.87699377372, 34877.04264037444, 34333.47753230233, 32407.476727819252, 29560.51172986927, 26480.234499743732, 24624.481028616647, 25106.651786420127, 27407.49280484485, 30318.972740886253, 33474.27270118824, 36122.4260971013, 38164.486502087886, 39915.699093681615, 40940.9351879098, 41027.909011496566, 39811.504899119034, 38656.17736805508, 37602.30932041738, 37373.95168423146, 37623.625154820795, 37459.33060622338, 37388.11063494074, 36960.41314467556, 37105.18832182151, 37506.528646708204, 37301.34647882083, 36017.55345594395, 33475.36940523503, 30966.67263835772, 29579.154980276217, 30297.243748113844, 32597.843639477433, 36200.47469544643, 39622.40833407499, 42324.61925027874, 44812.581212946025, 46589.091210366656, 47840.481390207366, 47808.81729878304, 46829.10751045132, 45302.8005595812, 44245.5270015677, 43841.53377806093, 44089.7693078748, 44116.38727474279, 43685.04678131207, 43110.65232995271, 43103.88428496406, 43074.394194327615, 42599.776780906606, 41065.89196289657, 38189.1242483732, 35344.44672164517, 33447.80693941185, 33881.20132791951, 36181.48009535246, 39149.692903572184, 42191.59032001234, 44722.67709038152, 46724.83042262245, 48460.23884916906, 49431.20222687401, 49020.947989682354, 47846.96328599771, 46161.44546848335, 45183.67773381202, 44504.13199616295, 44366.14567769569, 44344.89312596355, 43824.6335049026, 42947.70629703583, 42987.09554473749, 42907.61783369647, 42447.09502101575, 40944.14288646784, 38094.77186404062, 35030.70869228478, 33451.47348350486, 33800.88132930401, 36085.52272041489, 39242.43059947842, 42509.23125679895, 44996.38244391912, 47498.62095345298, 49010.57447421321, 50036.552393689104, 50053.490152794984, 48815.296258987764, 47150.66735893431, 46080.09025611595, 45627.72993619013, 45939.484069937906, 45736.10509058342, 45117.79560141577, 44514.87101037796, 44374.28665409112, 44378.474729657406, 43953.123819603315, 42235.62967250342, 39413.43849554769, 36429.39139333292, 34790.538103524595, 34966.33792982236, 37413.94630608536, 40497.5113383155, 43624.36826401622, 45985.6410580443, 48108.00964023294, 49670.124832359674, 50688.83432556009, 50505.63651971453, 48962.38482407405, 47372.196319685536, 46205.50165512755, 45828.826139676996, 45690.611709156314, 45598.25638711115, 45041.12688502722, 44316.79403061438, 44156.6949176607, 44067.45025046691, 43561.06679658873, 41731.53950694953]}, {\"fill\": \"tonexty\", \"fillcolor\": \"rgba(245, 0, 0, .47)\", \"mode\": \"none\", \"showlegend\": false, \"type\": \"scatter\", \"x\": [\"2020-06-15T00:00:00\", \"2020-06-15T01:00:00\", \"2020-06-15T02:00:00\", \"2020-06-15T03:00:00\", \"2020-06-15T04:00:00\", \"2020-06-15T05:00:00\", \"2020-06-15T06:00:00\", \"2020-06-15T07:00:00\", \"2020-06-15T08:00:00\", \"2020-06-15T09:00:00\", \"2020-06-15T10:00:00\", \"2020-06-15T11:00:00\", \"2020-06-15T12:00:00\", \"2020-06-15T13:00:00\", \"2020-06-15T14:00:00\", \"2020-06-15T15:00:00\", \"2020-06-15T16:00:00\", \"2020-06-15T17:00:00\", \"2020-06-15T18:00:00\", \"2020-06-15T19:00:00\", \"2020-06-15T20:00:00\", \"2020-06-15T21:00:00\", \"2020-06-15T22:00:00\", \"2020-06-15T23:00:00\", \"2020-06-16T00:00:00\", \"2020-06-16T01:00:00\", \"2020-06-16T02:00:00\", \"2020-06-16T03:00:00\", \"2020-06-16T04:00:00\", \"2020-06-16T05:00:00\", \"2020-06-16T06:00:00\", \"2020-06-16T07:00:00\", \"2020-06-16T08:00:00\", \"2020-06-16T09:00:00\", \"2020-06-16T10:00:00\", \"2020-06-16T11:00:00\", \"2020-06-16T12:00:00\", \"2020-06-16T13:00:00\", \"2020-06-16T14:00:00\", \"2020-06-16T15:00:00\", \"2020-06-16T16:00:00\", \"2020-06-16T17:00:00\", \"2020-06-16T18:00:00\", \"2020-06-16T19:00:00\", \"2020-06-16T20:00:00\", \"2020-06-16T21:00:00\", \"2020-06-16T22:00:00\", \"2020-06-16T23:00:00\", \"2020-06-17T00:00:00\", \"2020-06-17T01:00:00\", \"2020-06-17T02:00:00\", \"2020-06-17T03:00:00\", \"2020-06-17T04:00:00\", \"2020-06-17T05:00:00\", \"2020-06-17T06:00:00\", \"2020-06-17T07:00:00\", \"2020-06-17T08:00:00\", \"2020-06-17T09:00:00\", \"2020-06-17T10:00:00\", \"2020-06-17T11:00:00\", \"2020-06-17T12:00:00\", \"2020-06-17T13:00:00\", \"2020-06-17T14:00:00\", \"2020-06-17T15:00:00\", \"2020-06-17T16:00:00\", \"2020-06-17T17:00:00\", \"2020-06-17T18:00:00\", \"2020-06-17T19:00:00\", \"2020-06-17T20:00:00\", \"2020-06-17T21:00:00\", \"2020-06-17T22:00:00\", \"2020-06-17T23:00:00\", \"2020-06-18T00:00:00\", \"2020-06-18T01:00:00\", \"2020-06-18T02:00:00\", \"2020-06-18T03:00:00\", \"2020-06-18T04:00:00\", \"2020-06-18T05:00:00\", \"2020-06-18T06:00:00\", \"2020-06-18T07:00:00\", \"2020-06-18T08:00:00\", \"2020-06-18T09:00:00\", \"2020-06-18T10:00:00\", \"2020-06-18T11:00:00\", \"2020-06-18T12:00:00\", \"2020-06-18T13:00:00\", \"2020-06-18T14:00:00\", \"2020-06-18T15:00:00\", \"2020-06-18T16:00:00\", \"2020-06-18T17:00:00\", \"2020-06-18T18:00:00\", \"2020-06-18T18:00:00\", \"2020-06-18T18:00:00\", \"2020-06-18T18:00:00\", \"2020-06-18T22:00:00\", \"2020-06-18T23:00:00\", \"2020-06-19T00:00:00\", \"2020-06-19T01:00:00\", \"2020-06-19T02:00:00\", \"2020-06-19T03:00:00\", \"2020-06-19T04:00:00\", \"2020-06-19T05:00:00\", \"2020-06-19T06:00:00\", \"2020-06-19T07:00:00\", \"2020-06-19T08:00:00\", \"2020-06-19T09:00:00\", \"2020-06-19T10:00:00\", \"2020-06-19T11:00:00\", \"2020-06-19T12:00:00\", \"2020-06-19T13:00:00\", \"2020-06-19T14:00:00\", \"2020-06-19T15:00:00\", \"2020-06-19T16:00:00\", \"2020-06-19T17:00:00\", \"2020-06-19T18:00:00\", \"2020-06-19T19:00:00\", \"2020-06-19T20:00:00\", \"2020-06-19T21:00:00\", \"2020-06-19T22:00:00\", \"2020-06-19T23:00:00\", \"2020-06-20T00:00:00\", \"2020-06-20T01:00:00\", \"2020-06-20T02:00:00\", \"2020-06-20T03:00:00\", \"2020-06-20T04:00:00\", \"2020-06-20T05:00:00\", \"2020-06-20T06:00:00\", \"2020-06-20T07:00:00\", \"2020-06-20T08:00:00\", \"2020-06-20T09:00:00\", \"2020-06-20T10:00:00\", \"2020-06-20T11:00:00\", \"2020-06-20T12:00:00\", \"2020-06-20T13:00:00\", \"2020-06-20T14:00:00\", \"2020-06-20T15:00:00\", \"2020-06-20T16:00:00\", \"2020-06-20T17:00:00\", \"2020-06-20T18:00:00\", \"2020-06-20T19:00:00\", \"2020-06-20T20:00:00\", \"2020-06-20T21:00:00\", \"2020-06-20T22:00:00\", \"2020-06-20T23:00:00\", \"2020-06-21T00:00:00\", \"2020-06-21T01:00:00\", \"2020-06-21T02:00:00\", \"2020-06-21T03:00:00\", \"2020-06-21T04:00:00\", \"2020-06-21T05:00:00\", \"2020-06-21T06:00:00\", \"2020-06-21T07:00:00\", \"2020-06-21T08:00:00\", \"2020-06-21T09:00:00\", \"2020-06-21T10:00:00\", \"2020-06-21T11:00:00\", \"2020-06-21T12:00:00\", \"2020-06-21T13:00:00\", \"2020-06-21T14:00:00\", \"2020-06-21T15:00:00\", \"2020-06-21T16:00:00\", \"2020-06-21T17:00:00\", \"2020-06-21T18:00:00\", \"2020-06-21T19:00:00\", \"2020-06-21T20:00:00\", \"2020-06-21T21:00:00\", \"2020-06-21T22:00:00\", \"2020-06-21T23:00:00\", \"2020-06-22T00:00:00\", \"2020-06-22T01:00:00\", \"2020-06-22T02:00:00\", \"2020-06-22T03:00:00\", \"2020-06-22T04:00:00\", \"2020-06-22T05:00:00\", \"2020-06-22T06:00:00\", \"2020-06-22T07:00:00\", \"2020-06-22T08:00:00\", \"2020-06-22T09:00:00\", \"2020-06-22T10:00:00\", \"2020-06-22T11:00:00\", \"2020-06-22T12:00:00\", \"2020-06-22T13:00:00\", \"2020-06-22T14:00:00\", \"2020-06-22T15:00:00\", \"2020-06-22T16:00:00\", \"2020-06-22T17:00:00\", \"2020-06-22T18:00:00\", \"2020-06-22T19:00:00\", \"2020-06-22T20:00:00\", \"2020-06-22T21:00:00\", \"2020-06-22T22:00:00\", \"2020-06-22T23:00:00\", \"2020-06-23T00:00:00\", \"2020-06-23T01:00:00\", \"2020-06-23T02:00:00\", \"2020-06-23T03:00:00\", \"2020-06-23T04:00:00\", \"2020-06-23T05:00:00\", \"2020-06-23T06:00:00\", \"2020-06-23T07:00:00\", \"2020-06-23T08:00:00\", \"2020-06-23T09:00:00\", \"2020-06-23T10:00:00\", \"2020-06-23T11:00:00\", \"2020-06-23T12:00:00\", \"2020-06-23T13:00:00\", \"2020-06-23T14:00:00\", \"2020-06-23T15:00:00\", \"2020-06-23T16:00:00\", \"2020-06-23T17:00:00\", \"2020-06-23T18:00:00\", \"2020-06-23T19:00:00\", \"2020-06-23T20:00:00\", \"2020-06-23T21:00:00\", \"2020-06-23T22:00:00\", \"2020-06-23T23:00:00\", \"2020-06-24T00:00:00\", \"2020-06-24T01:00:00\", \"2020-06-24T02:00:00\", \"2020-06-24T03:00:00\", \"2020-06-24T04:00:00\", \"2020-06-24T05:00:00\", \"2020-06-24T06:00:00\", \"2020-06-24T07:00:00\", \"2020-06-24T08:00:00\", \"2020-06-24T09:00:00\", \"2020-06-24T10:00:00\", \"2020-06-24T11:00:00\", \"2020-06-24T12:00:00\", \"2020-06-24T13:00:00\", \"2020-06-24T14:00:00\", \"2020-06-24T15:00:00\", \"2020-06-24T16:00:00\", \"2020-06-24T17:00:00\", \"2020-06-24T18:00:00\", \"2020-06-24T19:00:00\", \"2020-06-24T20:00:00\", \"2020-06-24T21:00:00\", \"2020-06-24T22:00:00\", \"2020-06-24T23:00:00\", \"2020-06-25T00:00:00\", \"2020-06-25T01:00:00\", \"2020-06-25T02:00:00\", \"2020-06-25T03:00:00\", \"2020-06-25T04:00:00\", \"2020-06-25T05:00:00\", \"2020-06-25T06:00:00\", \"2020-06-25T07:00:00\", \"2020-06-25T08:00:00\", \"2020-06-25T09:00:00\", \"2020-06-25T10:00:00\", \"2020-06-25T11:00:00\", \"2020-06-25T12:00:00\", \"2020-06-25T13:00:00\", \"2020-06-25T14:00:00\", \"2020-06-25T15:00:00\", \"2020-06-25T16:00:00\", \"2020-06-25T17:00:00\", \"2020-06-25T18:00:00\", \"2020-06-25T19:00:00\", \"2020-06-25T20:00:00\", \"2020-06-25T21:00:00\", \"2020-06-25T22:00:00\", \"2020-06-25T23:00:00\"], \"y\": [37895.31374160596, 35104.21195617266, 33579.168484311034, 34092.484119734734, 36749.78885972148, 40208.47567266999, 43457.19386690404, 46201.35202982564, 48595.04142996296, 50727.141708273, 51730.05645687427, 51870.62038823655, 50803.27756947453, 49371.699064236935, 48069.10331079797, 47913.980638324036, 47993.45363704892, 47871.93706942802, 47480.42274253013, 46821.70894078886, 46822.83159335977, 46669.50419558406, 46302.07976192566, 44732.84795674425, 41800.697810014746, 38938.34929090851, 37158.10498359752, 37438.720274862564, 39713.88548984435, 42581.02029318131, 45572.51424084971, 48148.124265779865, 50185.66117304324, 51953.53421294328, 52646.56659247967, 52459.64704110537, 51146.92803405991, 49519.40929614046, 48259.528196877414, 47706.74742311546, 47711.58507365408, 47298.80751499351, 46865.31759384026, 46191.02778313834, 46053.87048259556, 46036.03243299665, 45652.22898685697, 43941.894591308075, 41018.82002460238, 38251.17420517999, 36567.663624222085, 36895.464174824214, 39025.22964890912, 42300.49365503444, 45383.13789819158, 47874.47880672311, 50220.41338475808, 51782.193331812196, 52763.89717595095, 52657.64188975076, 51594.95392792307, 49850.13876064064, 48588.40088367973, 48383.00561047028, 48334.28446807658, 48123.39753861881, 47669.988656915055, 47144.06030410342, 46777.171794722955, 46988.864346227725, 46292.21270538779, 44564.824238952686, 41790.36444935691, 38758.8903834438, 37133.648337532, 37349.80852390944, 39793.95933427092, 42689.142003661946, 45814.56660492916, 48202.81816430572, 50116.53848382924, 51736.240293373725, 52936.67260560227, 52588.7367577262, 51068.04368087636, 49572.13639413208, 48214.827387010395, 47855.093543047136, 47751.35398404316, 47540.397258832854, 46914.26276222795, 46868.66542936095, 46805.08303321228, 46979.392235709856, 45445.071632854226, 43731.50728789156, 40820.34509208481, 37942.18186326356, 36022.13918992495, 36348.6020679311, 38633.40919085082, 41617.31145316784, 44714.172560041116, 47435.64321581233, 49329.855707697134, 50823.34967615644, 51833.01068757837, 51454.02108611754, 50292.36493896485, 48499.5220437605, 47426.579907359876, 46606.776499310516, 46396.24392807141, 46338.422476097236, 45767.93987062939, 44750.825147389885, 44681.13157170066, 44277.7894457649, 43891.181753552315, 41906.13653370283, 38913.25146945443, 35596.20427310739, 33899.2505795904, 33926.42285682858, 35846.447707070154, 38848.36867503555, 41551.84615940586, 43913.92914836855, 45808.04620534966, 47198.30978100807, 47815.717997873304, 47358.74425773626, 45796.04230522111, 43995.42961112932, 42529.824775275934, 42018.091496554545, 41601.66447908236, 41037.92368805966, 40398.67046862004, 39657.87359535435, 39241.71070293015, 39110.93034192006, 38459.939875911004, 36707.35597988454, 33809.32351516183, 30571.77204405164, 28755.23301599515, 29166.83549728362, 31356.271299393735, 34530.051225013034, 37567.21945978714, 40226.96184796051, 42356.573280647295, 44159.16754447617, 45213.89015018623, 45242.67389481432, 44176.56798541458, 42617.07476856757, 41792.24882648811, 41486.48978980255, 41688.529706954694, 41905.481679212055, 41544.17490787395, 41398.62585212651, 41444.16065832963, 41624.918860480815, 41383.81457657547, 40270.74427217097, 37551.23144930315, 35073.009075272785, 33791.46586237364, 34287.24890634997, 36855.08790827432, 40341.47065131812, 43673.85191010249, 46411.40961133683, 48867.286884335444, 50712.22895313097, 51960.290836686356, 52047.483938895166, 51048.429594663, 49668.263335910335, 48560.67106048236, 48217.35174274672, 48393.041672022955, 48348.28053098903, 47895.73629082588, 47512.84002417395, 47321.125068024005, 47242.73808354391, 46739.23908680152, 44979.80179437646, 42315.08980375888, 39369.56689013396, 37807.597738358556, 38207.03052612013, 40535.60425133038, 43265.479527714095, 46321.06125855709, 48797.38588822918, 50988.259395786656, 52856.15829435088, 53432.44722540441, 53209.04324622305, 52070.56592928448, 50307.05089248537, 49233.63421156668, 48757.15600592496, 48564.55173318151, 48567.59256536786, 47854.48687060928, 47218.72131060216, 47255.77046880243, 46943.21621680863, 46741.4339897382, 45003.67319732263, 42290.621063784696, 39355.39630487989, 37595.44474215269, 38020.72644629927, 40460.304694617385, 43479.316305912645, 46550.064049761415, 49276.970429523775, 51560.40515730144, 53213.286223780975, 54217.21582936858, 54215.53491230634, 52968.49668229764, 51317.0052630452, 50173.32720754729, 49825.313786396415, 49917.31802240374, 49862.192080516106, 49417.31189265162, 48635.16306519526, 48558.21496900798, 48654.99380234294, 48216.06545342835, 46395.71659553175, 43511.18940235361, 40706.17366526893, 39050.39850231838, 39278.721382371565, 41495.87224616215, 44627.650649809926, 47415.293991492064, 50105.57971774853, 52177.32259125275, 53974.53760517669, 54813.678885548674, 54687.687055752234, 53335.094473261706, 51485.251801749735, 50447.837862087494, 50087.77747886228, 49966.25017346356, 49898.99977039736, 49069.91181701474, 48541.52642072293, 47988.22597608359, 48133.53181978718, 47758.20226822656, 46145.945756544796]}],\n",
       "                        {\"font\": {\"color\": \"#cdc6c6\", \"family\": \"Arial\", \"size\": 15}, \"legend\": {\"font\": {\"color\": \"#cdc6c6\"}}, \"paper_bgcolor\": \"#383838\", \"plot_bgcolor\": \"#383838\", \"template\": {\"data\": {\"bar\": [{\"error_x\": {\"color\": \"#2a3f5f\"}, \"error_y\": {\"color\": \"#2a3f5f\"}, \"marker\": {\"line\": {\"color\": \"#E5ECF6\", \"width\": 0.5}}, \"type\": \"bar\"}], \"barpolar\": [{\"marker\": {\"line\": {\"color\": \"#E5ECF6\", \"width\": 0.5}}, \"type\": \"barpolar\"}], \"carpet\": [{\"aaxis\": {\"endlinecolor\": \"#2a3f5f\", \"gridcolor\": \"white\", \"linecolor\": \"white\", \"minorgridcolor\": \"white\", \"startlinecolor\": \"#2a3f5f\"}, \"baxis\": {\"endlinecolor\": \"#2a3f5f\", \"gridcolor\": \"white\", \"linecolor\": \"white\", \"minorgridcolor\": \"white\", \"startlinecolor\": \"#2a3f5f\"}, \"type\": \"carpet\"}], \"choropleth\": [{\"colorbar\": {\"outlinewidth\": 0, \"ticks\": \"\"}, \"type\": \"choropleth\"}], \"contour\": [{\"colorbar\": {\"outlinewidth\": 0, \"ticks\": \"\"}, \"colorscale\": [[0.0, \"#0d0887\"], [0.1111111111111111, \"#46039f\"], [0.2222222222222222, \"#7201a8\"], [0.3333333333333333, \"#9c179e\"], [0.4444444444444444, \"#bd3786\"], [0.5555555555555556, \"#d8576b\"], [0.6666666666666666, \"#ed7953\"], [0.7777777777777778, \"#fb9f3a\"], [0.8888888888888888, \"#fdca26\"], [1.0, \"#f0f921\"]], \"type\": \"contour\"}], \"contourcarpet\": [{\"colorbar\": {\"outlinewidth\": 0, \"ticks\": \"\"}, \"type\": \"contourcarpet\"}], \"heatmap\": [{\"colorbar\": {\"outlinewidth\": 0, \"ticks\": \"\"}, \"colorscale\": [[0.0, \"#0d0887\"], [0.1111111111111111, \"#46039f\"], [0.2222222222222222, \"#7201a8\"], [0.3333333333333333, \"#9c179e\"], [0.4444444444444444, \"#bd3786\"], [0.5555555555555556, \"#d8576b\"], [0.6666666666666666, \"#ed7953\"], [0.7777777777777778, \"#fb9f3a\"], [0.8888888888888888, \"#fdca26\"], [1.0, \"#f0f921\"]], \"type\": \"heatmap\"}], \"heatmapgl\": [{\"colorbar\": {\"outlinewidth\": 0, \"ticks\": \"\"}, \"colorscale\": [[0.0, \"#0d0887\"], [0.1111111111111111, \"#46039f\"], [0.2222222222222222, \"#7201a8\"], [0.3333333333333333, \"#9c179e\"], [0.4444444444444444, \"#bd3786\"], [0.5555555555555556, \"#d8576b\"], [0.6666666666666666, \"#ed7953\"], [0.7777777777777778, \"#fb9f3a\"], [0.8888888888888888, \"#fdca26\"], [1.0, \"#f0f921\"]], \"type\": \"heatmapgl\"}], \"histogram\": [{\"marker\": {\"colorbar\": {\"outlinewidth\": 0, \"ticks\": \"\"}}, \"type\": \"histogram\"}], \"histogram2d\": [{\"colorbar\": {\"outlinewidth\": 0, \"ticks\": \"\"}, \"colorscale\": [[0.0, \"#0d0887\"], [0.1111111111111111, \"#46039f\"], [0.2222222222222222, \"#7201a8\"], [0.3333333333333333, \"#9c179e\"], [0.4444444444444444, \"#bd3786\"], [0.5555555555555556, \"#d8576b\"], [0.6666666666666666, \"#ed7953\"], [0.7777777777777778, \"#fb9f3a\"], [0.8888888888888888, \"#fdca26\"], [1.0, \"#f0f921\"]], \"type\": \"histogram2d\"}], \"histogram2dcontour\": [{\"colorbar\": {\"outlinewidth\": 0, \"ticks\": \"\"}, \"colorscale\": [[0.0, \"#0d0887\"], [0.1111111111111111, \"#46039f\"], [0.2222222222222222, \"#7201a8\"], [0.3333333333333333, \"#9c179e\"], [0.4444444444444444, \"#bd3786\"], [0.5555555555555556, \"#d8576b\"], [0.6666666666666666, \"#ed7953\"], [0.7777777777777778, \"#fb9f3a\"], [0.8888888888888888, \"#fdca26\"], [1.0, \"#f0f921\"]], \"type\": \"histogram2dcontour\"}], \"mesh3d\": [{\"colorbar\": {\"outlinewidth\": 0, \"ticks\": \"\"}, \"type\": \"mesh3d\"}], \"parcoords\": [{\"line\": {\"colorbar\": {\"outlinewidth\": 0, \"ticks\": \"\"}}, \"type\": \"parcoords\"}], \"pie\": [{\"automargin\": true, \"type\": \"pie\"}], \"scatter\": [{\"marker\": {\"colorbar\": {\"outlinewidth\": 0, \"ticks\": \"\"}}, \"type\": \"scatter\"}], \"scatter3d\": [{\"line\": {\"colorbar\": {\"outlinewidth\": 0, \"ticks\": \"\"}}, \"marker\": {\"colorbar\": {\"outlinewidth\": 0, \"ticks\": \"\"}}, \"type\": \"scatter3d\"}], \"scattercarpet\": [{\"marker\": {\"colorbar\": {\"outlinewidth\": 0, \"ticks\": \"\"}}, \"type\": \"scattercarpet\"}], \"scattergeo\": [{\"marker\": {\"colorbar\": {\"outlinewidth\": 0, \"ticks\": \"\"}}, \"type\": \"scattergeo\"}], \"scattergl\": [{\"marker\": {\"colorbar\": {\"outlinewidth\": 0, \"ticks\": \"\"}}, \"type\": \"scattergl\"}], \"scattermapbox\": [{\"marker\": {\"colorbar\": {\"outlinewidth\": 0, \"ticks\": \"\"}}, \"type\": \"scattermapbox\"}], \"scatterpolar\": [{\"marker\": {\"colorbar\": {\"outlinewidth\": 0, \"ticks\": \"\"}}, \"type\": \"scatterpolar\"}], \"scatterpolargl\": [{\"marker\": {\"colorbar\": {\"outlinewidth\": 0, \"ticks\": \"\"}}, \"type\": \"scatterpolargl\"}], \"scatterternary\": [{\"marker\": {\"colorbar\": {\"outlinewidth\": 0, \"ticks\": \"\"}}, \"type\": \"scatterternary\"}], \"surface\": [{\"colorbar\": {\"outlinewidth\": 0, \"ticks\": \"\"}, \"colorscale\": [[0.0, \"#0d0887\"], [0.1111111111111111, \"#46039f\"], [0.2222222222222222, \"#7201a8\"], [0.3333333333333333, \"#9c179e\"], [0.4444444444444444, \"#bd3786\"], [0.5555555555555556, \"#d8576b\"], [0.6666666666666666, \"#ed7953\"], [0.7777777777777778, \"#fb9f3a\"], [0.8888888888888888, \"#fdca26\"], [1.0, \"#f0f921\"]], \"type\": \"surface\"}], \"table\": [{\"cells\": {\"fill\": {\"color\": \"#EBF0F8\"}, \"line\": {\"color\": \"white\"}}, \"header\": {\"fill\": {\"color\": \"#C8D4E3\"}, \"line\": {\"color\": \"white\"}}, \"type\": \"table\"}]}, \"layout\": {\"annotationdefaults\": {\"arrowcolor\": \"#2a3f5f\", \"arrowhead\": 0, \"arrowwidth\": 1}, \"coloraxis\": {\"colorbar\": {\"outlinewidth\": 0, \"ticks\": \"\"}}, \"colorscale\": {\"diverging\": [[0, \"#8e0152\"], [0.1, \"#c51b7d\"], [0.2, \"#de77ae\"], [0.3, \"#f1b6da\"], [0.4, \"#fde0ef\"], [0.5, \"#f7f7f7\"], [0.6, \"#e6f5d0\"], [0.7, \"#b8e186\"], [0.8, \"#7fbc41\"], [0.9, \"#4d9221\"], [1, \"#276419\"]], \"sequential\": [[0.0, \"#0d0887\"], [0.1111111111111111, \"#46039f\"], [0.2222222222222222, \"#7201a8\"], [0.3333333333333333, \"#9c179e\"], [0.4444444444444444, \"#bd3786\"], [0.5555555555555556, \"#d8576b\"], [0.6666666666666666, \"#ed7953\"], [0.7777777777777778, \"#fb9f3a\"], [0.8888888888888888, \"#fdca26\"], [1.0, \"#f0f921\"]], \"sequentialminus\": [[0.0, \"#0d0887\"], [0.1111111111111111, \"#46039f\"], [0.2222222222222222, \"#7201a8\"], [0.3333333333333333, \"#9c179e\"], [0.4444444444444444, \"#bd3786\"], [0.5555555555555556, \"#d8576b\"], [0.6666666666666666, \"#ed7953\"], [0.7777777777777778, \"#fb9f3a\"], [0.8888888888888888, \"#fdca26\"], [1.0, \"#f0f921\"]]}, \"colorway\": [\"#636efa\", \"#EF553B\", \"#00cc96\", \"#ab63fa\", \"#FFA15A\", \"#19d3f3\", \"#FF6692\", \"#B6E880\", \"#FF97FF\", \"#FECB52\"], \"font\": {\"color\": \"#2a3f5f\"}, \"geo\": {\"bgcolor\": \"white\", \"lakecolor\": \"white\", \"landcolor\": \"#E5ECF6\", \"showlakes\": true, \"showland\": true, \"subunitcolor\": \"white\"}, \"hoverlabel\": {\"align\": \"left\"}, \"hovermode\": \"closest\", \"mapbox\": {\"style\": \"light\"}, \"paper_bgcolor\": \"white\", \"plot_bgcolor\": \"#E5ECF6\", \"polar\": {\"angularaxis\": {\"gridcolor\": \"white\", \"linecolor\": \"white\", \"ticks\": \"\"}, \"bgcolor\": \"#E5ECF6\", \"radialaxis\": {\"gridcolor\": \"white\", \"linecolor\": \"white\", \"ticks\": \"\"}}, \"scene\": {\"xaxis\": {\"backgroundcolor\": \"#E5ECF6\", \"gridcolor\": \"white\", \"gridwidth\": 2, \"linecolor\": \"white\", \"showbackground\": true, \"ticks\": \"\", \"zerolinecolor\": \"white\"}, \"yaxis\": {\"backgroundcolor\": \"#E5ECF6\", \"gridcolor\": \"white\", \"gridwidth\": 2, \"linecolor\": \"white\", \"showbackground\": true, \"ticks\": \"\", \"zerolinecolor\": \"white\"}, \"zaxis\": {\"backgroundcolor\": \"#E5ECF6\", \"gridcolor\": \"white\", \"gridwidth\": 2, \"linecolor\": \"white\", \"showbackground\": true, \"ticks\": \"\", \"zerolinecolor\": \"white\"}}, \"shapedefaults\": {\"line\": {\"color\": \"#2a3f5f\"}}, \"ternary\": {\"aaxis\": {\"gridcolor\": \"white\", \"linecolor\": \"white\", \"ticks\": \"\"}, \"baxis\": {\"gridcolor\": \"white\", \"linecolor\": \"white\", \"ticks\": \"\"}, \"bgcolor\": \"#E5ECF6\", \"caxis\": {\"gridcolor\": \"white\", \"linecolor\": \"white\", \"ticks\": \"\"}}, \"title\": {\"x\": 0.05}, \"xaxis\": {\"automargin\": true, \"gridcolor\": \"white\", \"linecolor\": \"white\", \"ticks\": \"\", \"title\": {\"standoff\": 15}, \"zerolinecolor\": \"white\", \"zerolinewidth\": 2}, \"yaxis\": {\"automargin\": true, \"gridcolor\": \"white\", \"linecolor\": \"white\", \"ticks\": \"\", \"title\": {\"standoff\": 15}, \"zerolinecolor\": \"white\", \"zerolinewidth\": 2}}}, \"title\": {\"text\": \"XXXX\", \"x\": 0.4, \"xanchor\": \"center\", \"y\": 0.95, \"yanchor\": \"top\"}, \"xaxis\": {\"tickfont\": {\"color\": \"#cdc6c6\"}, \"title\": {\"text\": \"Time\"}}, \"yaxis\": {\"tickfont\": {\"color\": \"#cdc6c6\"}, \"title\": {\"text\": \"Energy in MWh\"}}},\n",
       "                        {\"responsive\": true}\n",
       "                    ).then(function(){\n",
       "                            \n",
       "var gd = document.getElementById('e2eb7c53-62c2-4286-88c4-97870a3fdf5c');\n",
       "var x = new MutationObserver(function (mutations, observer) {{\n",
       "        var display = window.getComputedStyle(gd).display;\n",
       "        if (!display || display === 'none') {{\n",
       "            console.log([gd, 'removed!']);\n",
       "            Plotly.purge(gd);\n",
       "            observer.disconnect();\n",
       "        }}\n",
       "}});\n",
       "\n",
       "// Listen for the removal of the full notebook cells\n",
       "var notebookContainer = gd.closest('#notebook-container');\n",
       "if (notebookContainer) {{\n",
       "    x.observe(notebookContainer, {childList: true});\n",
       "}}\n",
       "\n",
       "// Listen for the clearing of the current output cell\n",
       "var outputEl = gd.closest('.output');\n",
       "if (outputEl) {{\n",
       "    x.observe(outputEl, {childList: true});\n",
       "}}\n",
       "\n",
       "                        })\n",
       "                };\n",
       "                });\n",
       "            </script>\n",
       "        </div>"
      ]
     },
     "metadata": {},
     "output_type": "display_data"
    }
   ],
   "source": [
    "fig = go.Figure()\n",
    "\n",
    "fig.add_trace(go.Scatter(x=prophet_train_days.index, y=prophet_train_days['y'],\n",
    "                         name='real data'))\n",
    "\n",
    "\n",
    "fig.add_trace(go.Scatter(x=forecast['ds'], y=forecast['yhat'],\n",
    "                         name='forecast'))\n",
    "\n",
    "fig.add_trace(go.Scatter(x=forecast['ds'], y=forecast['yhat_lower'],\n",
    "                         showlegend=False, line_color='rgba(0, 0, 0, 0)'))\n",
    "\n",
    "fig.add_trace(go.Scatter(x=forecast['ds'], y=forecast['yhat_upper'], mode='none',\n",
    "                         showlegend=False, fill='tonexty', fillcolor='rgba(245, 0, 0, .47)'))\n",
    "\n",
    "fig.update_layout(title={'text':'XXXX',\n",
    "                         'y':0.95,\n",
    "                         'x':0.4,\n",
    "                         'xanchor': 'center',\n",
    "                         'yanchor': 'top'},\n",
    "                xaxis_title=f'Time',\n",
    "                yaxis_title=\"Energy in MWh\",\n",
    "                font=dict(family=\"Arial\", size=15, color=font_color),\n",
    "                xaxis=dict(tickfont=dict(color=font_color)),\n",
    "                yaxis=dict(tickfont=dict(color=font_color)),\n",
    "                legend=dict(font=dict(color=font_color)))\n",
    "\n",
    "\n",
    "fig.layout.paper_bgcolor = plot_bgcolor\n",
    "fig.layout.plot_bgcolor = plot_bgcolor\n",
    "\n",
    "fig.show()"
   ]
  },
  {
   "cell_type": "code",
   "execution_count": null,
   "metadata": {},
   "outputs": [],
   "source": []
  }
 ],
 "metadata": {
  "kernelspec": {
   "display_name": "Python 3",
   "language": "python",
   "name": "python3"
  },
  "language_info": {
   "codemirror_mode": {
    "name": "ipython",
    "version": 3
   },
   "file_extension": ".py",
   "mimetype": "text/x-python",
   "name": "python",
   "nbconvert_exporter": "python",
   "pygments_lexer": "ipython3",
   "version": "3.7.6"
  }
 },
 "nbformat": 4,
 "nbformat_minor": 4
}
